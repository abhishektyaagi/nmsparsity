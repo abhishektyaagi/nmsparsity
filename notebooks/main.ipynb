{
 "cells": [
  {
   "cell_type": "code",
   "execution_count": 1,
   "metadata": {},
   "outputs": [],
   "source": [
    "import torch\n",
    "import torch.nn.functional as F\n",
    "import torch.multiprocessing as mp\n",
    "import torch.distributed as dist\n",
    "from torch.nn.parallel import DistributedDataParallel\n",
    "from torch.utils.tensorboard import SummaryWriter\n",
    "import pytorch_lightning as pl\n",
    "import random\n",
    "import dotenv\n",
    "import omegaconf\n",
    "import hydra\n",
    "import logging\n",
    "import wandb\n",
    "from datetime import date\n",
    "import dotenv\n",
    "import os\n",
    "import pathlib\n",
    "from typing import Dict, Any\n",
    "from copy import deepcopy\n",
    "\n",
    "from rigl_torch.models import ModelFactory\n",
    "from rigl_torch.rigl_scheduler import RigLScheduler\n",
    "from rigl_torch.rigl_constant_fan import RigLConstFanScheduler\n",
    "from rigl_torch.datasets import get_dataloaders\n",
    "from rigl_torch.optim import (\n",
    "    get_optimizer,\n",
    "    get_lr_scheduler,\n",
    ")\n",
    "from rigl_torch.utils.checkpoint import Checkpoint\n",
    "from rigl_torch.utils.rigl_utils import get_T_end, get_fan_in_after_ablation, get_conv_idx_from_flat_idx\n",
    "from hydra import initialize, compose\n",
    "\n"
   ]
  },
  {
   "cell_type": "code",
   "execution_count": 14,
   "metadata": {},
   "outputs": [
    {
     "name": "stdout",
     "output_type": "stream",
     "text": [
      "resnet50\n"
     ]
    }
   ],
   "source": [
    "with initialize(\"../configs\", version_base=\"1.2.0\"):\n",
    "    cfg = compose(\n",
    "        \"config.yaml\",\n",
    "        overrides=[\n",
    "            \"dataset=imagenet\",\n",
    "            \"compute.distributed=False\",\n",
    "            \"model=resnet50\"\n",
    "            ])\n",
    "dotenv.load_dotenv(\"../.env\")\n",
    "os.environ[\"IMAGE_NET_PATH\"]\n",
    "print(cfg.model.name)"
   ]
  },
  {
   "cell_type": "code",
   "execution_count": 15,
   "metadata": {},
   "outputs": [
    {
     "name": "stderr",
     "output_type": "stream",
     "text": [
      "Global seed set to 42\n",
      "INFO:/home/user/condensed-sparsity/src/rigl_torch/models/model_factory.py:Loading model resnet50/imagenet using <function get_imagenet_resnet50 at 0x7f0a9cbb28b0> with args: () and kwargs: {}\n"
     ]
    }
   ],
   "source": [
    "run_id = \"vchnjrf5\" \n",
    "rank=0\n",
    "# checkpoint = Checkpoint.load_last_checkpoint(run_id=run_id, parent_dir = cfg.paths.checkpoints\n",
    "checkpoint=None\n",
    "if checkpoint is not None:\n",
    "    run_id = checkpoint.run_id\n",
    "    optimizer_state = checkpoint.optimizer\n",
    "    scheduler_state = checkpoint.scheduler\n",
    "    pruner_state = checkpoint.pruner\n",
    "    model_state = checkpoint.model\n",
    "    cfg = checkpoint.cfg\n",
    "else:\n",
    "    run_id, optimizer_state, scheduler_state, pruner_state, model_state = (\n",
    "        None,\n",
    "        None,\n",
    "        None,\n",
    "        None,\n",
    "        None,\n",
    "    )\n",
    "\n",
    "\n",
    "    # cfg.compute.distributed=False\n",
    "    \n",
    "pl.seed_everything(cfg.training.seed)\n",
    "use_cuda = not cfg.compute.no_cuda and torch.cuda.is_available()\n",
    "if not use_cuda:\n",
    "    raise SystemError(\"GPU has stopped responding...waiting to die!\")\n",
    "    logger.warning(\n",
    "        \"Using CPU! Verify cfg.compute.no_cuda and \"\n",
    "        \"torch.cuda.is_available() are properly set if this is unexpected\"\n",
    "    )\n",
    "\n",
    "if cfg.compute.distributed:\n",
    "    device = torch.device(f\"cuda:{rank}\")\n",
    "else:\n",
    "    device = torch.device(\"cuda\" if use_cuda else \"cpu\")\n",
    "# train_loader, test_loader = get_dataloaders(cfg)\n",
    "\n",
    "model = ModelFactory.load_model(\n",
    "    model=cfg.model.name, dataset=cfg.dataset.name\n",
    ")\n",
    "model.to(device)\n",
    "if cfg.compute.distributed:\n",
    "    model = DistributedDataParallel(model, device_ids=[rank])\n",
    "if model_state is not None:\n",
    "    try:\n",
    "        model.load_state_dict(model_state)\n",
    "    except RuntimeError:\n",
    "        model_state = checkpoint.get_single_process_model_state_from_distributed_state()\n",
    "        model.load_state_dict(model_state)\n",
    "        \n",
    "optimizer = get_optimizer(cfg, model, state_dict=optimizer_state)\n",
    "scheduler = get_lr_scheduler(cfg, optimizer, state_dict=scheduler_state)\n",
    "pruner = None\n",
    "if cfg.rigl.dense_allocation is not None:\n",
    "    T_end = get_T_end(cfg, [0 for _ in range(0,1251)])\n",
    "    if cfg.rigl.const_fan_in:\n",
    "        rigl_scheduler = RigLConstFanScheduler\n",
    "    else:\n",
    "        rigl_scheduler = RigLScheduler\n",
    "    pruner = rigl_scheduler(\n",
    "        model,\n",
    "        optimizer,\n",
    "        dense_allocation=cfg.rigl.dense_allocation,\n",
    "        alpha=cfg.rigl.alpha,\n",
    "        delta=cfg.rigl.delta,\n",
    "        static_topo=cfg.rigl.static_topo,\n",
    "        T_end=T_end,\n",
    "        ignore_linear_layers=cfg.rigl.ignore_linear_layers,\n",
    "        grad_accumulation_n=cfg.rigl.grad_accumulation_n,\n",
    "        sparsity_distribution=cfg.rigl.sparsity_distribution,\n",
    "        erk_power_scale=cfg.rigl.erk_power_scale,\n",
    "        state_dict=pruner_state,\n",
    "        filter_ablation_threshold=cfg.rigl.filter_ablation_threshold,\n",
    "        static_ablation=cfg.rigl.static_ablation,\n",
    "        dynamic_ablation=cfg.rigl.dynamic_ablation,\n",
    "        min_salient_weights_per_neuron=cfg.rigl.min_salient_weights_per_neuron,  # noqa\n",
    "        use_sparse_init=cfg.rigl.use_sparse_initialization,\n",
    "        init_method_str=cfg.rigl.init_method_str,\n",
    "        use_sparse_const_fan_in_for_ablation=cfg.rigl.use_sparse_const_fan_in_for_ablation,  # noqa\n",
    "    )"
   ]
  },
  {
   "cell_type": "code",
   "execution_count": 16,
   "metadata": {},
   "outputs": [
    {
     "data": {
      "text/plain": [
       "{'step_size': [150, 350, 450],\n",
       " 'warm_up_steps': 25,\n",
       " 'gamma': 0.1,\n",
       " 'lr': 0.4,\n",
       " '_linear_warmup_lrs': array([1.00000000e-06, 1.66676250e-02, 3.33342500e-02, 5.00008750e-02,\n",
       "        6.66675000e-02, 8.33341250e-02, 1.00000750e-01, 1.16667375e-01,\n",
       "        1.33334000e-01, 1.50000625e-01, 1.66667250e-01, 1.83333875e-01,\n",
       "        2.00000500e-01, 2.16667125e-01, 2.33333750e-01, 2.50000375e-01,\n",
       "        2.66667000e-01, 2.83333625e-01, 3.00000250e-01, 3.16666875e-01,\n",
       "        3.33333500e-01, 3.50000125e-01, 3.66666750e-01, 3.83333375e-01,\n",
       "        4.00000000e-01]),\n",
       " '_logger': <Logger /home/user/condensed-sparsity/src/rigl_torch/optim/step_lr_with_linear_warm_up.py (INFO)>,\n",
       " 'optimizer': SGD (\n",
       " Parameter Group 0\n",
       "     dampening: 0\n",
       "     foreach: None\n",
       "     initial_lr: 0.4\n",
       "     lr: 1e-06\n",
       "     maximize: False\n",
       "     momentum: 0.9\n",
       "     nesterov: True\n",
       "     weight_decay: 0.0001\n",
       " ),\n",
       " 'base_lrs': [0.4],\n",
       " 'last_epoch': 0,\n",
       " '_step_count': 1,\n",
       " 'verbose': False,\n",
       " '_get_lr_called_within_step': False,\n",
       " '_last_lr': [1e-06]}"
      ]
     },
     "execution_count": 16,
     "metadata": {},
     "output_type": "execute_result"
    }
   ],
   "source": [
    "scheduler.__dict__"
   ]
  },
  {
   "cell_type": "code",
   "execution_count": 10,
   "metadata": {},
   "outputs": [
    {
     "data": {
      "text/plain": [
       "[150, 350, 450]"
      ]
     },
     "execution_count": 10,
     "metadata": {},
     "output_type": "execute_result"
    }
   ],
   "source": [
    "cfg.training.step_size"
   ]
  },
  {
   "cell_type": "code",
   "execution_count": 17,
   "metadata": {},
   "outputs": [
    {
     "name": "stderr",
     "output_type": "stream",
     "text": [
      "/home/user/build/.venv/lib/python3.8/site-packages/torch/optim/lr_scheduler.py:124: UserWarning: Seems like `optimizer.step()` has been overridden after learning rate scheduler initialization. Please, make sure to call `optimizer.step()` before `lr_scheduler.step()`. See more details at https://pytorch.org/docs/stable/optim.html#how-to-adjust-learning-rate\n",
      "  warnings.warn(\"Seems like `optimizer.step()` has been overridden after learning rate scheduler \"\n",
      "INFO:/home/user/condensed-sparsity/src/rigl_torch/optim/step_lr_with_linear_warm_up.py:Reducing LR to 0.04000000000000001 @ epoch 150\n",
      "INFO:/home/user/condensed-sparsity/src/rigl_torch/optim/step_lr_with_linear_warm_up.py:Reducing LR to 0.004000000000000001 @ epoch 350\n",
      "INFO:/home/user/condensed-sparsity/src/rigl_torch/optim/step_lr_with_linear_warm_up.py:Reducing LR to 0.00040000000000000013 @ epoch 450\n"
     ]
    },
    {
     "name": "stdout",
     "output_type": "stream",
     "text": [
      "[[0.016667625000000002], [0.03333425], [0.050000875], [0.0666675], [0.08333412500000001], [0.10000075], [0.116667375], [0.133334], [0.150000625], [0.16666725000000002], [0.183333875], [0.2000005], [0.21666712500000002], [0.23333375], [0.250000375], [0.266667], [0.283333625], [0.30000024999999997], [0.316666875], [0.3333335], [0.350000125], [0.36666675], [0.383333375], [0.4], [0.4], [0.4], [0.4], [0.4], [0.4], [0.4], [0.4], [0.4], [0.4], [0.4], [0.4], [0.4], [0.4], [0.4], [0.4], [0.4], [0.4], [0.4], [0.4], [0.4], [0.4], [0.4], [0.4], [0.4], [0.4], [0.4], [0.4], [0.4], [0.4], [0.4], [0.4], [0.4], [0.4], [0.4], [0.4], [0.4], [0.4], [0.4], [0.4], [0.4], [0.4], [0.4], [0.4], [0.4], [0.4], [0.4], [0.4], [0.4], [0.4], [0.4], [0.4], [0.4], [0.4], [0.4], [0.4], [0.4], [0.4], [0.4], [0.4], [0.4], [0.4], [0.4], [0.4], [0.4], [0.4], [0.4], [0.4], [0.4], [0.4], [0.4], [0.4], [0.4], [0.4], [0.4], [0.4], [0.4], [0.4], [0.4], [0.4], [0.4], [0.4], [0.4], [0.4], [0.4], [0.4], [0.4], [0.4], [0.4], [0.4], [0.4], [0.4], [0.4], [0.4], [0.4], [0.4], [0.4], [0.4], [0.4], [0.4], [0.4], [0.4], [0.4], [0.4], [0.4], [0.4], [0.4], [0.4], [0.4], [0.4], [0.4], [0.4], [0.4], [0.4], [0.4], [0.4], [0.4], [0.4], [0.4], [0.4], [0.4], [0.4], [0.4], [0.4], [0.4], [0.4], [0.04000000000000001], [0.04000000000000001], [0.04000000000000001], [0.04000000000000001], [0.04000000000000001], [0.04000000000000001], [0.04000000000000001], [0.04000000000000001], [0.04000000000000001], [0.04000000000000001], [0.04000000000000001], [0.04000000000000001], [0.04000000000000001], [0.04000000000000001], [0.04000000000000001], [0.04000000000000001], [0.04000000000000001], [0.04000000000000001], [0.04000000000000001], [0.04000000000000001], [0.04000000000000001], [0.04000000000000001], [0.04000000000000001], [0.04000000000000001], [0.04000000000000001], [0.04000000000000001], [0.04000000000000001], [0.04000000000000001], [0.04000000000000001], [0.04000000000000001], [0.04000000000000001], [0.04000000000000001], [0.04000000000000001], [0.04000000000000001], [0.04000000000000001], [0.04000000000000001], [0.04000000000000001], [0.04000000000000001], [0.04000000000000001], [0.04000000000000001], [0.04000000000000001], [0.04000000000000001], [0.04000000000000001], [0.04000000000000001], [0.04000000000000001], [0.04000000000000001], [0.04000000000000001], [0.04000000000000001], [0.04000000000000001], [0.04000000000000001], [0.04000000000000001], [0.04000000000000001], [0.04000000000000001], [0.04000000000000001], [0.04000000000000001], [0.04000000000000001], [0.04000000000000001], [0.04000000000000001], [0.04000000000000001], [0.04000000000000001], [0.04000000000000001], [0.04000000000000001], [0.04000000000000001], [0.04000000000000001], [0.04000000000000001], [0.04000000000000001], [0.04000000000000001], [0.04000000000000001], [0.04000000000000001], [0.04000000000000001], [0.04000000000000001], [0.04000000000000001], [0.04000000000000001], [0.04000000000000001], [0.04000000000000001], [0.04000000000000001], [0.04000000000000001], [0.04000000000000001], [0.04000000000000001], [0.04000000000000001], [0.04000000000000001], [0.04000000000000001], [0.04000000000000001], [0.04000000000000001], [0.04000000000000001], [0.04000000000000001], [0.04000000000000001], [0.04000000000000001], [0.04000000000000001], [0.04000000000000001], [0.04000000000000001], [0.04000000000000001], [0.04000000000000001], [0.04000000000000001], [0.04000000000000001], [0.04000000000000001], [0.04000000000000001], [0.04000000000000001], [0.04000000000000001], [0.04000000000000001], [0.04000000000000001], [0.04000000000000001], [0.04000000000000001], [0.04000000000000001], [0.04000000000000001], [0.04000000000000001], [0.04000000000000001], [0.04000000000000001], [0.04000000000000001], [0.04000000000000001], [0.04000000000000001], [0.04000000000000001], [0.04000000000000001], [0.04000000000000001], [0.04000000000000001], [0.04000000000000001], [0.04000000000000001], [0.04000000000000001], [0.04000000000000001], [0.04000000000000001], [0.04000000000000001], [0.04000000000000001], [0.04000000000000001], [0.04000000000000001], [0.04000000000000001], [0.04000000000000001], [0.04000000000000001], [0.04000000000000001], [0.04000000000000001], [0.04000000000000001], [0.04000000000000001], [0.04000000000000001], [0.04000000000000001], [0.04000000000000001], [0.04000000000000001], [0.04000000000000001], [0.04000000000000001], [0.04000000000000001], [0.04000000000000001], [0.04000000000000001], [0.04000000000000001], [0.04000000000000001], [0.04000000000000001], [0.04000000000000001], [0.04000000000000001], [0.04000000000000001], [0.04000000000000001], [0.04000000000000001], [0.04000000000000001], [0.04000000000000001], [0.04000000000000001], [0.04000000000000001], [0.04000000000000001], [0.04000000000000001], [0.04000000000000001], [0.04000000000000001], [0.04000000000000001], [0.04000000000000001], [0.04000000000000001], [0.04000000000000001], [0.04000000000000001], [0.04000000000000001], [0.04000000000000001], [0.04000000000000001], [0.04000000000000001], [0.04000000000000001], [0.04000000000000001], [0.04000000000000001], [0.04000000000000001], [0.04000000000000001], [0.04000000000000001], [0.04000000000000001], [0.04000000000000001], [0.04000000000000001], [0.04000000000000001], [0.04000000000000001], [0.04000000000000001], [0.04000000000000001], [0.04000000000000001], [0.04000000000000001], [0.04000000000000001], [0.04000000000000001], [0.04000000000000001], [0.04000000000000001], [0.04000000000000001], [0.04000000000000001], [0.04000000000000001], [0.04000000000000001], [0.04000000000000001], [0.04000000000000001], [0.04000000000000001], [0.04000000000000001], [0.04000000000000001], [0.04000000000000001], [0.04000000000000001], [0.04000000000000001], [0.04000000000000001], [0.04000000000000001], [0.04000000000000001], [0.04000000000000001], [0.004000000000000001], [0.004000000000000001], [0.004000000000000001], [0.004000000000000001], [0.004000000000000001], [0.004000000000000001], [0.004000000000000001], [0.004000000000000001], [0.004000000000000001], [0.004000000000000001], [0.004000000000000001], [0.004000000000000001], [0.004000000000000001], [0.004000000000000001], [0.004000000000000001], [0.004000000000000001], [0.004000000000000001], [0.004000000000000001], [0.004000000000000001], [0.004000000000000001], [0.004000000000000001], [0.004000000000000001], [0.004000000000000001], [0.004000000000000001], [0.004000000000000001], [0.004000000000000001], [0.004000000000000001], [0.004000000000000001], [0.004000000000000001], [0.004000000000000001], [0.004000000000000001], [0.004000000000000001], [0.004000000000000001], [0.004000000000000001], [0.004000000000000001], [0.004000000000000001], [0.004000000000000001], [0.004000000000000001], [0.004000000000000001], [0.004000000000000001], [0.004000000000000001], [0.004000000000000001], [0.004000000000000001], [0.004000000000000001], [0.004000000000000001], [0.004000000000000001], [0.004000000000000001], [0.004000000000000001], [0.004000000000000001], [0.004000000000000001], [0.004000000000000001], [0.004000000000000001], [0.004000000000000001], [0.004000000000000001], [0.004000000000000001], [0.004000000000000001], [0.004000000000000001], [0.004000000000000001], [0.004000000000000001], [0.004000000000000001], [0.004000000000000001], [0.004000000000000001], [0.004000000000000001], [0.004000000000000001], [0.004000000000000001], [0.004000000000000001], [0.004000000000000001], [0.004000000000000001], [0.004000000000000001], [0.004000000000000001], [0.004000000000000001], [0.004000000000000001], [0.004000000000000001], [0.004000000000000001], [0.004000000000000001], [0.004000000000000001], [0.004000000000000001], [0.004000000000000001], [0.004000000000000001], [0.004000000000000001], [0.004000000000000001], [0.004000000000000001], [0.004000000000000001], [0.004000000000000001], [0.004000000000000001], [0.004000000000000001], [0.004000000000000001], [0.004000000000000001], [0.004000000000000001], [0.004000000000000001], [0.004000000000000001], [0.004000000000000001], [0.004000000000000001], [0.004000000000000001], [0.004000000000000001], [0.004000000000000001], [0.004000000000000001], [0.004000000000000001], [0.004000000000000001], [0.004000000000000001], [0.00040000000000000013], [0.00040000000000000013], [0.00040000000000000013], [0.00040000000000000013], [0.00040000000000000013], [0.00040000000000000013], [0.00040000000000000013], [0.00040000000000000013], [0.00040000000000000013], [0.00040000000000000013], [0.00040000000000000013], [0.00040000000000000013], [0.00040000000000000013], [0.00040000000000000013], [0.00040000000000000013], [0.00040000000000000013], [0.00040000000000000013], [0.00040000000000000013], [0.00040000000000000013], [0.00040000000000000013], [0.00040000000000000013], [0.00040000000000000013], [0.00040000000000000013], [0.00040000000000000013], [0.00040000000000000013], [0.00040000000000000013], [0.00040000000000000013], [0.00040000000000000013], [0.00040000000000000013], [0.00040000000000000013], [0.00040000000000000013], [0.00040000000000000013], [0.00040000000000000013], [0.00040000000000000013], [0.00040000000000000013], [0.00040000000000000013], [0.00040000000000000013], [0.00040000000000000013], [0.00040000000000000013], [0.00040000000000000013], [0.00040000000000000013], [0.00040000000000000013], [0.00040000000000000013], [0.00040000000000000013], [0.00040000000000000013], [0.00040000000000000013], [0.00040000000000000013], [0.00040000000000000013], [0.00040000000000000013], [0.00040000000000000013]]\n"
     ]
    },
    {
     "data": {
      "text/plain": [
       "[<matplotlib.lines.Line2D at 0x7f0a4fce6550>]"
      ]
     },
     "execution_count": 17,
     "metadata": {},
     "output_type": "execute_result"
    },
    {
     "data": {
      "image/png": "[encoded data removed]",
      "text/plain": [
       "<Figure size 432x288 with 1 Axes>"
      ]
     },
     "metadata": {
      "needs_background": "light"
     },
     "output_type": "display_data"
    }
   ],
   "source": [
    "import matplotlib.pyplot as plt\n",
    "\n",
    "lrs = []\n",
    "for epoch in list(range(1,500)):\n",
    "    scheduler.step()\n",
    "    lrs.append(scheduler.get_last_lr())\n",
    "print(lrs)\n",
    "plt.plot(lrs)"
   ]
  },
  {
   "cell_type": "code",
   "execution_count": 5,
   "metadata": {},
   "outputs": [
    {
     "data": {
      "text/plain": [
       "'RigLScheduler(\\nlayers=54,\\nnonzero_params=[384/9408, 576/4096, 640/36864, 1536/16384, 1536/16384, 1536/16384, 640/36864, 1536/16384, 1536/16384, 640/36864, 1536/16384, 1792/32768, 1152/147456, 3072/65536, 3584/131072, 3072/65536, 1152/147456, 3072/65536, 3072/65536, 1152/147456, 3072/65536, 3072/65536, 1152/147456, 3072/65536, 3584/131072, 2304/589824, 6144/262144, 7168/524288, 6144/262144, 2304/589824, 6144/262144, 6144/262144, 2304/589824, 6144/262144, 6144/262144, 2304/589824, 6144/262144, 6144/262144, 2304/589824, 6144/262144, 6144/262144, 2304/589824, 6144/262144, 7168/524288, 4608/2359296, 12288/1048576, 14336/2097152, 12288/1048576, 4608/2359296, 12288/1048576, 12288/1048576, 4608/2359296, 12288/1048576, 14000/2048000],\\nnonzero_percentages=[4.08%, 14.06%, 1.74%, 9.38%, 9.38%, 9.38%, 1.74%, 9.38%, 9.38%, 1.74%, 9.38%, 5.47%, 0.78%, 4.69%, 2.73%, 4.69%, 0.78%, 4.69%, 4.69%, 0.78%, 4.69%, 4.69%, 0.78%, 4.69%, 2.73%, 0.39%, 2.34%, 1.37%, 2.34%, 0.39%, 2.34%, 2.34%, 0.39%, 2.34%, 2.34%, 0.39%, 2.34%, 2.34%, 0.39%, 2.34%, 2.34%, 0.39%, 2.34%, 1.37%, 0.20%, 1.17%, 0.68%, 1.17%, 0.20%, 1.17%, 1.17%, 0.20%, 1.17%, 0.68%],\\ntotal_nonzero_params=246512/25502912 (0.97%),\\ntotal_CONV_nonzero_params=232512/23454912 (0.99%),\\nstep=0,\\nnum_rigl_steps=0,\\nignoring_linear_layers=False,\\nsparsity_distribution=erk,\\nITOP rate=0.0097,\\nActive Neuron Count=[(64, 64), (64, 64), (64, 64), (256, 256), (256, 256), (64, 64), (64, 64), (256, 256), (64, 64), (64, 64), (256, 256), (128, 128), (128, 128), (512, 512), (512, 512), (128, 128), (128, 128), (512, 512), (128, 128), (128, 128), (512, 512), (128, 128), (128, 128), (512, 512), (256, 256), (256, 256), (1024, 1024), (1024, 1024), (256, 256), (256, 256), (1024, 1024), (256, 256), (256, 256), (1024, 1024), (256, 256), (256, 256), (1024, 1024), (256, 256), (256, 256), (1024, 1024), (256, 256), (256, 256), (1024, 1024), (512, 512), (512, 512), (2048, 2048), (2048, 2048), (512, 512), (512, 512), (2048, 2048), (512, 512), (512, 512), (2048, 2048), (1000, 1000)],\\nconstant fan ins=[6, 9, 10, 6, 6, 24, 10, 6, 24, 10, 6, 14, 9, 6, 7, 24, 9, 6, 24, 9, 6, 24, 9, 6, 14, 9, 6, 7, 24, 9, 6, 24, 9, 6, 24, 9, 6, 24, 9, 6, 24, 9, 6, 14, 9, 6, 7, 24, 9, 6, 24, 9, 6, 14]\\nNeurons Statically Ablated per layer = [0, 0, 0, 0, 0, 0, 0, 0, 0, 0, 0, 0, 0, 0, 0, 0, 0, 0, 0, 0, 0, 0, 0, 0, 0, 0, 0, 0, 0, 0, 0, 0, 0, 0, 0, 0, 0, 0, 0, 0, 0, 0, 0, 0, 0, 0, 0, 0, 0, 0, 0, 0, 0, 0]\\nNeurons Dynamically Ablated per layer = [0, 0, 0, 0, 0, 0, 0, 0, 0, 0, 0, 0, 0, 0, 0, 0, 0, 0, 0, 0, 0, 0, 0, 0, 0, 0, 0, 0, 0, 0, 0, 0, 0, 0, 0, 0, 0, 0, 0, 0, 0, 0, 0, 0, 0, 0, 0, 0, 0, 0, 0, 0, 0, 0]\\n)'"
      ]
     },
     "execution_count": 5,
     "metadata": {},
     "output_type": "execute_result"
    }
   ],
   "source": [
    "pruner.__str__()"
   ]
  },
  {
   "cell_type": "code",
   "execution_count": 18,
   "metadata": {},
   "outputs": [
    {
     "name": "stderr",
     "output_type": "stream",
     "text": [
      "INFO:/project/6066928/mklasby/condensed-sparsity/src/rigl_torch/models/model_factory.py:Loading model resnet50/imagenet using <function get_imagenet_resnet50 at 0x7f808c85ac10> with args: () and kwargs: {}\n"
     ]
    },
    {
     "name": "stdout",
     "output_type": "stream",
     "text": [
      "Files already downloaded and verified\n"
     ]
    }
   ],
   "source": [
    "# net = ModelFactory.load_model(\"wide_resnet22\", \"cifar10\")\n",
    "model = ModelFactory.load_model(\"resnet50\", \"imagenet\")\n",
    "device = torch.device(\"cuda:0\")\n",
    "train_loader, test_loader = get_dataloaders(cfg)\n",
    "# model = ModelFactory.load_model(\n",
    "#         model=cfg.model.name, dataset=cfg.dataset.name\n",
    "#     )\n",
    "model.to(device)\n",
    "optimizer = get_optimizer(cfg, model, state_dict=None)\n",
    "scheduler = get_lr_scheduler(cfg, optimizer, state_dict=None)\n",
    "T_end = get_T_end(cfg, train_loader)\n",
    "if cfg.rigl.const_fan_in:\n",
    "    rigl_scheduler = RigLConstFanScheduler\n",
    "else:\n",
    "    rigl_scheduler = RigLScheduler\n",
    "# pruner = rigl_scheduler(\n",
    "#     model,\n",
    "#     optimizer,\n",
    "#     dense_allocation=cfg.rigl.dense_allocation,\n",
    "#     alpha=cfg.rigl.alpha,\n",
    "#     delta=cfg.rigl.delta,\n",
    "#     static_topo=cfg.rigl.static_topo,\n",
    "#     T_end=T_end,\n",
    "#     ignore_linear_layers=False,\n",
    "#     grad_accumulation_n=cfg.rigl.grad_accumulation_n,\n",
    "#     sparsity_distribution=cfg.rigl.sparsity_distribution,\n",
    "#     erk_power_scale=cfg.rigl.erk_power_scale,\n",
    "#     state_dict=None,\n",
    "#     filter_ablation_threshold=cfg.rigl.filter_ablation_threshold,\n",
    "#     static_ablation=cfg.rigl.static_ablation,\n",
    "#     dynamic_ablation=cfg.rigl.dynamic_ablation,\n",
    "#     min_salient_weights_per_neuron=cfg.rigl.min_salient_weights_per_neuron,\n",
    "#     )"
   ]
  },
  {
   "cell_type": "code",
   "execution_count": null,
   "metadata": {},
   "outputs": [],
   "source": [
    "pruner(\n",
    "    \n",
    ")"
   ]
  }
 ],
 "metadata": {
  "kernelspec": {
   "display_name": ".venv",
   "language": "python",
   "name": "python3"
  },
  "language_info": {
   "codemirror_mode": {
    "name": "ipython",
    "version": 3
   },
   "file_extension": ".py",
   "mimetype": "text/x-python",
   "name": "python",
   "nbconvert_exporter": "python",
   "pygments_lexer": "ipython3",
   "version": "3.8.12"
  },
  "orig_nbformat": 4,
  "vscode": {
   "interpreter": {
    "hash": "816b48dc46e0e4033a4b7ddacb526e2f216437e7413cf9fdf092ed7be3b64e38"
   }
  }
 },
 "nbformat": 4,
 "nbformat_minor": 2
}
