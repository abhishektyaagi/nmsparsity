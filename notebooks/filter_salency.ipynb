{
 "cells": [
  {
   "cell_type": "code",
   "execution_count": 54,
   "metadata": {},
   "outputs": [
    {
     "name": "stderr",
     "output_type": "stream",
     "text": [
      "INFO:rigl_torch.utils.checkpoint:Loading checkpoint from /home/condensed-sparsity/artifacts/checkpoints/20220926_214esrnw/checkpoint.pt.tar...\n"
     ]
    }
   ],
   "source": [
    "import torch\n",
    "import torch.nn as nn\n",
    "import torch.nn.functional as F\n",
    "\n",
    "from rigl_torch.utils.checkpoint import Checkpoint\n",
    "\n",
    "run_id=\"214esrnw\"\n",
    "\n",
    "checkpoint = Checkpoint.load_last_checkpoint(run_id=run_id)\n",
    "optimizer_state = checkpoint.optimizer\n",
    "scheduler_state = checkpoint.scheduler\n",
    "pruner_state = checkpoint.pruner\n",
    "model_state = checkpoint.get_single_process_model_state_from_distributed_state()\n",
    "cfg = checkpoint.cfg\n",
    "T_end = pruner_state['hyperparams'][\"T_end\"]"
   ]
  },
  {
   "cell_type": "code",
   "execution_count": 55,
   "metadata": {},
   "outputs": [
    {
     "name": "stderr",
     "output_type": "stream",
     "text": [
      "INFO:/home/condensed-sparsity/src/rigl_torch/models/model_factory.py:Loading model resnet50/imagenet using <function get_imagenet_resnet50 at 0x7fd168b50ee0> with args: () and kwargs: {}\n"
     ]
    }
   ],
   "source": [
    "from rigl_torch.models.model_factory import ModelFactory\n",
    "from rigl_torch.optim import get_lr_scheduler, get_optimizer\n",
    "from rigl_torch.rigl_constant_fan import RigLConstFanScheduler\n",
    "\n",
    "model = ModelFactory.load_model(\"resnet50\", \"imagenet\")\n",
    "model.load_state_dict(model_state)\n",
    "model.to(device=\"cuda:0\")\n",
    "optimizer = get_optimizer(cfg, model, state_dict=optimizer_state)\n",
    "scheduler = get_lr_scheduler(cfg, optimizer, state_dict=scheduler_state)\n",
    "pruner = RigLConstFanScheduler(\n",
    "    model,\n",
    "    optimizer,\n",
    "    dense_allocation=cfg.rigl.dense_allocation,\n",
    "    alpha=cfg.rigl.alpha,\n",
    "    delta=cfg.rigl.delta,\n",
    "    static_topo=cfg.rigl.static_topo,\n",
    "    T_end=T_end,\n",
    "    ignore_linear_layers=False,\n",
    "    grad_accumulation_n=cfg.rigl.grad_accumulation_n,\n",
    "    sparsity_distribution=cfg.rigl.sparsity_distribution,\n",
    "    erk_power_scale=cfg.rigl.erk_power_scale,\n",
    "    state_dict=pruner_state,\n",
    ")"
   ]
  },
  {
   "cell_type": "code",
   "execution_count": 63,
   "metadata": {},
   "outputs": [],
   "source": [
    "# for idx, hook in enumerate(pruner.backward_hook_objects):\n",
    "#     print(idx)\n",
    "#     if hasattr(hook, \"dense_grad\"):\n",
    "#         print(hook.dense_grad)\n",
    "#     else:\n",
    "#         print(\"no dense grad\")"
   ]
  },
  {
   "cell_type": "code",
   "execution_count": 68,
   "metadata": {},
   "outputs": [
    {
     "data": {
      "text/plain": [
       "True"
      ]
     },
     "execution_count": 68,
     "metadata": {},
     "output_type": "execute_result"
    }
   ],
   "source": [
    "pruner.backward_hook_objects[0].scheduler == pruner"
   ]
  },
  {
   "cell_type": "code",
   "execution_count": null,
   "metadata": {},
   "outputs": [],
   "source": [
    "pruner.backward_hook_objects[0].__dict__"
   ]
  },
  {
   "cell_type": "code",
   "execution_count": 22,
   "metadata": {},
   "outputs": [],
   "source": [
    "layer1 = model.get_submodule(\"conv1\")"
   ]
  },
  {
   "cell_type": "code",
   "execution_count": 25,
   "metadata": {},
   "outputs": [
    {
     "data": {
      "text/plain": [
       "torch.Size([64, 3, 7, 7])"
      ]
     },
     "execution_count": 25,
     "metadata": {},
     "output_type": "execute_result"
    }
   ],
   "source": [
    "layer1.weight.shape"
   ]
  },
  {
   "cell_type": "code",
   "execution_count": 70,
   "metadata": {},
   "outputs": [],
   "source": [
    "layer1.weight.grad"
   ]
  },
  {
   "cell_type": "code",
   "execution_count": 27,
   "metadata": {},
   "outputs": [
    {
     "data": {
      "text/plain": [
       "9408"
      ]
     },
     "execution_count": 27,
     "metadata": {},
     "output_type": "execute_result"
    }
   ],
   "source": [
    "layer1.weight.numel()"
   ]
  },
  {
   "cell_type": "code",
   "execution_count": 73,
   "metadata": {},
   "outputs": [
    {
     "data": {
      "text/plain": [
       "tensor(3968, device='cuda:0')"
      ]
     },
     "execution_count": 73,
     "metadata": {},
     "output_type": "execute_result"
    }
   ],
   "source": [
    "n_ones = torch.sum(pruner.backward_masks[0])\n",
    "n_ones"
   ]
  },
  {
   "cell_type": "code",
   "execution_count": 28,
   "metadata": {},
   "outputs": [
    {
     "data": {
      "text/plain": [
       "tensor(3493)"
      ]
     },
     "execution_count": 28,
     "metadata": {},
     "output_type": "execute_result"
    }
   ],
   "source": [
    "(layer1.weight !=0).sum()"
   ]
  },
  {
   "cell_type": "code",
   "execution_count": 83,
   "metadata": {},
   "outputs": [
    {
     "data": {
      "text/plain": [
       "tensor(1)"
      ]
     },
     "execution_count": 83,
     "metadata": {},
     "output_type": "execute_result"
    }
   ],
   "source": [
    "steps[0]"
   ]
  },
  {
   "cell_type": "code",
   "execution_count": 88,
   "metadata": {},
   "outputs": [],
   "source": [
    "import numpy as np\n",
    "steps = torch.arange(1,T_end+1)\n",
    "alpha = pruner.alpha\n",
    "def cos_ann(step):\n",
    "    return alpha / 2 * (1 + np.cos((step * np.pi) / T_end))\n",
    "cos = [cos_ann(s.item()) for s in steps]"
   ]
  },
  {
   "cell_type": "code",
   "execution_count": 90,
   "metadata": {},
   "outputs": [
    {
     "data": {
      "text/plain": [
       "[<matplotlib.lines.Line2D at 0x7fd1e8ce8970>]"
      ]
     },
     "execution_count": 90,
     "metadata": {},
     "output_type": "execute_result"
    },
    {
     "data": {
      "image/png": "[encoded data removed]",
      "text/plain": [
       "<Figure size 432x288 with 1 Axes>"
      ]
     },
     "metadata": {
      "needs_background": "light"
     },
     "output_type": "display_data"
    }
   ],
   "source": [
    "import matplotlib.pyplot as plt\n",
    "plt.plot(cos)"
   ]
  },
  {
   "cell_type": "code",
   "execution_count": 77,
   "metadata": {},
   "outputs": [
    {
     "data": {
      "text/plain": [
       "256001"
      ]
     },
     "execution_count": 77,
     "metadata": {},
     "output_type": "execute_result"
    }
   ],
   "source": [
    "pruner.step"
   ]
  },
  {
   "cell_type": "code",
   "execution_count": 39,
   "metadata": {},
   "outputs": [
    {
     "data": {
      "text/plain": [
       "torch.Size([64, 3, 7, 7])"
      ]
     },
     "execution_count": 39,
     "metadata": {},
     "output_type": "execute_result"
    }
   ],
   "source": [
    "ckp.pruner[\"backward_masks\"][0].shape"
   ]
  },
  {
   "cell_type": "code",
   "execution_count": 40,
   "metadata": {},
   "outputs": [
    {
     "data": {
      "text/plain": [
       "tensor(3968, device='cuda:0')"
      ]
     },
     "execution_count": 40,
     "metadata": {},
     "output_type": "execute_result"
    }
   ],
   "source": [
    "mask1 = ckp.pruner[\"backward_masks\"][0]\n",
    "mask1.sum()"
   ]
  },
  {
   "cell_type": "code",
   "execution_count": 35,
   "metadata": {},
   "outputs": [
    {
     "name": "stdout",
     "output_type": "stream",
     "text": [
      "tensor(0.6287)\n",
      "0.5799622163919889\n"
     ]
    }
   ],
   "source": [
    "print((layer1.weight ==0).sum() / layer1.weight.numel())\n",
    "print(ckp.pruner[\"S\"][0])"
   ]
  },
  {
   "cell_type": "code",
   "execution_count": 42,
   "metadata": {},
   "outputs": [
    {
     "data": {
      "text/plain": [
       "0.5782312925170068"
      ]
     },
     "execution_count": 42,
     "metadata": {},
     "output_type": "execute_result"
    }
   ],
   "source": [
    "1 - 3968 / 9408"
   ]
  },
  {
   "cell_type": "code",
   "execution_count": 112,
   "metadata": {},
   "outputs": [
    {
     "data": {
      "text/plain": [
       "torch.Size([1000, 2048])"
      ]
     },
     "execution_count": 112,
     "metadata": {},
     "output_type": "execute_result"
    }
   ],
   "source": [
    "torch.zeros(size=mask.shape).shape"
   ]
  },
  {
   "cell_type": "code",
   "execution_count": 113,
   "metadata": {},
   "outputs": [
    {
     "data": {
      "text/plain": [
       "torch.Size([1000, 2048])"
      ]
     },
     "execution_count": 113,
     "metadata": {},
     "output_type": "execute_result"
    }
   ],
   "source": [
    "mask.shape"
   ]
  },
  {
   "cell_type": "code",
   "execution_count": 116,
   "metadata": {},
   "outputs": [
    {
     "data": {
      "text/plain": [
       "tensor(1899000)"
      ]
     },
     "execution_count": 116,
     "metadata": {},
     "output_type": "execute_result"
    }
   ],
   "source": [
    "torch.isclose(mask.to(device=\"cpu\"), torch.zeros(size=mask.shape, dtype=torch.bool)).sum()"
   ]
  },
  {
   "cell_type": "code",
   "execution_count": 118,
   "metadata": {},
   "outputs": [
    {
     "data": {
      "text/plain": [
       "0.92724609375"
      ]
     },
     "execution_count": 118,
     "metadata": {},
     "output_type": "execute_result"
    }
   ],
   "source": [
    "1899000 / mask.numel()"
   ]
  },
  {
   "cell_type": "code",
   "execution_count": 147,
   "metadata": {},
   "outputs": [
    {
     "name": "stdout",
     "output_type": "stream",
     "text": [
      "Total sparsity = 0.9123512248326779\n",
      "Mask total sparisty = 0.8991647698898071\n"
     ]
    }
   ],
   "source": [
    "mask_actual_sparsities=[]\n",
    "weight_sparsities=[]\n",
    "total_els=[]\n",
    "total_zero_weights=[]\n",
    "total_mask_zeros=[]\n",
    "for layer_idx, mask in enumerate(pruner.backward_masks):\n",
    "    num_els = pruner.N[layer_idx]\n",
    "    if mask is not None:\n",
    "        num_zeros = (mask==0).sum().item()\n",
    "        num_zero_weights = (pruner.W[layer_idx]==0).sum().item()\n",
    "    else:\n",
    "        num_zeros = 0\n",
    "        num_zero_weights=0\n",
    "    mask_actual_sparsities.append((num_zeros)/num_els)\n",
    "    total_mask_zeros.append(num_zeros)\n",
    "    weight_sparsities.append(num_zero_weights/num_els)\n",
    "    total_els.append(num_els)\n",
    "    total_zero_weights.append(num_zero_weights)\n",
    "    \n",
    "print(f\"Total sparsity = {sum(total_zero_weights)/sum(total_els)}\")\n",
    "print(f\"Mask total sparisty = {sum(total_mask_zeros)/sum(total_els)}\")\n"
   ]
  },
  {
   "cell_type": "code",
   "execution_count": 152,
   "metadata": {},
   "outputs": [
    {
     "name": "stdout",
     "output_type": "stream",
     "text": [
      "conv1\n",
      "bn1\n",
      "relu\n",
      "maxpool\n",
      "layer1\n",
      "layer2\n",
      "layer3\n",
      "layer4\n",
      "avgpool\n",
      "fc\n"
     ]
    }
   ],
   "source": [
    "for name, _ in model.named_children():\n",
    "    print(name)"
   ]
  },
  {
   "cell_type": "code",
   "execution_count": 166,
   "metadata": {},
   "outputs": [],
   "source": [
    "conv2 = layer1.get_submodule(\"0\").get_submodule(\"conv2\")\n",
    "conv3 = layer1.get_submodule(\"0\").get_submodule(\"conv3\")"
   ]
  },
  {
   "cell_type": "code",
   "execution_count": 168,
   "metadata": {},
   "outputs": [
    {
     "data": {
      "text/plain": [
       "tensor(0.8436, device='cuda:0')"
      ]
     },
     "execution_count": 168,
     "metadata": {},
     "output_type": "execute_result"
    }
   ],
   "source": [
    "(conv2.weight==0).sum() / conv2.weight.numel()"
   ]
  },
  {
   "cell_type": "code",
   "execution_count": 170,
   "metadata": {},
   "outputs": [
    {
     "data": {
      "text/plain": [
       "tensor(0.0809, device='cuda:0')"
      ]
     },
     "execution_count": 170,
     "metadata": {},
     "output_type": "execute_result"
    }
   ],
   "source": [
    "(conv3.weight==0).sum() / conv3.weight.numel()"
   ]
  },
  {
   "cell_type": "code",
   "execution_count": 171,
   "metadata": {},
   "outputs": [
    {
     "data": {
      "text/plain": [
       "torch.Size([256, 64, 1, 1])"
      ]
     },
     "execution_count": 171,
     "metadata": {},
     "output_type": "execute_result"
    }
   ],
   "source": [
    "pruner.backward_masks[3].shape"
   ]
  },
  {
   "cell_type": "code",
   "execution_count": 181,
   "metadata": {},
   "outputs": [
    {
     "data": {
      "text/plain": [
       "tensor(0.9688, device='cuda:0')"
      ]
     },
     "execution_count": 181,
     "metadata": {},
     "output_type": "execute_result"
    }
   ],
   "source": [
    "pruner.backward_masks[3].sum() / pruner.backward_masks[3].numel()"
   ]
  },
  {
   "cell_type": "code",
   "execution_count": 192,
   "metadata": {},
   "outputs": [
    {
     "data": {
      "text/plain": [
       "tensor(15570, device='cuda:0')"
      ]
     },
     "execution_count": 192,
     "metadata": {},
     "output_type": "execute_result"
    }
   ],
   "source": [
    "((conv3.weight != 0) == pruner.backward_masks[3]).sum()"
   ]
  },
  {
   "cell_type": "code",
   "execution_count": 200,
   "metadata": {},
   "outputs": [
    {
     "data": {
      "text/plain": [
       "tensor(814, device='cuda:0')"
      ]
     },
     "execution_count": 200,
     "metadata": {},
     "output_type": "execute_result"
    }
   ],
   "source": [
    "non_matched_weights = torch.where(\n",
    "    ((conv3.weight != 0) == pruner.backward_masks[3]),\n",
    "    -1,\n",
    "    conv3.weight\n",
    ")\n",
    "\n",
    "(non_matched_weights!=-1).sum()"
   ]
  },
  {
   "cell_type": "code",
   "execution_count": 212,
   "metadata": {},
   "outputs": [
    {
     "name": "stdout",
     "output_type": "stream",
     "text": [
      "4\n",
      "70\n",
      "150\n",
      "167\n",
      "173\n",
      "191\n"
     ]
    }
   ],
   "source": [
    "for idx in range(0,non_matched_weights.shape[0]):\n",
    "    if (non_matched_weights[idx]!=-1).any():\n",
    "        continue\n",
    "    else:\n",
    "        print(idx)"
   ]
  },
  {
   "cell_type": "code",
   "execution_count": 178,
   "metadata": {},
   "outputs": [
    {
     "data": {
      "text/plain": [
       "torch.Size([256, 64, 1, 1])"
      ]
     },
     "execution_count": 178,
     "metadata": {},
     "output_type": "execute_result"
    }
   ],
   "source": [
    "conv3.weight.shape"
   ]
  },
  {
   "cell_type": "code",
   "execution_count": 213,
   "metadata": {},
   "outputs": [
    {
     "name": "stdout",
     "output_type": "stream",
     "text": [
      "0\n",
      "pruner s: 0.5799622163919889\n",
      "mask_s: 0.5782312925170068\n",
      "weight_s: 0.6287202380952381\n",
      "1\n",
      "pruner s: 0.0\n",
      "mask_s: 0.0\n",
      "weight_s: 0.0\n",
      "2\n",
      "pruner s: 0.822661517028665\n",
      "mask_s: 0.8211805555555556\n",
      "weight_s: 0.8435872395833334\n",
      "3\n",
      "pruner s: 0.04118111259155077\n",
      "mask_s: 0.03125\n",
      "weight_s: 0.0809326171875\n",
      "4\n",
      "pruner s: 0.04118111259155077\n",
      "mask_s: 0.03125\n",
      "weight_s: 0.1087646484375\n",
      "5\n",
      "pruner s: 0.04118111259155077\n",
      "mask_s: 0.0390625\n",
      "weight_s: 0.08319091796875\n",
      "6\n",
      "pruner s: 0.822661517028665\n",
      "mask_s: 0.8211805555555556\n",
      "weight_s: 0.8468695746527778\n",
      "7\n",
      "pruner s: 0.04118111259155077\n",
      "mask_s: 0.03125\n",
      "weight_s: 0.0355224609375\n",
      "8\n",
      "pruner s: 0.04118111259155077\n",
      "mask_s: 0.0390625\n",
      "weight_s: 0.06842041015625\n",
      "9\n",
      "pruner s: 0.822661517028665\n",
      "mask_s: 0.8211805555555556\n",
      "weight_s: 0.8283148871527778\n",
      "10\n",
      "pruner s: 0.04118111259155077\n",
      "mask_s: 0.03125\n",
      "weight_s: 0.0328369140625\n",
      "11\n",
      "pruner s: 0.4253042072365506\n",
      "mask_s: 0.421875\n",
      "weight_s: 0.47869873046875\n",
      "12\n",
      "pruner s: 0.9133158907863996\n",
      "mask_s: 0.9131944444444444\n",
      "weight_s: 0.9163886176215278\n",
      "13\n",
      "pruner s: 0.5220794054998258\n",
      "mask_s: 0.515625\n",
      "weight_s: 0.548492431640625\n",
      "14\n",
      "pruner s: 0.7133965282203005\n",
      "mask_s: 0.7109375\n",
      "weight_s: 0.7359619140625\n",
      "15\n",
      "pruner s: 0.5220794054998258\n",
      "mask_s: 0.521484375\n",
      "weight_s: 0.6213836669921875\n",
      "16\n",
      "pruner s: 0.9133158907863996\n",
      "mask_s: 0.9131944444444444\n",
      "weight_s: 0.9329291449652778\n",
      "17\n",
      "pruner s: 0.5220794054998258\n",
      "mask_s: 0.515625\n",
      "weight_s: 0.531829833984375\n",
      "18\n",
      "pruner s: 0.5220794054998258\n",
      "mask_s: 0.521484375\n",
      "weight_s: 0.6085205078125\n",
      "19\n",
      "pruner s: 0.9133158907863996\n",
      "mask_s: 0.9131944444444444\n",
      "weight_s: 0.9276665581597222\n",
      "20\n",
      "pruner s: 0.5220794054998258\n",
      "mask_s: 0.515625\n",
      "weight_s: 0.525390625\n",
      "21\n",
      "pruner s: 0.5220794054998258\n",
      "mask_s: 0.521484375\n",
      "weight_s: 0.6129150390625\n",
      "22\n",
      "pruner s: 0.9133158907863996\n",
      "mask_s: 0.9131944444444444\n",
      "weight_s: 0.9243231879340278\n",
      "23\n",
      "pruner s: 0.5220794054998258\n",
      "mask_s: 0.515625\n",
      "weight_s: 0.5190277099609375\n",
      "24\n",
      "pruner s: 0.7133965282203005\n",
      "mask_s: 0.712890625\n",
      "weight_s: 0.7720947265625\n",
      "25\n",
      "pruner s: 0.9571542284612167\n",
      "mask_s: 0.95703125\n",
      "weight_s: 0.9583875868055556\n",
      "26\n",
      "pruner s: 0.7614119150509255\n",
      "mask_s: 0.7578125\n",
      "weight_s: 0.7782974243164062\n",
      "27\n",
      "pruner s: 0.8568843702606566\n",
      "mask_s: 0.85546875\n",
      "weight_s: 0.8687191009521484\n",
      "28\n",
      "pruner s: 0.7614119150509255\n",
      "mask_s: 0.7607421875\n",
      "weight_s: 0.8192634582519531\n",
      "29\n",
      "pruner s: 0.9571542284612167\n",
      "mask_s: 0.95703125\n",
      "weight_s: 0.9669867621527778\n",
      "30\n",
      "pruner s: 0.7614119150509255\n",
      "mask_s: 0.7578125\n",
      "weight_s: 0.7769508361816406\n",
      "31\n",
      "pruner s: 0.7614119150509255\n",
      "mask_s: 0.7607421875\n",
      "weight_s: 0.8170318603515625\n",
      "32\n",
      "pruner s: 0.9571542284612167\n",
      "mask_s: 0.95703125\n",
      "weight_s: 0.9674275716145834\n",
      "33\n",
      "pruner s: 0.7614119150509255\n",
      "mask_s: 0.7578125\n",
      "weight_s: 0.7736167907714844\n",
      "34\n",
      "pruner s: 0.7614119150509255\n",
      "mask_s: 0.7607421875\n",
      "weight_s: 0.8217697143554688\n",
      "35\n",
      "pruner s: 0.9571542284612167\n",
      "mask_s: 0.95703125\n",
      "weight_s: 0.9667714436848959\n",
      "36\n",
      "pruner s: 0.7614119150509255\n",
      "mask_s: 0.7578125\n",
      "weight_s: 0.7688865661621094\n",
      "37\n",
      "pruner s: 0.7614119150509255\n",
      "mask_s: 0.7607421875\n",
      "weight_s: 0.8162040710449219\n",
      "38\n",
      "pruner s: 0.9571542284612167\n",
      "mask_s: 0.95703125\n",
      "weight_s: 0.9667324490017362\n",
      "39\n",
      "pruner s: 0.7614119150509255\n",
      "mask_s: 0.7578125\n",
      "weight_s: 0.7643814086914062\n",
      "40\n",
      "pruner s: 0.7614119150509255\n",
      "mask_s: 0.7607421875\n",
      "weight_s: 0.8090248107910156\n",
      "41\n",
      "pruner s: 0.9571542284612167\n",
      "mask_s: 0.95703125\n",
      "weight_s: 0.9666714138454862\n",
      "42\n",
      "pruner s: 0.7614119150509255\n",
      "mask_s: 0.7578125\n",
      "weight_s: 0.7627105712890625\n",
      "43\n",
      "pruner s: 0.8568843702606566\n",
      "mask_s: 0.8564453125\n",
      "weight_s: 0.8909206390380859\n",
      "44\n",
      "pruner s: 0.9787011849976125\n",
      "mask_s: 0.978515625\n",
      "weight_s: 0.9808438618977865\n",
      "45\n",
      "pruner s: 0.8807990106007159\n",
      "mask_s: 0.87890625\n",
      "weight_s: 0.8924169540405273\n",
      "46\n",
      "pruner s: 0.9284887116679549\n",
      "mask_s: 0.927734375\n",
      "weight_s: 0.9358868598937988\n",
      "47\n",
      "pruner s: 0.8807990106007159\n",
      "mask_s: 0.88037109375\n",
      "weight_s: 0.9078655242919922\n",
      "48\n",
      "pruner s: 0.9787011849976125\n",
      "mask_s: 0.978515625\n",
      "weight_s: 0.984116448296441\n",
      "49\n",
      "pruner s: 0.8807990106007159\n",
      "mask_s: 0.87890625\n",
      "weight_s: 0.8911952972412109\n",
      "50\n",
      "pruner s: 0.8807990106007159\n",
      "mask_s: 0.88037109375\n",
      "weight_s: 0.907221794128418\n",
      "51\n",
      "pruner s: 0.9787011849976125\n",
      "mask_s: 0.978515625\n",
      "weight_s: 0.9809850056966146\n",
      "52\n",
      "pruner s: 0.8807990106007159\n",
      "mask_s: 0.87890625\n",
      "weight_s: 0.8919153213500977\n",
      "53\n",
      "pruner s: 0.9273918020168708\n",
      "mask_s: 0.92724609375\n",
      "weight_s: 0.92724609375\n"
     ]
    }
   ],
   "source": [
    "count_till = 4\n",
    "for idx, (pruner_s, mask_s, w_s) in enumerate(list(zip(pruner.S, mask_actual_sparsities, weight_sparsities))):\n",
    "    print(idx)\n",
    "    print(f\"pruner s: {pruner_s}\")\n",
    "    print(f\"mask_s: {mask_s}\")\n",
    "    print(f\"weight_s: {w_s}\")\n",
    "    # if idx >= count_till:\n",
    "    #     break"
   ]
  },
  {
   "cell_type": "code",
   "execution_count": 174,
   "metadata": {},
   "outputs": [
    {
     "data": {
      "text/plain": [
       "ResNet(\n",
       "  (conv1): Conv2d(3, 64, kernel_size=(7, 7), stride=(2, 2), padding=(3, 3), bias=False)\n",
       "  (bn1): BatchNorm2d(64, eps=1e-05, momentum=0.1, affine=True, track_running_stats=True)\n",
       "  (relu): ReLU(inplace=True)\n",
       "  (maxpool): MaxPool2d(kernel_size=3, stride=2, padding=1, dilation=1, ceil_mode=False)\n",
       "  (layer1): Sequential(\n",
       "    (0): Bottleneck(\n",
       "      (conv1): Conv2d(64, 64, kernel_size=(1, 1), stride=(1, 1), bias=False)\n",
       "      (bn1): BatchNorm2d(64, eps=1e-05, momentum=0.1, affine=True, track_running_stats=True)\n",
       "      (conv2): Conv2d(64, 64, kernel_size=(3, 3), stride=(1, 1), padding=(1, 1), bias=False)\n",
       "      (bn2): BatchNorm2d(64, eps=1e-05, momentum=0.1, affine=True, track_running_stats=True)\n",
       "      (conv3): Conv2d(64, 256, kernel_size=(1, 1), stride=(1, 1), bias=False)\n",
       "      (bn3): BatchNorm2d(256, eps=1e-05, momentum=0.1, affine=True, track_running_stats=True)\n",
       "      (relu): ReLU(inplace=True)\n",
       "      (downsample): Sequential(\n",
       "        (0): Conv2d(64, 256, kernel_size=(1, 1), stride=(1, 1), bias=False)\n",
       "        (1): BatchNorm2d(256, eps=1e-05, momentum=0.1, affine=True, track_running_stats=True)\n",
       "      )\n",
       "    )\n",
       "    (1): Bottleneck(\n",
       "      (conv1): Conv2d(256, 64, kernel_size=(1, 1), stride=(1, 1), bias=False)\n",
       "      (bn1): BatchNorm2d(64, eps=1e-05, momentum=0.1, affine=True, track_running_stats=True)\n",
       "      (conv2): Conv2d(64, 64, kernel_size=(3, 3), stride=(1, 1), padding=(1, 1), bias=False)\n",
       "      (bn2): BatchNorm2d(64, eps=1e-05, momentum=0.1, affine=True, track_running_stats=True)\n",
       "      (conv3): Conv2d(64, 256, kernel_size=(1, 1), stride=(1, 1), bias=False)\n",
       "      (bn3): BatchNorm2d(256, eps=1e-05, momentum=0.1, affine=True, track_running_stats=True)\n",
       "      (relu): ReLU(inplace=True)\n",
       "    )\n",
       "    (2): Bottleneck(\n",
       "      (conv1): Conv2d(256, 64, kernel_size=(1, 1), stride=(1, 1), bias=False)\n",
       "      (bn1): BatchNorm2d(64, eps=1e-05, momentum=0.1, affine=True, track_running_stats=True)\n",
       "      (conv2): Conv2d(64, 64, kernel_size=(3, 3), stride=(1, 1), padding=(1, 1), bias=False)\n",
       "      (bn2): BatchNorm2d(64, eps=1e-05, momentum=0.1, affine=True, track_running_stats=True)\n",
       "      (conv3): Conv2d(64, 256, kernel_size=(1, 1), stride=(1, 1), bias=False)\n",
       "      (bn3): BatchNorm2d(256, eps=1e-05, momentum=0.1, affine=True, track_running_stats=True)\n",
       "      (relu): ReLU(inplace=True)\n",
       "    )\n",
       "  )\n",
       "  (layer2): Sequential(\n",
       "    (0): Bottleneck(\n",
       "      (conv1): Conv2d(256, 128, kernel_size=(1, 1), stride=(1, 1), bias=False)\n",
       "      (bn1): BatchNorm2d(128, eps=1e-05, momentum=0.1, affine=True, track_running_stats=True)\n",
       "      (conv2): Conv2d(128, 128, kernel_size=(3, 3), stride=(2, 2), padding=(1, 1), bias=False)\n",
       "      (bn2): BatchNorm2d(128, eps=1e-05, momentum=0.1, affine=True, track_running_stats=True)\n",
       "      (conv3): Conv2d(128, 512, kernel_size=(1, 1), stride=(1, 1), bias=False)\n",
       "      (bn3): BatchNorm2d(512, eps=1e-05, momentum=0.1, affine=True, track_running_stats=True)\n",
       "      (relu): ReLU(inplace=True)\n",
       "      (downsample): Sequential(\n",
       "        (0): Conv2d(256, 512, kernel_size=(1, 1), stride=(2, 2), bias=False)\n",
       "        (1): BatchNorm2d(512, eps=1e-05, momentum=0.1, affine=True, track_running_stats=True)\n",
       "      )\n",
       "    )\n",
       "    (1): Bottleneck(\n",
       "      (conv1): Conv2d(512, 128, kernel_size=(1, 1), stride=(1, 1), bias=False)\n",
       "      (bn1): BatchNorm2d(128, eps=1e-05, momentum=0.1, affine=True, track_running_stats=True)\n",
       "      (conv2): Conv2d(128, 128, kernel_size=(3, 3), stride=(1, 1), padding=(1, 1), bias=False)\n",
       "      (bn2): BatchNorm2d(128, eps=1e-05, momentum=0.1, affine=True, track_running_stats=True)\n",
       "      (conv3): Conv2d(128, 512, kernel_size=(1, 1), stride=(1, 1), bias=False)\n",
       "      (bn3): BatchNorm2d(512, eps=1e-05, momentum=0.1, affine=True, track_running_stats=True)\n",
       "      (relu): ReLU(inplace=True)\n",
       "    )\n",
       "    (2): Bottleneck(\n",
       "      (conv1): Conv2d(512, 128, kernel_size=(1, 1), stride=(1, 1), bias=False)\n",
       "      (bn1): BatchNorm2d(128, eps=1e-05, momentum=0.1, affine=True, track_running_stats=True)\n",
       "      (conv2): Conv2d(128, 128, kernel_size=(3, 3), stride=(1, 1), padding=(1, 1), bias=False)\n",
       "      (bn2): BatchNorm2d(128, eps=1e-05, momentum=0.1, affine=True, track_running_stats=True)\n",
       "      (conv3): Conv2d(128, 512, kernel_size=(1, 1), stride=(1, 1), bias=False)\n",
       "      (bn3): BatchNorm2d(512, eps=1e-05, momentum=0.1, affine=True, track_running_stats=True)\n",
       "      (relu): ReLU(inplace=True)\n",
       "    )\n",
       "    (3): Bottleneck(\n",
       "      (conv1): Conv2d(512, 128, kernel_size=(1, 1), stride=(1, 1), bias=False)\n",
       "      (bn1): BatchNorm2d(128, eps=1e-05, momentum=0.1, affine=True, track_running_stats=True)\n",
       "      (conv2): Conv2d(128, 128, kernel_size=(3, 3), stride=(1, 1), padding=(1, 1), bias=False)\n",
       "      (bn2): BatchNorm2d(128, eps=1e-05, momentum=0.1, affine=True, track_running_stats=True)\n",
       "      (conv3): Conv2d(128, 512, kernel_size=(1, 1), stride=(1, 1), bias=False)\n",
       "      (bn3): BatchNorm2d(512, eps=1e-05, momentum=0.1, affine=True, track_running_stats=True)\n",
       "      (relu): ReLU(inplace=True)\n",
       "    )\n",
       "  )\n",
       "  (layer3): Sequential(\n",
       "    (0): Bottleneck(\n",
       "      (conv1): Conv2d(512, 256, kernel_size=(1, 1), stride=(1, 1), bias=False)\n",
       "      (bn1): BatchNorm2d(256, eps=1e-05, momentum=0.1, affine=True, track_running_stats=True)\n",
       "      (conv2): Conv2d(256, 256, kernel_size=(3, 3), stride=(2, 2), padding=(1, 1), bias=False)\n",
       "      (bn2): BatchNorm2d(256, eps=1e-05, momentum=0.1, affine=True, track_running_stats=True)\n",
       "      (conv3): Conv2d(256, 1024, kernel_size=(1, 1), stride=(1, 1), bias=False)\n",
       "      (bn3): BatchNorm2d(1024, eps=1e-05, momentum=0.1, affine=True, track_running_stats=True)\n",
       "      (relu): ReLU(inplace=True)\n",
       "      (downsample): Sequential(\n",
       "        (0): Conv2d(512, 1024, kernel_size=(1, 1), stride=(2, 2), bias=False)\n",
       "        (1): BatchNorm2d(1024, eps=1e-05, momentum=0.1, affine=True, track_running_stats=True)\n",
       "      )\n",
       "    )\n",
       "    (1): Bottleneck(\n",
       "      (conv1): Conv2d(1024, 256, kernel_size=(1, 1), stride=(1, 1), bias=False)\n",
       "      (bn1): BatchNorm2d(256, eps=1e-05, momentum=0.1, affine=True, track_running_stats=True)\n",
       "      (conv2): Conv2d(256, 256, kernel_size=(3, 3), stride=(1, 1), padding=(1, 1), bias=False)\n",
       "      (bn2): BatchNorm2d(256, eps=1e-05, momentum=0.1, affine=True, track_running_stats=True)\n",
       "      (conv3): Conv2d(256, 1024, kernel_size=(1, 1), stride=(1, 1), bias=False)\n",
       "      (bn3): BatchNorm2d(1024, eps=1e-05, momentum=0.1, affine=True, track_running_stats=True)\n",
       "      (relu): ReLU(inplace=True)\n",
       "    )\n",
       "    (2): Bottleneck(\n",
       "      (conv1): Conv2d(1024, 256, kernel_size=(1, 1), stride=(1, 1), bias=False)\n",
       "      (bn1): BatchNorm2d(256, eps=1e-05, momentum=0.1, affine=True, track_running_stats=True)\n",
       "      (conv2): Conv2d(256, 256, kernel_size=(3, 3), stride=(1, 1), padding=(1, 1), bias=False)\n",
       "      (bn2): BatchNorm2d(256, eps=1e-05, momentum=0.1, affine=True, track_running_stats=True)\n",
       "      (conv3): Conv2d(256, 1024, kernel_size=(1, 1), stride=(1, 1), bias=False)\n",
       "      (bn3): BatchNorm2d(1024, eps=1e-05, momentum=0.1, affine=True, track_running_stats=True)\n",
       "      (relu): ReLU(inplace=True)\n",
       "    )\n",
       "    (3): Bottleneck(\n",
       "      (conv1): Conv2d(1024, 256, kernel_size=(1, 1), stride=(1, 1), bias=False)\n",
       "      (bn1): BatchNorm2d(256, eps=1e-05, momentum=0.1, affine=True, track_running_stats=True)\n",
       "      (conv2): Conv2d(256, 256, kernel_size=(3, 3), stride=(1, 1), padding=(1, 1), bias=False)\n",
       "      (bn2): BatchNorm2d(256, eps=1e-05, momentum=0.1, affine=True, track_running_stats=True)\n",
       "      (conv3): Conv2d(256, 1024, kernel_size=(1, 1), stride=(1, 1), bias=False)\n",
       "      (bn3): BatchNorm2d(1024, eps=1e-05, momentum=0.1, affine=True, track_running_stats=True)\n",
       "      (relu): ReLU(inplace=True)\n",
       "    )\n",
       "    (4): Bottleneck(\n",
       "      (conv1): Conv2d(1024, 256, kernel_size=(1, 1), stride=(1, 1), bias=False)\n",
       "      (bn1): BatchNorm2d(256, eps=1e-05, momentum=0.1, affine=True, track_running_stats=True)\n",
       "      (conv2): Conv2d(256, 256, kernel_size=(3, 3), stride=(1, 1), padding=(1, 1), bias=False)\n",
       "      (bn2): BatchNorm2d(256, eps=1e-05, momentum=0.1, affine=True, track_running_stats=True)\n",
       "      (conv3): Conv2d(256, 1024, kernel_size=(1, 1), stride=(1, 1), bias=False)\n",
       "      (bn3): BatchNorm2d(1024, eps=1e-05, momentum=0.1, affine=True, track_running_stats=True)\n",
       "      (relu): ReLU(inplace=True)\n",
       "    )\n",
       "    (5): Bottleneck(\n",
       "      (conv1): Conv2d(1024, 256, kernel_size=(1, 1), stride=(1, 1), bias=False)\n",
       "      (bn1): BatchNorm2d(256, eps=1e-05, momentum=0.1, affine=True, track_running_stats=True)\n",
       "      (conv2): Conv2d(256, 256, kernel_size=(3, 3), stride=(1, 1), padding=(1, 1), bias=False)\n",
       "      (bn2): BatchNorm2d(256, eps=1e-05, momentum=0.1, affine=True, track_running_stats=True)\n",
       "      (conv3): Conv2d(256, 1024, kernel_size=(1, 1), stride=(1, 1), bias=False)\n",
       "      (bn3): BatchNorm2d(1024, eps=1e-05, momentum=0.1, affine=True, track_running_stats=True)\n",
       "      (relu): ReLU(inplace=True)\n",
       "    )\n",
       "  )\n",
       "  (layer4): Sequential(\n",
       "    (0): Bottleneck(\n",
       "      (conv1): Conv2d(1024, 512, kernel_size=(1, 1), stride=(1, 1), bias=False)\n",
       "      (bn1): BatchNorm2d(512, eps=1e-05, momentum=0.1, affine=True, track_running_stats=True)\n",
       "      (conv2): Conv2d(512, 512, kernel_size=(3, 3), stride=(2, 2), padding=(1, 1), bias=False)\n",
       "      (bn2): BatchNorm2d(512, eps=1e-05, momentum=0.1, affine=True, track_running_stats=True)\n",
       "      (conv3): Conv2d(512, 2048, kernel_size=(1, 1), stride=(1, 1), bias=False)\n",
       "      (bn3): BatchNorm2d(2048, eps=1e-05, momentum=0.1, affine=True, track_running_stats=True)\n",
       "      (relu): ReLU(inplace=True)\n",
       "      (downsample): Sequential(\n",
       "        (0): Conv2d(1024, 2048, kernel_size=(1, 1), stride=(2, 2), bias=False)\n",
       "        (1): BatchNorm2d(2048, eps=1e-05, momentum=0.1, affine=True, track_running_stats=True)\n",
       "      )\n",
       "    )\n",
       "    (1): Bottleneck(\n",
       "      (conv1): Conv2d(2048, 512, kernel_size=(1, 1), stride=(1, 1), bias=False)\n",
       "      (bn1): BatchNorm2d(512, eps=1e-05, momentum=0.1, affine=True, track_running_stats=True)\n",
       "      (conv2): Conv2d(512, 512, kernel_size=(3, 3), stride=(1, 1), padding=(1, 1), bias=False)\n",
       "      (bn2): BatchNorm2d(512, eps=1e-05, momentum=0.1, affine=True, track_running_stats=True)\n",
       "      (conv3): Conv2d(512, 2048, kernel_size=(1, 1), stride=(1, 1), bias=False)\n",
       "      (bn3): BatchNorm2d(2048, eps=1e-05, momentum=0.1, affine=True, track_running_stats=True)\n",
       "      (relu): ReLU(inplace=True)\n",
       "    )\n",
       "    (2): Bottleneck(\n",
       "      (conv1): Conv2d(2048, 512, kernel_size=(1, 1), stride=(1, 1), bias=False)\n",
       "      (bn1): BatchNorm2d(512, eps=1e-05, momentum=0.1, affine=True, track_running_stats=True)\n",
       "      (conv2): Conv2d(512, 512, kernel_size=(3, 3), stride=(1, 1), padding=(1, 1), bias=False)\n",
       "      (bn2): BatchNorm2d(512, eps=1e-05, momentum=0.1, affine=True, track_running_stats=True)\n",
       "      (conv3): Conv2d(512, 2048, kernel_size=(1, 1), stride=(1, 1), bias=False)\n",
       "      (bn3): BatchNorm2d(2048, eps=1e-05, momentum=0.1, affine=True, track_running_stats=True)\n",
       "      (relu): ReLU(inplace=True)\n",
       "    )\n",
       "  )\n",
       "  (avgpool): AdaptiveAvgPool2d(output_size=(1, 1))\n",
       "  (fc): Linear(in_features=2048, out_features=1000, bias=True)\n",
       ")"
      ]
     },
     "execution_count": 174,
     "metadata": {},
     "output_type": "execute_result"
    }
   ],
   "source": [
    "model"
   ]
  },
  {
   "cell_type": "code",
   "execution_count": 164,
   "metadata": {},
   "outputs": [],
   "source": [
    "# for name, p in model.named_parameters():\n",
    "#     print(name)\n",
    "#     print(p)\n",
    "#     break"
   ]
  }
 ],
 "metadata": {
  "kernelspec": {
   "display_name": "Python 3.8.12 ('.venv')",
   "language": "python",
   "name": "python3"
  },
  "language_info": {
   "codemirror_mode": {
    "name": "ipython",
    "version": 3
   },
   "file_extension": ".py",
   "mimetype": "text/x-python",
   "name": "python",
   "nbconvert_exporter": "python",
   "pygments_lexer": "ipython3",
   "version": "3.8.12"
  },
  "orig_nbformat": 4,
  "vscode": {
   "interpreter": {
    "hash": "816b48dc46e0e4033a4b7ddacb526e2f216437e7413cf9fdf092ed7be3b64e38"
   }
  }
 },
 "nbformat": 4,
 "nbformat_minor": 2
}
