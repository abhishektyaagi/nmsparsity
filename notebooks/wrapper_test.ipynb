{
 "cells": [
  {
   "cell_type": "code",
   "execution_count": null,
   "metadata": {},
   "outputs": [],
   "source": [
    "def wandb_log_check(fn):\n",
    "    def wrapper():\n",
    "        print(\"in wrapper!\")\n",
    "        fn()\n",
    "        print(\"exiting wrapper!\")\n",
    "    fn = wrapper\n",
    "\n",
    "@wandb_log_check\n",
    "def print_x(x):\n",
    "    print(x)\n",
    "\n",
    "\n",
    "\n",
    "\n",
    "\n",
    "\n",
    "    "
   ]
  }
 ],
 "metadata": {
  "language_info": {
   "name": "python"
  },
  "orig_nbformat": 4
 },
 "nbformat": 4,
 "nbformat_minor": 2
}
