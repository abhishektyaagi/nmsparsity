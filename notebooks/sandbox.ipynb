{
   "cells": [
      {
         "cell_type": "code",
         "execution_count": 1,
         "metadata": {},
         "outputs": [
            {
               "name": "stderr",
               "output_type": "stream",
               "text": [
                  "INFO:/home/condensed-sparsity/src/rigl_torch/models/model_factory.py:Registering mnist for mnist dataset to ModelFactory...\n",
                  "INFO:/home/condensed-sparsity/src/rigl_torch/models/model_factory.py:Registering resnet18 for cifar10 dataset to ModelFactory...\n",
                  "INFO:/home/condensed-sparsity/src/rigl_torch/models/model_factory.py:Registering wide_resnet22 for cifar10 dataset to ModelFactory...\n",
                  "INFO:/home/condensed-sparsity/src/rigl_torch/models/model_factory.py:Registering cond_net for mnist dataset to ModelFactory...\n",
                  "INFO:/home/condensed-sparsity/src/rigl_torch/models/model_factory.py:Registering wide_resnet22 for imagenet dataset to ModelFactory...\n",
                  "INFO:/home/condensed-sparsity/src/rigl_torch/models/model_factory.py:Registering resnet18 for imagenet dataset to ModelFactory...\n",
                  "INFO:/home/condensed-sparsity/src/rigl_torch/models/model_factory.py:Registering resnet50 for imagenet dataset to ModelFactory...\n"
               ]
            }
         ],
         "source": [
            "from torch.optim.lr_scheduler import CosineAnnealingWarmRestarts, CosineAnnealingLR, _LRScheduler\n",
            "from torch.optim import AdamW\n",
            "import math\n",
            "from rigl_torch.datasets import get_dataloaders\n",
            "from rigl_torch.optim import StepLrWithLinearWarmUp\n"
         ]
      },
      {
         "cell_type": "code",
         "execution_count": 2,
         "metadata": {},
         "outputs": [
            {
               "name": "stderr",
               "output_type": "stream",
               "text": [
                  "/tmp/ipykernel_668963/280303579.py:6: UserWarning: \n",
                  "The version_base parameter is not specified.\n",
                  "Please specify a compatability version level, or None.\n",
                  "Will assume defaults for version 1.1\n",
                  "  with hydra.initialize(config_path=\"../configs\"):\n",
                  "INFO:/home/condensed-sparsity/src/rigl_torch/models/model_factory.py:Loading model wide_resnet22/cifar10 using <function get_wide_resnet_22 at 0x7fe20b99a4c0> with args: () and kwargs: {}\n"
               ]
            }
         ],
         "source": [
            "from rigl_torch.datasets import get_dataloaders\n",
            "from omegaconf import DictConfig\n",
            "from rigl_torch.models import ModelFactory\n",
            "import hydra\n",
            "\n",
            "with hydra.initialize(config_path=\"../configs\"):\n",
            "    cfg = hydra.compose(config_name=\"config.yaml\", overrides=[\"dataset=cifar10\", \"model=wide_resnet22\"])\n",
            "cfg\n",
            "\n",
            "net = ModelFactory.load_model(\"wide_resnet22\", \"cifar10\")"
         ]
      },
      {
         "cell_type": "code",
         "execution_count": 3,
         "metadata": {},
         "outputs": [
            {
               "name": "stdout",
               "output_type": "stream",
               "text": [
                  "Files already downloaded and verified\n"
               ]
            }
         ],
         "source": [
            "import torchvision\n",
            "cifar = torchvision.datasets.CIFAR10(root=\"../data/\", download=True)"
         ]
      },
      {
         "cell_type": "code",
         "execution_count": 4,
         "metadata": {},
         "outputs": [
            {
               "data": {
                  "text/plain": [
                     "50000"
                  ]
               },
               "execution_count": 4,
               "metadata": {},
               "output_type": "execute_result"
            }
         ],
         "source": [
            "len(cifar)"
         ]
      },
      {
         "cell_type": "code",
         "execution_count": 5,
         "metadata": {},
         "outputs": [
            {
               "name": "stdout",
               "output_type": "stream",
               "text": [
                  "Files already downloaded and verified\n"
               ]
            }
         ],
         "source": [
            "train, test = get_dataloaders(cfg)"
         ]
      },
      {
         "cell_type": "code",
         "execution_count": 6,
         "metadata": {},
         "outputs": [
            {
               "data": {
                  "text/plain": [
                     "32"
                  ]
               },
               "execution_count": 6,
               "metadata": {},
               "output_type": "execute_result"
            }
         ],
         "source": [
            "cfg.training.batch_size"
         ]
      },
      {
         "cell_type": "code",
         "execution_count": 7,
         "metadata": {},
         "outputs": [
            {
               "data": {
                  "text/plain": [
                     "1562"
                  ]
               },
               "execution_count": 7,
               "metadata": {},
               "output_type": "execute_result"
            }
         ],
         "source": [
            "len(train)"
         ]
      },
      {
         "cell_type": "code",
         "execution_count": 8,
         "metadata": {},
         "outputs": [
            {
               "data": {
                  "text/plain": [
                     "50000"
                  ]
               },
               "execution_count": 8,
               "metadata": {},
               "output_type": "execute_result"
            }
         ],
         "source": [
            "len(train.dataset)"
         ]
      },
      {
         "cell_type": "code",
         "execution_count": 9,
         "metadata": {},
         "outputs": [
            {
               "data": {
                  "text/plain": [
                     "1562.5"
                  ]
               },
               "execution_count": 9,
               "metadata": {},
               "output_type": "execute_result"
            }
         ],
         "source": [
            "len(train.dataset) / cfg.training.batch_size"
         ]
      },
      {
         "cell_type": "code",
         "execution_count": 10,
         "metadata": {},
         "outputs": [],
         "source": [
            "for imgs,labels in train:\n",
            "    break"
         ]
      },
      {
         "cell_type": "code",
         "execution_count": 11,
         "metadata": {},
         "outputs": [],
         "source": [
            "import torch\n",
            "from rigl_torch.optim import get_lr_scheduler, get_optimizer\n",
            "optim = get_optimizer(cfg, net, None)\n",
            "lr_scheduler = get_lr_scheduler(cfg, optim, None)\n",
            "\n",
            "\n",
            "\n",
            "# adamw1 = AdamW(net.parameters(), lr=0.001)\n",
            "# adamw2 = AdamW(net.parameters(), lr=0.001)\n",
            "# linear_step = torch.optim.lr_scheduler.StepLR(adamw2, step_size=30000, gamma=0.2)\n",
            "# cawr = CosineAnnealingWarmRestarts(optimizer=adamw1, T_0=20, T_mult=2)\n",
            "# ca = CosineAnnealingLR(optimizer=adamw2, T_max=T_max)\n",
            "# adamw3 = AdamW(net.parameters(), lr=0.001)\n",
            "# test= CosineAnnealingWithLinearWarmUp(optimizer=adamw3, T_max=T_max, warm_up_steps=50, lr=0.001)"
         ]
      },
      {
         "cell_type": "code",
         "execution_count": 12,
         "metadata": {},
         "outputs": [],
         "source": [
            "# lr_scheduler.get_last_lr()"
         ]
      },
      {
         "cell_type": "code",
         "execution_count": 13,
         "metadata": {},
         "outputs": [],
         "source": [
            "# lr_scheduler.step_size"
         ]
      },
      {
         "cell_type": "code",
         "execution_count": 1,
         "metadata": {},
         "outputs": [],
         "source": [
            "%matplotlib inline\n",
            "lrs=[]\n",
            "step_lrs=[]\n",
            "# from torch.optim.lr_scheduler import StepLR\n",
            "# step_scheduler = StepLR(optim, step_size=30, gamma=0.1)\n",
            "for epoch in range(0,100):\n",
            "    # lr = [group[\"lr\"] for group in optim.param_groups][0]\n",
            "    lr=lr_scheduler.get_last_lr()[0]\n",
            "    lrs.append(lr)\n",
            "    lr_scheduler.step()\n",
            "    # lr = [group[\"lr\"] for group in optim.param_groups][0]\n",
            "    # step_lrs.append(lr)\n",
            "    # step_scheduler.step()\n",
            "\n",
            "# for x in range(T_max):\n",
            "#     lr1 = cawr.get_last_lr()\n",
            "#     warm_restart_lrs.append(lr1)\n",
            "#     cawr.step()\n",
            "#     lr2 = linear_step.get_last_lr()\n",
            "#     linear_step_lrs.append(lr2)\n",
            "#     linear_step.step()\n",
            "    # combined.append(lr1[0] * lr2[0]*1000)\n",
            "    # lr3 = test.get_last_lr()\n",
            "    # linear_warmup.append(lr3)\n",
            "    # test.step()"
         ]
      },
      {
         "cell_type": "code",
         "execution_count": 15,
         "metadata": {},
         "outputs": [
            {
               "data": {
                  "text/plain": [
                     "[<matplotlib.lines.Line2D at 0x7fe1ec0343a0>]"
                  ]
               },
               "execution_count": 15,
               "metadata": {},
               "output_type": "execute_result"
            },
            {
               "data": {
                  "image/png": "[encoded data removed]",
                  "text/plain": [
                     "<Figure size 432x288 with 1 Axes>"
                  ]
               },
               "metadata": {
                  "needs_background": "light"
               },
               "output_type": "display_data"
            }
         ],
         "source": [
            "import matplotlib.pyplot as plt\n",
            "\n",
            "plt.plot(lrs)\n",
            "# plt.plot(step_lrs)\n",
            "# plt.plot(combined)\n",
            "# plt.plot(linear_warmup)"
         ]
      },
      {
         "cell_type": "code",
         "execution_count": 16,
         "metadata": {},
         "outputs": [
            {
               "data": {
                  "text/plain": [
                     "[[1.6], [1.6], [0.16000000000000003], [0.16000000000000003]]"
                  ]
               },
               "execution_count": 16,
               "metadata": {},
               "output_type": "execute_result"
            }
         ],
         "source": [
            "lrs[28:32]"
         ]
      },
      {
         "cell_type": "code",
         "execution_count": 17,
         "metadata": {},
         "outputs": [
            {
               "data": {
                  "text/plain": [
                     "[0.16000000000000003]"
                  ]
               },
               "execution_count": 17,
               "metadata": {},
               "output_type": "execute_result"
            }
         ],
         "source": [
            "lrs[30]"
         ]
      },
      {
         "cell_type": "code",
         "execution_count": null,
         "metadata": {},
         "outputs": [],
         "source": [
            "from rigl_torch.models import get_model\n",
            "from rigl_torch.datasets import get_dataloaders\n",
            "from omegaconf import DictConfig\n",
            "import hydra"
         ]
      },
      {
         "cell_type": "code",
         "execution_count": null,
         "metadata": {},
         "outputs": [],
         "source": [
            "with hydra.initialize(config_path=\"../configs\"):\n",
            "    cfg = hydra.compose(config_name=\"config.yaml\", overrides=[])\n",
            "cfg"
         ]
      },
      {
         "cell_type": "code",
         "execution_count": null,
         "metadata": {},
         "outputs": [],
         "source": [
            "def print_image_shape(module, input, output):\n",
            "    print(f\"Module {module._get_name()}\")\n",
            "    print(f\"input shape: {input[0].shape} output shape: {output.shape}\")\n",
            "    return output"
         ]
      }
   ],
   "metadata": {
      "kernelspec": {
         "display_name": "Python 3.8.12 ('.venv')",
         "language": "python",
         "name": "python3"
      },
      "language_info": {
         "codemirror_mode": {
            "name": "ipython",
            "version": 3
         },
         "file_extension": ".py",
         "mimetype": "text/x-python",
         "name": "python",
         "nbconvert_exporter": "python",
         "pygments_lexer": "ipython3",
         "version": "3.8.12"
      },
      "orig_nbformat": 4,
      "vscode": {
         "interpreter": {
            "hash": "816b48dc46e0e4033a4b7ddacb526e2f216437e7413cf9fdf092ed7be3b64e38"
         }
      }
   },
   "nbformat": 4,
   "nbformat_minor": 2
}
