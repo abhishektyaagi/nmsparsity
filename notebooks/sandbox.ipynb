{
   "cells": [
      {
         "cell_type": "code",
         "execution_count": 18,
         "metadata": {},
         "outputs": [],
         "source": [
            "from torch.optim.lr_scheduler import CosineAnnealingWarmRestarts, CosineAnnealingLR, _LRScheduler\n",
            "from torch.optim import AdamW\n",
            "import math\n",
            "from rigl_torch.datasets import get_dataloaders\n",
            "from rigl_torch.optim import StepLrWithLinearWarmUp\n"
         ]
      },
      {
         "cell_type": "code",
         "execution_count": 19,
         "metadata": {},
         "outputs": [
            {
               "name": "stderr",
               "output_type": "stream",
               "text": [
                  "/tmp/ipykernel_670772/280303579.py:6: UserWarning: \n",
                  "The version_base parameter is not specified.\n",
                  "Please specify a compatability version level, or None.\n",
                  "Will assume defaults for version 1.1\n",
                  "  with hydra.initialize(config_path=\"../configs\"):\n",
                  "INFO:/home/condensed-sparsity/src/rigl_torch/models/model_factory.py:Loading model wide_resnet22/cifar10 using <function get_wide_resnet_22 at 0x7f221a9fc4c0> with args: () and kwargs: {}\n"
               ]
            }
         ],
         "source": [
            "from rigl_torch.datasets import get_dataloaders\n",
            "from omegaconf import DictConfig\n",
            "from rigl_torch.models import ModelFactory\n",
            "import hydra\n",
            "\n",
            "with hydra.initialize(config_path=\"../configs\"):\n",
            "    cfg = hydra.compose(config_name=\"config.yaml\", overrides=[\"dataset=cifar10\", \"model=wide_resnet22\"])\n",
            "cfg\n",
            "\n",
            "net = ModelFactory.load_model(\"wide_resnet22\", \"cifar10\")"
         ]
      },
      {
         "cell_type": "code",
         "execution_count": 20,
         "metadata": {},
         "outputs": [
            {
               "name": "stdout",
               "output_type": "stream",
               "text": [
                  "Files already downloaded and verified\n"
               ]
            }
         ],
         "source": [
            "import torchvision\n",
            "cifar = torchvision.datasets.CIFAR10(root=\"../data/\", download=True)"
         ]
      },
      {
         "cell_type": "code",
         "execution_count": 21,
         "metadata": {},
         "outputs": [
            {
               "data": {
                  "text/plain": [
                     "50000"
                  ]
               },
               "execution_count": 21,
               "metadata": {},
               "output_type": "execute_result"
            }
         ],
         "source": [
            "len(cifar)"
         ]
      },
      {
         "cell_type": "code",
         "execution_count": 22,
         "metadata": {},
         "outputs": [
            {
               "name": "stderr",
               "output_type": "stream",
               "text": [
                  "Traceback (most recent call last):\n",
                  "  File \"<string>\", line 1, in <module>\n",
                  "  File \"/opt/conda/lib/python3.8/multiprocessing/spawn.py\", line 116, in spawn_main\n",
                  "    exitcode = _main(fd, parent_sentinel)\n",
                  "  File \"/opt/conda/lib/python3.8/multiprocessing/spawn.py\", line 126, in _main\n",
                  "    self = reduction.pickle.load(from_parent)\n",
                  "AttributeError: Can't get attribute 'main' on <module '__main__' (built-in)>\n",
                  "Traceback (most recent call last):\n",
                  "  File \"<string>\", line 1, in <module>\n",
                  "  File \"/opt/conda/lib/python3.8/multiprocessing/spawn.py\", line 116, in spawn_main\n",
                  "    exitcode = _main(fd, parent_sentinel)\n",
                  "  File \"/opt/conda/lib/python3.8/multiprocessing/spawn.py\", line 126, in _main\n",
                  "    self = reduction.pickle.load(from_parent)\n",
                  "AttributeError: Can't get attribute 'main' on <module '__main__' (built-in)>\n"
               ]
            },
            {
               "ename": "KeyboardInterrupt",
               "evalue": "",
               "output_type": "error",
               "traceback": [
                  "\u001b[0;31m---------------------------------------------------------------------------\u001b[0m",
                  "\u001b[0;31mKeyboardInterrupt\u001b[0m                         Traceback (most recent call last)",
                  "Cell \u001b[0;32mIn [22], line 24\u001b[0m\n\u001b[1;32m     13\u001b[0m     train_loader \u001b[38;5;241m=\u001b[39m torch\u001b[38;5;241m.\u001b[39mutils\u001b[38;5;241m.\u001b[39mdata\u001b[38;5;241m.\u001b[39mDataLoader(\n\u001b[1;32m     14\u001b[0m         cifar,\n\u001b[1;32m     15\u001b[0m         sampler\u001b[38;5;241m=\u001b[39mtrain_sampler,\n\u001b[1;32m     16\u001b[0m         batch_size\u001b[38;5;241m=\u001b[39m\u001b[38;5;241m128\u001b[39m,\n\u001b[1;32m     17\u001b[0m         shuffle\u001b[38;5;241m=\u001b[39m\u001b[38;5;28;01mTrue\u001b[39;00m,\n\u001b[1;32m     18\u001b[0m     )\n\u001b[1;32m     19\u001b[0m     \u001b[38;5;28mprint\u001b[39m(\u001b[38;5;124mf\u001b[39m\u001b[38;5;124m\"\u001b[39m\u001b[38;5;124mNum samples in rank \u001b[39m\u001b[38;5;132;01m{\u001b[39;00mrank\u001b[38;5;132;01m}\u001b[39;00m\u001b[38;5;124m: \u001b[39m\u001b[38;5;132;01m{\u001b[39;00m\u001b[38;5;28mlen\u001b[39m(train_loader)\u001b[38;5;241m*\u001b[39m\u001b[38;5;241m256\u001b[39m\u001b[38;5;132;01m}\u001b[39;00m\u001b[38;5;124m\"\u001b[39m) \n\u001b[0;32m---> 24\u001b[0m \u001b[43mmp\u001b[49m\u001b[38;5;241;43m.\u001b[39;49m\u001b[43mspawn\u001b[49m\u001b[43m(\u001b[49m\n\u001b[1;32m     25\u001b[0m \u001b[43m    \u001b[49m\u001b[43mmain\u001b[49m\u001b[43m,\u001b[49m\n\u001b[1;32m     26\u001b[0m \u001b[43m    \u001b[49m\u001b[43margs\u001b[49m\u001b[38;5;241;43m=\u001b[39;49m\u001b[43m(\u001b[49m\u001b[43mcfg\u001b[49m\u001b[43m,\u001b[49m\u001b[43m)\u001b[49m\u001b[43m,\u001b[49m\n\u001b[1;32m     27\u001b[0m \u001b[43m    \u001b[49m\u001b[43mnprocs\u001b[49m\u001b[38;5;241;43m=\u001b[39;49m\u001b[38;5;241;43m2\u001b[39;49m\u001b[43m,\u001b[49m\n\u001b[1;32m     28\u001b[0m \u001b[43m)\u001b[49m\n",
                  "File \u001b[0;32m~/build/.venv/lib/python3.8/site-packages/torch/multiprocessing/spawn.py:240\u001b[0m, in \u001b[0;36mspawn\u001b[0;34m(fn, args, nprocs, join, daemon, start_method)\u001b[0m\n\u001b[1;32m    236\u001b[0m     msg \u001b[39m=\u001b[39m (\u001b[39m'\u001b[39m\u001b[39mThis method only supports start_method=spawn (got: \u001b[39m\u001b[39m%s\u001b[39;00m\u001b[39m).\u001b[39m\u001b[39m\\n\u001b[39;00m\u001b[39m'\u001b[39m\n\u001b[1;32m    237\u001b[0m            \u001b[39m'\u001b[39m\u001b[39mTo use a different start_method use:\u001b[39m\u001b[39m\\n\u001b[39;00m\u001b[39m\\t\u001b[39;00m\u001b[39m\\t\u001b[39;00m\u001b[39m'\u001b[39m\n\u001b[1;32m    238\u001b[0m            \u001b[39m'\u001b[39m\u001b[39m torch.multiprocessing.start_processes(...)\u001b[39m\u001b[39m'\u001b[39m \u001b[39m%\u001b[39m start_method)\n\u001b[1;32m    239\u001b[0m     warnings\u001b[39m.\u001b[39mwarn(msg)\n\u001b[0;32m--> 240\u001b[0m \u001b[39mreturn\u001b[39;00m start_processes(fn, args, nprocs, join, daemon, start_method\u001b[39m=\u001b[39;49m\u001b[39m'\u001b[39;49m\u001b[39mspawn\u001b[39;49m\u001b[39m'\u001b[39;49m)\n",
                  "File \u001b[0;32m~/build/.venv/lib/python3.8/site-packages/torch/multiprocessing/spawn.py:198\u001b[0m, in \u001b[0;36mstart_processes\u001b[0;34m(fn, args, nprocs, join, daemon, start_method)\u001b[0m\n\u001b[1;32m    195\u001b[0m     \u001b[39mreturn\u001b[39;00m context\n\u001b[1;32m    197\u001b[0m \u001b[39m# Loop on join until it returns True or raises an exception.\u001b[39;00m\n\u001b[0;32m--> 198\u001b[0m \u001b[39mwhile\u001b[39;00m \u001b[39mnot\u001b[39;00m context\u001b[39m.\u001b[39;49mjoin():\n\u001b[1;32m    199\u001b[0m     \u001b[39mpass\u001b[39;00m\n",
                  "File \u001b[0;32m~/build/.venv/lib/python3.8/site-packages/torch/multiprocessing/spawn.py:109\u001b[0m, in \u001b[0;36mProcessContext.join\u001b[0;34m(self, timeout)\u001b[0m\n\u001b[1;32m    106\u001b[0m     \u001b[39mreturn\u001b[39;00m \u001b[39mTrue\u001b[39;00m\n\u001b[1;32m    108\u001b[0m \u001b[39m# Wait for any process to fail or all of them to succeed.\u001b[39;00m\n\u001b[0;32m--> 109\u001b[0m ready \u001b[39m=\u001b[39m multiprocessing\u001b[39m.\u001b[39;49mconnection\u001b[39m.\u001b[39;49mwait(\n\u001b[1;32m    110\u001b[0m     \u001b[39mself\u001b[39;49m\u001b[39m.\u001b[39;49msentinels\u001b[39m.\u001b[39;49mkeys(),\n\u001b[1;32m    111\u001b[0m     timeout\u001b[39m=\u001b[39;49mtimeout,\n\u001b[1;32m    112\u001b[0m )\n\u001b[1;32m    114\u001b[0m error_index \u001b[39m=\u001b[39m \u001b[39mNone\u001b[39;00m\n\u001b[1;32m    115\u001b[0m \u001b[39mfor\u001b[39;00m sentinel \u001b[39min\u001b[39;00m ready:\n",
                  "File \u001b[0;32m/opt/conda/lib/python3.8/multiprocessing/connection.py:931\u001b[0m, in \u001b[0;36mwait\u001b[0;34m(object_list, timeout)\u001b[0m\n\u001b[1;32m    928\u001b[0m     deadline \u001b[39m=\u001b[39m time\u001b[39m.\u001b[39mmonotonic() \u001b[39m+\u001b[39m timeout\n\u001b[1;32m    930\u001b[0m \u001b[39mwhile\u001b[39;00m \u001b[39mTrue\u001b[39;00m:\n\u001b[0;32m--> 931\u001b[0m     ready \u001b[39m=\u001b[39m selector\u001b[39m.\u001b[39;49mselect(timeout)\n\u001b[1;32m    932\u001b[0m     \u001b[39mif\u001b[39;00m ready:\n\u001b[1;32m    933\u001b[0m         \u001b[39mreturn\u001b[39;00m [key\u001b[39m.\u001b[39mfileobj \u001b[39mfor\u001b[39;00m (key, events) \u001b[39min\u001b[39;00m ready]\n",
                  "File \u001b[0;32m/opt/conda/lib/python3.8/selectors.py:415\u001b[0m, in \u001b[0;36m_PollLikeSelector.select\u001b[0;34m(self, timeout)\u001b[0m\n\u001b[1;32m    413\u001b[0m ready \u001b[39m=\u001b[39m []\n\u001b[1;32m    414\u001b[0m \u001b[39mtry\u001b[39;00m:\n\u001b[0;32m--> 415\u001b[0m     fd_event_list \u001b[39m=\u001b[39m \u001b[39mself\u001b[39;49m\u001b[39m.\u001b[39;49m_selector\u001b[39m.\u001b[39;49mpoll(timeout)\n\u001b[1;32m    416\u001b[0m \u001b[39mexcept\u001b[39;00m \u001b[39mInterruptedError\u001b[39;00m:\n\u001b[1;32m    417\u001b[0m     \u001b[39mreturn\u001b[39;00m ready\n",
                  "\u001b[0;31mKeyboardInterrupt\u001b[0m: "
               ]
            }
         ],
         "source": [
            "import torch\n",
            "import torch.nn.functional as F\n",
            "import torch.multiprocessing as mp\n",
            "import torch.distributed as dist\n",
            "from torch.nn.parallel import DistributedDataParallel\n",
            "\n",
            "def main(rank, cfg):\n",
            "    cifar = torchvision.datasets.CIFAR10(root=\"../data/\", download=True)\n",
            "    device = torch.device(f\"cuda:{rank}\")\n",
            "    train_sampler = torch.utils.data.distributed.DistributedSampler(\n",
            "        cifar, drop_last=True\n",
            "    )\n",
            "    train_loader = torch.utils.data.DataLoader(\n",
            "        cifar,\n",
            "        sampler=train_sampler,\n",
            "        batch_size=128,\n",
            "        shuffle=True,\n",
            "    )\n",
            "    print(f\"Num samples in rank {rank}: {len(train_loader)*256}\") \n",
            "\n",
            "    \n",
            "\n",
            "\n",
            "mp.spawn(\n",
            "    main,\n",
            "    args=(cfg,),\n",
            "    nprocs=2,\n",
            ")"
         ]
      },
      {
         "cell_type": "code",
         "execution_count": 5,
         "metadata": {},
         "outputs": [
            {
               "name": "stdout",
               "output_type": "stream",
               "text": [
                  "Files already downloaded and verified\n"
               ]
            }
         ],
         "source": [
            "train, test = get_dataloaders(cfg)"
         ]
      },
      {
         "cell_type": "code",
         "execution_count": 6,
         "metadata": {},
         "outputs": [
            {
               "data": {
                  "text/plain": [
                     "32"
                  ]
               },
               "execution_count": 6,
               "metadata": {},
               "output_type": "execute_result"
            }
         ],
         "source": [
            "cfg.training.batch_size"
         ]
      },
      {
         "cell_type": "code",
         "execution_count": 7,
         "metadata": {},
         "outputs": [
            {
               "data": {
                  "text/plain": [
                     "1562"
                  ]
               },
               "execution_count": 7,
               "metadata": {},
               "output_type": "execute_result"
            }
         ],
         "source": [
            "len(train)"
         ]
      },
      {
         "cell_type": "code",
         "execution_count": 8,
         "metadata": {},
         "outputs": [
            {
               "data": {
                  "text/plain": [
                     "50000"
                  ]
               },
               "execution_count": 8,
               "metadata": {},
               "output_type": "execute_result"
            }
         ],
         "source": [
            "len(train.dataset)"
         ]
      },
      {
         "cell_type": "code",
         "execution_count": 9,
         "metadata": {},
         "outputs": [
            {
               "data": {
                  "text/plain": [
                     "1562.5"
                  ]
               },
               "execution_count": 9,
               "metadata": {},
               "output_type": "execute_result"
            }
         ],
         "source": [
            "len(train.dataset) / cfg.training.batch_size"
         ]
      },
      {
         "cell_type": "code",
         "execution_count": 10,
         "metadata": {},
         "outputs": [],
         "source": [
            "for imgs,labels in train:\n",
            "    break"
         ]
      },
      {
         "cell_type": "code",
         "execution_count": 11,
         "metadata": {},
         "outputs": [],
         "source": [
            "import torch\n",
            "from rigl_torch.optim import get_lr_scheduler, get_optimizer\n",
            "optim = get_optimizer(cfg, net, None)\n",
            "lr_scheduler = get_lr_scheduler(cfg, optim, None)\n",
            "\n",
            "\n",
            "\n",
            "# adamw1 = AdamW(net.parameters(), lr=0.001)\n",
            "# adamw2 = AdamW(net.parameters(), lr=0.001)\n",
            "# linear_step = torch.optim.lr_scheduler.StepLR(adamw2, step_size=30000, gamma=0.2)\n",
            "# cawr = CosineAnnealingWarmRestarts(optimizer=adamw1, T_0=20, T_mult=2)\n",
            "# ca = CosineAnnealingLR(optimizer=adamw2, T_max=T_max)\n",
            "# adamw3 = AdamW(net.parameters(), lr=0.001)\n",
            "# test= CosineAnnealingWithLinearWarmUp(optimizer=adamw3, T_max=T_max, warm_up_steps=50, lr=0.001)"
         ]
      },
      {
         "cell_type": "code",
         "execution_count": 12,
         "metadata": {},
         "outputs": [],
         "source": [
            "# lr_scheduler.get_last_lr()"
         ]
      },
      {
         "cell_type": "code",
         "execution_count": 13,
         "metadata": {},
         "outputs": [],
         "source": [
            "# lr_scheduler.step_size"
         ]
      },
      {
         "cell_type": "code",
         "execution_count": 14,
         "metadata": {},
         "outputs": [
            {
               "name": "stderr",
               "output_type": "stream",
               "text": [
                  "/home/user/build/.venv/lib/python3.8/site-packages/torch/optim/lr_scheduler.py:131: UserWarning: Detected call of `lr_scheduler.step()` before `optimizer.step()`. In PyTorch 1.1.0 and later, you should call them in the opposite order: `optimizer.step()` before `lr_scheduler.step()`.  Failure to do this will result in PyTorch skipping the first value of the learning rate schedule. See more details at https://pytorch.org/docs/stable/optim.html#how-to-adjust-learning-rate\n",
                  "  warnings.warn(\"Detected call of `lr_scheduler.step()` before `optimizer.step()`. \"\n",
                  "INFO:/home/condensed-sparsity/src/rigl_torch/optim/step_lr_with_linear_warm_up.py:Reducing LR to 0.16000000000000003 @ epoch 30\n",
                  "INFO:/home/condensed-sparsity/src/rigl_torch/optim/step_lr_with_linear_warm_up.py:Reducing LR to 0.016000000000000004 @ epoch 70\n",
                  "INFO:/home/condensed-sparsity/src/rigl_torch/optim/step_lr_with_linear_warm_up.py:Reducing LR to 0.0016000000000000005 @ epoch 90\n"
               ]
            }
         ],
         "source": [
            "%matplotlib inline\n",
            "lrs=[]\n",
            "step_lrs=[]\n",
            "# from torch.optim.lr_scheduler import StepLR\n",
            "# step_scheduler = StepLR(optim, step_size=30, gamma=0.1)\n",
            "for epoch in range(0,100):\n",
            "    # lr = [group[\"lr\"] for group in optim.param_groups][0]\n",
            "    lr=lr_scheduler.get_last_lr()[0]\n",
            "    lrs.append(lr)\n",
            "    lr_scheduler.step()\n",
            "    # lr = [group[\"lr\"] for group in optim.param_groups][0]\n",
            "    # step_lrs.append(lr)\n",
            "    # step_scheduler.step()\n",
            "\n",
            "# for x in range(T_max):\n",
            "#     lr1 = cawr.get_last_lr()\n",
            "#     warm_restart_lrs.append(lr1)\n",
            "#     cawr.step()\n",
            "#     lr2 = linear_step.get_last_lr()\n",
            "#     linear_step_lrs.append(lr2)\n",
            "#     linear_step.step()\n",
            "    # combined.append(lr1[0] * lr2[0]*1000)\n",
            "    # lr3 = test.get_last_lr()\n",
            "    # linear_warmup.append(lr3)\n",
            "    # test.step()"
         ]
      },
      {
         "cell_type": "code",
         "execution_count": 15,
         "metadata": {},
         "outputs": [
            {
               "data": {
                  "text/plain": [
                     "[<matplotlib.lines.Line2D at 0x7f21f70572b0>]"
                  ]
               },
               "execution_count": 15,
               "metadata": {},
               "output_type": "execute_result"
            },
            {
               "data": {
                  "image/png": "[encoded data removed]",
                  "text/plain": [
                     "<Figure size 432x288 with 1 Axes>"
                  ]
               },
               "metadata": {
                  "needs_background": "light"
               },
               "output_type": "display_data"
            }
         ],
         "source": [
            "import matplotlib.pyplot as plt\n",
            "\n",
            "plt.plot(lrs)\n",
            "# plt.plot(step_lrs)\n",
            "# plt.plot(combined)\n",
            "# plt.plot(linear_warmup)"
         ]
      },
      {
         "cell_type": "code",
         "execution_count": 16,
         "metadata": {},
         "outputs": [
            {
               "data": {
                  "text/plain": [
                     "[1.6, 1.6, 0.16000000000000003, 0.16000000000000003]"
                  ]
               },
               "execution_count": 16,
               "metadata": {},
               "output_type": "execute_result"
            }
         ],
         "source": [
            "lrs[28:32]"
         ]
      },
      {
         "cell_type": "code",
         "execution_count": 17,
         "metadata": {},
         "outputs": [
            {
               "data": {
                  "text/plain": [
                     "0.16000000000000003"
                  ]
               },
               "execution_count": 17,
               "metadata": {},
               "output_type": "execute_result"
            }
         ],
         "source": [
            "lrs[31]"
         ]
      },
      {
         "cell_type": "code",
         "execution_count": null,
         "metadata": {},
         "outputs": [],
         "source": [
            "from rigl_torch.models import get_model\n",
            "from rigl_torch.datasets import get_dataloaders\n",
            "from omegaconf import DictConfig\n",
            "import hydra"
         ]
      },
      {
         "cell_type": "code",
         "execution_count": null,
         "metadata": {},
         "outputs": [],
         "source": [
            "with hydra.initialize(config_path=\"../configs\"):\n",
            "    cfg = hydra.compose(config_name=\"config.yaml\", overrides=[])\n",
            "cfg"
         ]
      },
      {
         "cell_type": "code",
         "execution_count": null,
         "metadata": {},
         "outputs": [],
         "source": [
            "def print_image_shape(module, input, output):\n",
            "    print(f\"Module {module._get_name()}\")\n",
            "    print(f\"input shape: {input[0].shape} output shape: {output.shape}\")\n",
            "    return output"
         ]
      }
   ],
   "metadata": {
      "kernelspec": {
         "display_name": "Python 3.8.12 ('.venv')",
         "language": "python",
         "name": "python3"
      },
      "language_info": {
         "codemirror_mode": {
            "name": "ipython",
            "version": 3
         },
         "file_extension": ".py",
         "mimetype": "text/x-python",
         "name": "python",
         "nbconvert_exporter": "python",
         "pygments_lexer": "ipython3",
         "version": "3.8.12"
      },
      "orig_nbformat": 4,
      "vscode": {
         "interpreter": {
            "hash": "816b48dc46e0e4033a4b7ddacb526e2f216437e7413cf9fdf092ed7be3b64e38"
         }
      }
   },
   "nbformat": 4,
   "nbformat_minor": 2
}
