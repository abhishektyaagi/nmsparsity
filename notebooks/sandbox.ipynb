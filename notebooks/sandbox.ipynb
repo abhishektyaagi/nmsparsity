{
   "cells": [
      {
         "cell_type": "code",
         "execution_count": 1,
         "metadata": {},
         "outputs": [],
         "source": [
            "import torch\n",
            "\n"
         ]
      },
      {
         "cell_type": "code",
         "execution_count": 2,
         "metadata": {},
         "outputs": [],
         "source": [
            "import torch\n",
            "from torchvision.models.feature_extraction import create_feature_extractor, get_graph_node_names\n",
            "from rigl_torch.models import ModelFactory\n",
            "\n",
            "class Model(torch.nn.Module):\n",
            "    def __init__(self):\n",
            "        super().__init__()\n",
            "        self.name = \"model\"\n",
            "        self.lin1 = torch.nn.Linear(in_features=10,out_features=100)\n",
            "        self.lin2 = torch.nn.Linear(in_features=100,out_features=1)\n",
            "    \n",
            "    def forward(self, input):\n",
            "        x = self.lin1(input)\n",
            "        x = torch.nn.ReLU(x)\n",
            "        x = self.lin2(x)\n",
            "        return x\n",
            "    \n",
            "    \n",
            "x= torch.Tensor([x for x in range(10)])\n",
            "y=torch.Tensor([100])\n",
            "model = Model()\n",
            "# out = model(x)\n",
            "\n",
            "# opt = torch.optim.SGD(\n",
            "#     params=model.parameters(),\n",
            "#     lr=0.01,\n",
            "#     momentum=0.9,\n",
            "#     weight_decay=0.0005,\n",
            "# )\n",
            "# criterion = torch.nn.MSELoss()\n",
            "# loss = criterion(out, y)\n",
            "# loss.backward()\n",
            "\n",
            "# for p in model.parameters():\n",
            "#     print(p.grad)"
         ]
      },
      {
         "cell_type": "code",
         "execution_count": 26,
         "metadata": {},
         "outputs": [
            {
               "data": {
                  "text/plain": [
                     "torch.Size([100, 10])"
                  ]
               },
               "execution_count": 26,
               "metadata": {},
               "output_type": "execute_result"
            }
         ],
         "source": [
            "score_drop = torch.abs(model.lin1.weight)\n",
            "score_drop.shape"
         ]
      },
      {
         "cell_type": "code",
         "execution_count": 29,
         "metadata": {},
         "outputs": [],
         "source": [
            "values, idx = torch.topk(\n",
            "    score_drop.flatten(),\n",
            "    k=10,\n",
            "    dim=-1,\n",
            "    largest=True,\n",
            "    sorted=True\n",
            ")"
         ]
      },
      {
         "cell_type": "code",
         "execution_count": null,
         "metadata": {},
         "outputs": [],
         "source": [
            "drop_mask = "
         ]
      },
      {
         "cell_type": "code",
         "execution_count": 135,
         "metadata": {},
         "outputs": [
            {
               "name": "stdout",
               "output_type": "stream",
               "text": [
                  "Model(\n",
                  "  (lin1): Linear(in_features=10, out_features=100, bias=True)\n",
                  "  (lin2): Linear(in_features=100, out_features=1, bias=True)\n",
                  ")\n",
                  "Linear(in_features=10, out_features=100, bias=True)\n",
                  "Linear(in_features=100, out_features=1, bias=True)\n"
               ]
            }
         ],
         "source": [
            "for name, p in model.named_modules():\n",
            "    print(p)"
         ]
      },
      {
         "cell_type": "code",
         "execution_count": 14,
         "metadata": {},
         "outputs": [
            {
               "data": {
                  "text/plain": [
                     "23"
                  ]
               },
               "execution_count": 14,
               "metadata": {},
               "output_type": "execute_result"
            }
         ],
         "source": [
            "max([1,23])"
         ]
      },
      {
         "cell_type": "code",
         "execution_count": 13,
         "metadata": {},
         "outputs": [
            {
               "ename": "RuntimeError",
               "evalue": "max(): Expected reduction dim to be specified for input.numel() == 0. Specify the reduction dim with the 'dim' argument.",
               "output_type": "error",
               "traceback": [
                  "\u001b[0;31m---------------------------------------------------------------------------\u001b[0m",
                  "\u001b[0;31mRuntimeError\u001b[0m                              Traceback (most recent call last)",
                  "Cell \u001b[0;32mIn [13], line 6\u001b[0m\n\u001b[1;32m      3\u001b[0m t \u001b[39m=\u001b[39m torch\u001b[39m.\u001b[39mTensor([\u001b[39m1\u001b[39m,\u001b[39m2\u001b[39m,\u001b[39m3\u001b[39m])\n\u001b[1;32m      4\u001b[0m m \u001b[39m=\u001b[39m torch\u001b[39m.\u001b[39mTensor([\u001b[39mTrue\u001b[39;00m, \u001b[39mTrue\u001b[39;00m, \u001b[39mTrue\u001b[39;00m])\n\u001b[0;32m----> 6\u001b[0m torch\u001b[39m.\u001b[39;49mabs(t[m \u001b[39m==\u001b[39;49m \u001b[39mFalse\u001b[39;49;00m])\u001b[39m.\u001b[39;49mmax()\u001b[39m.\u001b[39mitem()\n",
                  "\u001b[0;31mRuntimeError\u001b[0m: max(): Expected reduction dim to be specified for input.numel() == 0. Specify the reduction dim with the 'dim' argument."
               ]
            }
         ],
         "source": [
            "import torch\n",
            "\n",
            "t = torch.Tensor([1,2,3])\n",
            "m = torch.Tensor([True, True, True])\n",
            "\n",
            "torch.abs(t[m == False]).max().item()"
         ]
      },
      {
         "cell_type": "code",
         "execution_count": 131,
         "metadata": {},
         "outputs": [
            {
               "name": "stdout",
               "output_type": "stream",
               "text": [
                  "model\n"
               ]
            },
            {
               "ename": "AttributeError",
               "evalue": "'Linear' object has no attribute 'name'",
               "output_type": "error",
               "traceback": [
                  "\u001b[0;31m---------------------------------------------------------------------------\u001b[0m",
                  "\u001b[0;31mAttributeError\u001b[0m                            Traceback (most recent call last)",
                  "Cell \u001b[0;32mIn [131], line 2\u001b[0m\n\u001b[1;32m      1\u001b[0m \u001b[39mfor\u001b[39;00m m \u001b[39min\u001b[39;00m model\u001b[39m.\u001b[39mmodules():\n\u001b[0;32m----> 2\u001b[0m     \u001b[39mprint\u001b[39m(m\u001b[39m.\u001b[39;49mname)\n",
                  "File \u001b[0;32m~/build/.venv/lib/python3.8/site-packages/torch/nn/modules/module.py:1207\u001b[0m, in \u001b[0;36mModule.__getattr__\u001b[0;34m(self, name)\u001b[0m\n\u001b[1;32m   1205\u001b[0m     \u001b[39mif\u001b[39;00m name \u001b[39min\u001b[39;00m modules:\n\u001b[1;32m   1206\u001b[0m         \u001b[39mreturn\u001b[39;00m modules[name]\n\u001b[0;32m-> 1207\u001b[0m \u001b[39mraise\u001b[39;00m \u001b[39mAttributeError\u001b[39;00m(\u001b[39m\"\u001b[39m\u001b[39m'\u001b[39m\u001b[39m{}\u001b[39;00m\u001b[39m'\u001b[39m\u001b[39m object has no attribute \u001b[39m\u001b[39m'\u001b[39m\u001b[39m{}\u001b[39;00m\u001b[39m'\u001b[39m\u001b[39m\"\u001b[39m\u001b[39m.\u001b[39mformat(\n\u001b[1;32m   1208\u001b[0m     \u001b[39mtype\u001b[39m(\u001b[39mself\u001b[39m)\u001b[39m.\u001b[39m\u001b[39m__name__\u001b[39m, name))\n",
                  "\u001b[0;31mAttributeError\u001b[0m: 'Linear' object has no attribute 'name'"
               ]
            }
         ],
         "source": [
            "for m in model.modules():\n",
            "    print(m.name)"
         ]
      },
      {
         "cell_type": "code",
         "execution_count": 129,
         "metadata": {},
         "outputs": [
            {
               "data": {
                  "text/plain": [
                     "tensor([[inf, inf, inf, inf, inf, inf, inf, inf, inf, inf],\n",
                     "        [inf, inf, inf, inf, inf, inf, inf, inf, inf, inf],\n",
                     "        [inf, inf, inf, inf, inf, inf, inf, inf, inf, inf],\n",
                     "        [inf, inf, inf, inf, inf, inf, inf, inf, inf, inf],\n",
                     "        [inf, inf, inf, inf, inf, inf, inf, inf, inf, inf],\n",
                     "        [inf, inf, inf, inf, inf, inf, inf, inf, inf, inf],\n",
                     "        [inf, inf, inf, inf, inf, inf, inf, inf, inf, inf],\n",
                     "        [inf, inf, inf, inf, inf, inf, inf, inf, inf, inf],\n",
                     "        [inf, inf, inf, inf, inf, inf, inf, inf, inf, inf],\n",
                     "        [inf, inf, inf, inf, inf, inf, inf, inf, inf, inf],\n",
                     "        [inf, inf, inf, inf, inf, inf, inf, inf, inf, inf],\n",
                     "        [inf, inf, inf, inf, inf, inf, inf, inf, inf, inf],\n",
                     "        [inf, inf, inf, inf, inf, inf, inf, inf, inf, inf],\n",
                     "        [inf, inf, inf, inf, inf, inf, inf, inf, inf, inf],\n",
                     "        [inf, inf, inf, inf, inf, inf, inf, inf, inf, inf],\n",
                     "        [inf, inf, inf, inf, inf, inf, inf, inf, inf, inf],\n",
                     "        [inf, inf, inf, inf, inf, inf, inf, inf, inf, inf],\n",
                     "        [inf, inf, inf, inf, inf, inf, inf, inf, inf, inf],\n",
                     "        [inf, inf, inf, inf, inf, inf, inf, inf, inf, inf],\n",
                     "        [inf, inf, inf, inf, inf, inf, inf, inf, inf, inf],\n",
                     "        [inf, inf, inf, inf, inf, inf, inf, inf, inf, inf],\n",
                     "        [inf, inf, inf, inf, inf, inf, inf, inf, inf, inf],\n",
                     "        [inf, inf, inf, inf, inf, inf, inf, inf, inf, inf],\n",
                     "        [inf, inf, inf, inf, inf, inf, inf, inf, inf, inf],\n",
                     "        [inf, inf, inf, inf, inf, inf, inf, inf, inf, inf],\n",
                     "        [inf, inf, inf, inf, inf, inf, inf, inf, inf, inf],\n",
                     "        [inf, inf, inf, inf, inf, inf, inf, inf, inf, inf],\n",
                     "        [inf, inf, inf, inf, inf, inf, inf, inf, inf, inf],\n",
                     "        [inf, inf, inf, inf, inf, inf, inf, inf, inf, inf],\n",
                     "        [inf, inf, inf, inf, inf, inf, inf, inf, inf, inf],\n",
                     "        [inf, inf, inf, inf, inf, inf, inf, inf, inf, inf],\n",
                     "        [inf, inf, inf, inf, inf, inf, inf, inf, inf, inf],\n",
                     "        [inf, inf, inf, inf, inf, inf, inf, inf, inf, inf],\n",
                     "        [inf, inf, inf, inf, inf, inf, inf, inf, inf, inf],\n",
                     "        [inf, inf, inf, inf, inf, inf, inf, inf, inf, inf],\n",
                     "        [inf, inf, inf, inf, inf, inf, inf, inf, inf, inf],\n",
                     "        [inf, inf, inf, inf, inf, inf, inf, inf, inf, inf],\n",
                     "        [inf, inf, inf, inf, inf, inf, inf, inf, inf, inf],\n",
                     "        [inf, inf, inf, inf, inf, inf, inf, inf, inf, inf],\n",
                     "        [inf, inf, inf, inf, inf, inf, inf, inf, inf, inf],\n",
                     "        [inf, inf, inf, inf, inf, inf, inf, inf, inf, inf],\n",
                     "        [inf, inf, inf, inf, inf, inf, inf, inf, inf, inf],\n",
                     "        [inf, inf, inf, inf, inf, inf, inf, inf, inf, inf],\n",
                     "        [inf, inf, inf, inf, inf, inf, inf, inf, inf, inf],\n",
                     "        [inf, inf, inf, inf, inf, inf, inf, inf, inf, inf],\n",
                     "        [inf, inf, inf, inf, inf, inf, inf, inf, inf, inf],\n",
                     "        [inf, inf, inf, inf, inf, inf, inf, inf, inf, inf],\n",
                     "        [inf, inf, inf, inf, inf, inf, inf, inf, inf, inf],\n",
                     "        [inf, inf, inf, inf, inf, inf, inf, inf, inf, inf],\n",
                     "        [inf, inf, inf, inf, inf, inf, inf, inf, inf, inf],\n",
                     "        [inf, inf, inf, inf, inf, inf, inf, inf, inf, inf],\n",
                     "        [inf, inf, inf, inf, inf, inf, inf, inf, inf, inf],\n",
                     "        [inf, inf, inf, inf, inf, inf, inf, inf, inf, inf],\n",
                     "        [inf, inf, inf, inf, inf, inf, inf, inf, inf, inf],\n",
                     "        [inf, inf, inf, inf, inf, inf, inf, inf, inf, inf],\n",
                     "        [inf, inf, inf, inf, inf, inf, inf, inf, inf, inf],\n",
                     "        [inf, inf, inf, inf, inf, inf, inf, inf, inf, inf],\n",
                     "        [inf, inf, inf, inf, inf, inf, inf, inf, inf, inf],\n",
                     "        [inf, inf, inf, inf, inf, inf, inf, inf, inf, inf],\n",
                     "        [inf, inf, inf, inf, inf, inf, inf, inf, inf, inf],\n",
                     "        [inf, inf, inf, inf, inf, inf, inf, inf, inf, inf],\n",
                     "        [inf, inf, inf, inf, inf, inf, inf, inf, inf, inf],\n",
                     "        [inf, inf, inf, inf, inf, inf, inf, inf, inf, inf],\n",
                     "        [inf, inf, inf, inf, inf, inf, inf, inf, inf, inf],\n",
                     "        [inf, inf, inf, inf, inf, inf, inf, inf, inf, inf],\n",
                     "        [inf, inf, inf, inf, inf, inf, inf, inf, inf, inf],\n",
                     "        [inf, inf, inf, inf, inf, inf, inf, inf, inf, inf],\n",
                     "        [inf, inf, inf, inf, inf, inf, inf, inf, inf, inf],\n",
                     "        [inf, inf, inf, inf, inf, inf, inf, inf, inf, inf],\n",
                     "        [inf, inf, inf, inf, inf, inf, inf, inf, inf, inf],\n",
                     "        [inf, inf, inf, inf, inf, inf, inf, inf, inf, inf],\n",
                     "        [inf, inf, inf, inf, inf, inf, inf, inf, inf, inf],\n",
                     "        [inf, inf, inf, inf, inf, inf, inf, inf, inf, inf],\n",
                     "        [inf, inf, inf, inf, inf, inf, inf, inf, inf, inf],\n",
                     "        [inf, inf, inf, inf, inf, inf, inf, inf, inf, inf],\n",
                     "        [inf, inf, inf, inf, inf, inf, inf, inf, inf, inf],\n",
                     "        [inf, inf, inf, inf, inf, inf, inf, inf, inf, inf],\n",
                     "        [inf, inf, inf, inf, inf, inf, inf, inf, inf, inf],\n",
                     "        [inf, inf, inf, inf, inf, inf, inf, inf, inf, inf],\n",
                     "        [inf, inf, inf, inf, inf, inf, inf, inf, inf, inf],\n",
                     "        [inf, inf, inf, inf, inf, inf, inf, inf, inf, inf],\n",
                     "        [inf, inf, inf, inf, inf, inf, inf, inf, inf, inf],\n",
                     "        [inf, inf, inf, inf, inf, inf, inf, inf, inf, inf],\n",
                     "        [inf, inf, inf, inf, inf, inf, inf, inf, inf, inf],\n",
                     "        [inf, inf, inf, inf, inf, inf, inf, inf, inf, inf],\n",
                     "        [inf, inf, inf, inf, inf, inf, inf, inf, inf, inf],\n",
                     "        [inf, inf, inf, inf, inf, inf, inf, inf, inf, inf],\n",
                     "        [inf, inf, inf, inf, inf, inf, inf, inf, inf, inf],\n",
                     "        [inf, inf, inf, inf, inf, inf, inf, inf, inf, inf],\n",
                     "        [inf, inf, inf, inf, inf, inf, inf, inf, inf, inf],\n",
                     "        [inf, inf, inf, inf, inf, inf, inf, inf, inf, inf],\n",
                     "        [inf, inf, inf, inf, inf, inf, inf, inf, inf, inf],\n",
                     "        [inf, inf, inf, inf, inf, inf, inf, inf, inf, inf],\n",
                     "        [inf, inf, inf, inf, inf, inf, inf, inf, inf, inf],\n",
                     "        [inf, inf, inf, inf, inf, inf, inf, inf, inf, inf],\n",
                     "        [inf, inf, inf, inf, inf, inf, inf, inf, inf, inf],\n",
                     "        [inf, inf, inf, inf, inf, inf, inf, inf, inf, inf],\n",
                     "        [inf, inf, inf, inf, inf, inf, inf, inf, inf, inf],\n",
                     "        [inf, inf, inf, inf, inf, inf, inf, inf, inf, inf],\n",
                     "        [inf, inf, inf, inf, inf, inf, inf, inf, inf, inf]])"
                  ]
               },
               "execution_count": 129,
               "metadata": {},
               "output_type": "execute_result"
            }
         ],
         "source": [
            "w = model.lin1.weight\n",
            "t = torch.Tensor(size=(w.shape))\n",
            "t[:] = torch.inf\n",
            "t[]"
         ]
      },
      {
         "cell_type": "code",
         "execution_count": 114,
         "metadata": {},
         "outputs": [
            {
               "ename": "NameError",
               "evalue": "name 'n_prune' is not defined",
               "output_type": "error",
               "traceback": [
                  "\u001b[0;31m---------------------------------------------------------------------------\u001b[0m",
                  "\u001b[0;31mNameError\u001b[0m                                 Traceback (most recent call last)",
                  "Cell \u001b[0;32mIn [114], line 1\u001b[0m\n\u001b[0;32m----> 1\u001b[0m _, sorted_indices \u001b[39m=\u001b[39m torch\u001b[39m.\u001b[39mtopk(score_drop\u001b[39m.\u001b[39mview(\u001b[39m-\u001b[39m\u001b[39m1\u001b[39m), k\u001b[39m=\u001b[39mn_prune)\n\u001b[1;32m      2\u001b[0m new_values_test \u001b[39m=\u001b[39m torch\u001b[39m.\u001b[39mzeros(size\u001b[39m=\u001b[39m(score_drop\u001b[39m.\u001b[39mflatten()\u001b[39m.\u001b[39mshape), dtype\u001b[39m=\u001b[39mtorch\u001b[39m.\u001b[39mbool)\n\u001b[1;32m      3\u001b[0m new_values_test[sorted_indices] \u001b[39m=\u001b[39m \u001b[39mTrue\u001b[39;00m\n",
                  "\u001b[0;31mNameError\u001b[0m: name 'n_prune' is not defined"
               ]
            }
         ],
         "source": [
            "n_prune=\n",
            "_, sorted_indices = torch.topk(score_drop.view(-1), k=n_prune)\n",
            "new_values_test = torch.zeros(size=(score_drop.flatten().shape), dtype=torch.bool)\n",
            "new_values_test[sorted_indices] = True"
         ]
      },
      {
         "cell_type": "code",
         "execution_count": 113,
         "metadata": {},
         "outputs": [
            {
               "data": {
                  "text/plain": [
                     "tensor(100)"
                  ]
               },
               "execution_count": 113,
               "metadata": {},
               "output_type": "execute_result"
            }
         ],
         "source": [
            "n_total = score_drop.numel()\n",
            "n_keep = int(n_total * 0.1)\n",
            "w = model.lin1.weight\n",
            "_, sorted_indices = torch.topk(score_drop.view(-1), k=n_total)\n",
            "new_values = torch.where(\n",
            "    torch.arange(n_total, device=w.device) < n_keep,\n",
            "    torch.ones_like(sorted_indices),\n",
            "    torch.zeros_like(sorted_indices),\n",
            ")\n",
            "mask1 = new_values.scatter(0, sorted_indices, new_values)\n",
            "mask1.sum()"
         ]
      },
      {
         "cell_type": "code",
         "execution_count": 41,
         "metadata": {},
         "outputs": [],
         "source": [
            "drop_mask = torch.zeros(size=(score_drop.numel(),), dtype=torch.bool)\n",
            "drop_mask[idx] = True"
         ]
      },
      {
         "cell_type": "code",
         "execution_count": 79,
         "metadata": {},
         "outputs": [
            {
               "data": {
                  "text/plain": [
                     "12"
                  ]
               },
               "execution_count": 79,
               "metadata": {},
               "output_type": "execute_result"
            }
         ],
         "source": [
            "from functools import reduce\n",
            "\n",
            "l = [\n",
            "    [1,2,3],\n",
            "    [1,2,3],\n",
            "    [1,2,3],\n",
            "    [1,2,3],\n",
            "]\n",
            "\n",
            "\n",
            "sum([len(sub_list) for sub_list in l])\n"
         ]
      },
      {
         "cell_type": "code",
         "execution_count": 71,
         "metadata": {},
         "outputs": [
            {
               "name": "stdout",
               "output_type": "stream",
               "text": [
                  "[1]\n",
                  "None\n",
                  "None\n"
               ]
            }
         ],
         "source": [
            "reduce(lambda x,y: print(x), [[1],[2],[5],[4]])"
         ]
      },
      {
         "cell_type": "code",
         "execution_count": 47,
         "metadata": {},
         "outputs": [
            {
               "data": {
                  "text/plain": [
                     "tensor([481, 537, 619, 992, 443, 605, 262, 214, 170, 483])"
                  ]
               },
               "execution_count": 47,
               "metadata": {},
               "output_type": "execute_result"
            }
         ],
         "source": [
            "idx"
         ]
      },
      {
         "cell_type": "code",
         "execution_count": 49,
         "metadata": {},
         "outputs": [
            {
               "data": {
                  "text/plain": [
                     "tensor([0.3162, 0.3162, 0.3160, 0.3156, 0.3145, 0.3145, 0.3140, 0.3127, 0.3124,\n",
                     "        0.3117], grad_fn=<TopkBackward0>)"
                  ]
               },
               "execution_count": 49,
               "metadata": {},
               "output_type": "execute_result"
            }
         ],
         "source": [
            "drop_mask = drop_mask.reshape(shape=score_drop.shape)\n",
            "values\n"
         ]
      },
      {
         "cell_type": "code",
         "execution_count": 50,
         "metadata": {},
         "outputs": [
            {
               "data": {
                  "text/plain": [
                     "tensor([0.3162, 0.3162, 0.3160, 0.3156, 0.3145, 0.3145, 0.3140, 0.3127, 0.3124,\n",
                     "        0.3117], grad_fn=<IndexBackward0>)"
                  ]
               },
               "execution_count": 50,
               "metadata": {},
               "output_type": "execute_result"
            }
         ],
         "source": [
            "score_drop.flatten()[idx]"
         ]
      },
      {
         "cell_type": "code",
         "execution_count": 6,
         "metadata": {},
         "outputs": [
            {
               "data": {
                  "text/plain": [
                     "torch.Size([100, 10])"
                  ]
               },
               "execution_count": 6,
               "metadata": {},
               "output_type": "execute_result"
            }
         ],
         "source": [
            "model.lin1.weight.shape"
         ]
      },
      {
         "cell_type": "code",
         "execution_count": 8,
         "metadata": {},
         "outputs": [],
         "source": [
            "model.lin1.weight.ablated = True"
         ]
      },
      {
         "cell_type": "code",
         "execution_count": 16,
         "metadata": {},
         "outputs": [
            {
               "data": {
                  "text/plain": [
                     "tensor([-0.0058,  0.1171, -0.0432,  0.1910,  0.1428, -0.0060, -0.1363,  0.1132,\n",
                     "        -0.2438,  0.0087], grad_fn=<SelectBackward0>)"
                  ]
               },
               "execution_count": 16,
               "metadata": {},
               "output_type": "execute_result"
            }
         ],
         "source": [
            "model.lin1.weight[0]"
         ]
      },
      {
         "cell_type": "code",
         "execution_count": 23,
         "metadata": {},
         "outputs": [
            {
               "name": "stderr",
               "output_type": "stream",
               "text": [
                  "INFO:/home/user/condensed-sparsity/src/rigl_torch/models/model_factory.py:Loading model wide_resnet22/cifar10 using <function get_wide_resnet_22 at 0x7fe1195e8430> with args: () and kwargs: {}\n"
               ]
            }
         ],
         "source": [
            "wide_res = ModelFactory.load_model(model=\"wide_resnet22\", dataset=\"cifar10\")"
         ]
      },
      {
         "cell_type": "code",
         "execution_count": 38,
         "metadata": {},
         "outputs": [
            {
               "name": "stdout",
               "output_type": "stream",
               "text": [
                  "Conv2d(3, 16, kernel_size=(3, 3), stride=(1, 1), padding=(1, 1), bias=False)\n",
                  "Conv2d(16, 32, kernel_size=(3, 3), stride=(1, 1), padding=(1, 1), bias=False)\n",
                  "Conv2d(32, 32, kernel_size=(3, 3), stride=(1, 1), padding=(1, 1), bias=False)\n",
                  "Conv2d(16, 32, kernel_size=(1, 1), stride=(1, 1), bias=False)\n",
                  "Conv2d(32, 32, kernel_size=(3, 3), stride=(1, 1), padding=(1, 1), bias=False)\n",
                  "Conv2d(32, 32, kernel_size=(3, 3), stride=(1, 1), padding=(1, 1), bias=False)\n",
                  "Conv2d(32, 32, kernel_size=(3, 3), stride=(1, 1), padding=(1, 1), bias=False)\n",
                  "Conv2d(32, 32, kernel_size=(3, 3), stride=(1, 1), padding=(1, 1), bias=False)\n",
                  "Conv2d(32, 64, kernel_size=(3, 3), stride=(2, 2), padding=(1, 1), bias=False)\n",
                  "Conv2d(64, 64, kernel_size=(3, 3), stride=(1, 1), padding=(1, 1), bias=False)\n",
                  "Conv2d(32, 64, kernel_size=(1, 1), stride=(2, 2), bias=False)\n",
                  "Conv2d(64, 64, kernel_size=(3, 3), stride=(1, 1), padding=(1, 1), bias=False)\n",
                  "Conv2d(64, 64, kernel_size=(3, 3), stride=(1, 1), padding=(1, 1), bias=False)\n",
                  "Conv2d(64, 64, kernel_size=(3, 3), stride=(1, 1), padding=(1, 1), bias=False)\n",
                  "Conv2d(64, 64, kernel_size=(3, 3), stride=(1, 1), padding=(1, 1), bias=False)\n",
                  "Conv2d(64, 128, kernel_size=(3, 3), stride=(2, 2), padding=(1, 1), bias=False)\n",
                  "Conv2d(128, 128, kernel_size=(3, 3), stride=(1, 1), padding=(1, 1), bias=False)\n",
                  "Conv2d(64, 128, kernel_size=(1, 1), stride=(2, 2), bias=False)\n",
                  "Conv2d(128, 128, kernel_size=(3, 3), stride=(1, 1), padding=(1, 1), bias=False)\n",
                  "Conv2d(128, 128, kernel_size=(3, 3), stride=(1, 1), padding=(1, 1), bias=False)\n",
                  "Conv2d(128, 128, kernel_size=(3, 3), stride=(1, 1), padding=(1, 1), bias=False)\n",
                  "Conv2d(128, 128, kernel_size=(3, 3), stride=(1, 1), padding=(1, 1), bias=False)\n",
                  "Linear(in_features=128, out_features=10, bias=True)\n"
               ]
            }
         ],
         "source": [
            "target_types = [\n",
            "    torch.nn.Conv2d,\n",
            "    torch.nn.Linear\n",
            "]\n",
            "\n",
            "\n",
            "\n",
            "for m in wide_res.modules():\n",
            "    if type(m) in target_types:\n",
            "        print(m.weight)"
         ]
      },
      {
         "cell_type": "markdown",
         "metadata": {},
         "source": [
            "\n"
         ]
      },
      {
         "cell_type": "code",
         "execution_count": 33,
         "metadata": {},
         "outputs": [
            {
               "data": {
                  "text/plain": [
                     "Conv2d(3, 16, kernel_size=(3, 3), stride=(1, 1), padding=(1, 1), bias=False)"
                  ]
               },
               "execution_count": 33,
               "metadata": {},
               "output_type": "execute_result"
            }
         ],
         "source": [
            "wide_res.get_submodule(\"conv1\")"
         ]
      },
      {
         "cell_type": "code",
         "execution_count": 31,
         "metadata": {},
         "outputs": [
            {
               "data": {
                  "text/plain": [
                     "Model(\n",
                     "  (lin1): Linear(in_features=10, out_features=100, bias=True)\n",
                     "  (lin2): Linear(in_features=100, out_features=1, bias=True)\n",
                     ")"
                  ]
               },
               "execution_count": 31,
               "metadata": {},
               "output_type": "execute_result"
            }
         ],
         "source": [
            "model"
         ]
      },
      {
         "cell_type": "code",
         "execution_count": 28,
         "metadata": {},
         "outputs": [
            {
               "ename": "AttributeError",
               "evalue": "Model has no attribute `conv1`",
               "output_type": "error",
               "traceback": [
                  "\u001b[0;31m---------------------------------------------------------------------------\u001b[0m",
                  "\u001b[0;31mAttributeError\u001b[0m                            Traceback (most recent call last)",
                  "Cell \u001b[0;32mIn [28], line 1\u001b[0m\n\u001b[0;32m----> 1\u001b[0m model\u001b[39m.\u001b[39;49mget_submodule(target\u001b[39m=\u001b[39;49mtrain_nodes[\u001b[39m1\u001b[39;49m])\n",
                  "File \u001b[0;32m~/build/.venv/lib/python3.8/site-packages/torch/nn/modules/module.py:456\u001b[0m, in \u001b[0;36mModule.get_submodule\u001b[0;34m(self, target)\u001b[0m\n\u001b[1;32m    453\u001b[0m \u001b[39mfor\u001b[39;00m item \u001b[39min\u001b[39;00m atoms:\n\u001b[1;32m    455\u001b[0m     \u001b[39mif\u001b[39;00m \u001b[39mnot\u001b[39;00m \u001b[39mhasattr\u001b[39m(mod, item):\n\u001b[0;32m--> 456\u001b[0m         \u001b[39mraise\u001b[39;00m \u001b[39mAttributeError\u001b[39;00m(mod\u001b[39m.\u001b[39m_get_name() \u001b[39m+\u001b[39m \u001b[39m\"\u001b[39m\u001b[39m has no \u001b[39m\u001b[39m\"\u001b[39m\n\u001b[1;32m    457\u001b[0m                              \u001b[39m\"\u001b[39m\u001b[39mattribute `\u001b[39m\u001b[39m\"\u001b[39m \u001b[39m+\u001b[39m item \u001b[39m+\u001b[39m \u001b[39m\"\u001b[39m\u001b[39m`\u001b[39m\u001b[39m\"\u001b[39m)\n\u001b[1;32m    459\u001b[0m     mod \u001b[39m=\u001b[39m \u001b[39mgetattr\u001b[39m(mod, item)\n\u001b[1;32m    461\u001b[0m     \u001b[39mif\u001b[39;00m \u001b[39mnot\u001b[39;00m \u001b[39misinstance\u001b[39m(mod, torch\u001b[39m.\u001b[39mnn\u001b[39m.\u001b[39mModule):\n",
                  "\u001b[0;31mAttributeError\u001b[0m: Model has no attribute `conv1`"
               ]
            }
         ],
         "source": [
            "model.get_submodule(target=train_nodes[1])"
         ]
      },
      {
         "cell_type": "code",
         "execution_count": 25,
         "metadata": {},
         "outputs": [
            {
               "data": {
                  "text/plain": [
                     "['x',\n",
                     " 'conv1',\n",
                     " 'block1.layer.0.bn1',\n",
                     " 'block1.layer.0.relu1',\n",
                     " 'block1.layer.0.conv1',\n",
                     " 'block1.layer.0.bn2',\n",
                     " 'block1.layer.0.relu2',\n",
                     " 'block1.layer.0.dropout',\n",
                     " 'block1.layer.0.conv2',\n",
                     " 'block1.layer.0.convShortcut',\n",
                     " 'block1.layer.0.add',\n",
                     " 'block1.layer.1.bn1',\n",
                     " 'block1.layer.1.relu1',\n",
                     " 'block1.layer.1.conv1',\n",
                     " 'block1.layer.1.bn2',\n",
                     " 'block1.layer.1.relu2',\n",
                     " 'block1.layer.1.dropout',\n",
                     " 'block1.layer.1.conv2',\n",
                     " 'block1.layer.1.add',\n",
                     " 'block1.layer.2.bn1',\n",
                     " 'block1.layer.2.relu1',\n",
                     " 'block1.layer.2.conv1',\n",
                     " 'block1.layer.2.bn2',\n",
                     " 'block1.layer.2.relu2',\n",
                     " 'block1.layer.2.dropout',\n",
                     " 'block1.layer.2.conv2',\n",
                     " 'block1.layer.2.add',\n",
                     " 'block2.layer.0.bn1',\n",
                     " 'block2.layer.0.relu1',\n",
                     " 'block2.layer.0.conv1',\n",
                     " 'block2.layer.0.bn2',\n",
                     " 'block2.layer.0.relu2',\n",
                     " 'block2.layer.0.dropout',\n",
                     " 'block2.layer.0.conv2',\n",
                     " 'block2.layer.0.convShortcut',\n",
                     " 'block2.layer.0.add',\n",
                     " 'block2.layer.1.bn1',\n",
                     " 'block2.layer.1.relu1',\n",
                     " 'block2.layer.1.conv1',\n",
                     " 'block2.layer.1.bn2',\n",
                     " 'block2.layer.1.relu2',\n",
                     " 'block2.layer.1.dropout',\n",
                     " 'block2.layer.1.conv2',\n",
                     " 'block2.layer.1.add',\n",
                     " 'block2.layer.2.bn1',\n",
                     " 'block2.layer.2.relu1',\n",
                     " 'block2.layer.2.conv1',\n",
                     " 'block2.layer.2.bn2',\n",
                     " 'block2.layer.2.relu2',\n",
                     " 'block2.layer.2.dropout',\n",
                     " 'block2.layer.2.conv2',\n",
                     " 'block2.layer.2.add',\n",
                     " 'block3.layer.0.bn1',\n",
                     " 'block3.layer.0.relu1',\n",
                     " 'block3.layer.0.conv1',\n",
                     " 'block3.layer.0.bn2',\n",
                     " 'block3.layer.0.relu2',\n",
                     " 'block3.layer.0.dropout',\n",
                     " 'block3.layer.0.conv2',\n",
                     " 'block3.layer.0.convShortcut',\n",
                     " 'block3.layer.0.add',\n",
                     " 'block3.layer.1.bn1',\n",
                     " 'block3.layer.1.relu1',\n",
                     " 'block3.layer.1.conv1',\n",
                     " 'block3.layer.1.bn2',\n",
                     " 'block3.layer.1.relu2',\n",
                     " 'block3.layer.1.dropout',\n",
                     " 'block3.layer.1.conv2',\n",
                     " 'block3.layer.1.add',\n",
                     " 'block3.layer.2.bn1',\n",
                     " 'block3.layer.2.relu1',\n",
                     " 'block3.layer.2.conv1',\n",
                     " 'block3.layer.2.bn2',\n",
                     " 'block3.layer.2.relu2',\n",
                     " 'block3.layer.2.dropout',\n",
                     " 'block3.layer.2.conv2',\n",
                     " 'block3.layer.2.add',\n",
                     " 'bn1',\n",
                     " 'relu',\n",
                     " 'avg_pool2d',\n",
                     " 'view',\n",
                     " 'fc',\n",
                     " 'log_softmax']"
                  ]
               },
               "execution_count": 25,
               "metadata": {},
               "output_type": "execute_result"
            }
         ],
         "source": [
            "train_nodes, _ = get_graph_node_names(wide_res)\n",
            "train_nodes"
         ]
      },
      {
         "cell_type": "code",
         "execution_count": 16,
         "metadata": {},
         "outputs": [
            {
               "data": {
                  "text/plain": [
                     "{'input': tensor([0., 1., 2., 3., 4., 5., 6., 7., 8., 9.]),\n",
                     " 'lin1': tensor([-8.8582e-01, -1.9572e-01,  1.1699e+00, -3.4623e-02, -2.6320e+00,\n",
                     "          4.9344e+00, -5.4388e+00,  3.8958e+00,  5.4744e-01,  3.3870e+00,\n",
                     "         -3.5351e+00,  4.2307e+00,  5.2269e+00,  9.9216e-02,  6.3042e-01,\n",
                     "         -5.8878e+00, -5.0083e+00,  2.2750e+00, -1.7004e-02,  2.7141e+00,\n",
                     "         -2.2189e-01,  8.0173e-01,  4.5409e-01,  3.4242e+00, -2.9067e+00,\n",
                     "         -2.2390e+00,  4.2819e-01,  4.9647e+00, -6.4939e-01,  2.4753e+00,\n",
                     "         -3.0932e+00,  1.5543e+00,  3.6289e+00, -2.3433e+00, -1.3665e+00,\n",
                     "          3.0302e+00, -3.7790e+00, -5.2764e+00,  6.2917e-01,  9.1728e-01,\n",
                     "          2.5309e+00,  1.0851e+00, -9.4429e-01, -3.9613e+00,  2.6849e+00,\n",
                     "          7.9153e-01, -7.9573e+00,  4.0984e+00,  2.3593e-03, -2.3005e+00,\n",
                     "         -1.0524e+00,  2.3860e+00, -2.7775e+00, -2.1299e+00,  4.0441e+00,\n",
                     "         -4.5636e+00,  5.1240e-01,  4.3078e+00, -2.8586e+00, -1.4210e+00,\n",
                     "         -6.2731e+00, -1.5812e+00,  1.4324e+00, -2.7698e+00, -3.5402e+00,\n",
                     "         -2.1792e+00, -2.5360e-01,  1.1876e+00,  3.9399e+00,  5.8667e-01,\n",
                     "         -4.9172e-01, -6.8851e-01, -2.1572e-01, -2.1126e+00,  1.8860e+00,\n",
                     "         -4.8369e-01, -1.2571e+00,  3.5463e-01,  1.5206e+00,  3.8061e+00,\n",
                     "          9.8605e-01, -3.7833e+00, -2.3683e+00, -1.9301e-01,  6.9275e-01,\n",
                     "         -3.3874e-01,  7.3349e-01,  4.8968e+00,  3.9761e+00,  8.6049e-02,\n",
                     "         -2.6653e-01, -1.5074e+00,  5.6123e-01,  6.6286e+00,  3.8089e+00,\n",
                     "         -3.2449e+00, -1.8386e+00,  4.9434e+00,  4.9066e+00, -4.0163e+00],\n",
                     "        grad_fn=<AddBackward0>),\n",
                     " 'lin2': tensor([-2.4431], grad_fn=<AddBackward0>)}"
                  ]
               },
               "execution_count": 16,
               "metadata": {},
               "output_type": "execute_result"
            }
         ],
         "source": [
            "features(x)"
         ]
      },
      {
         "cell_type": "code",
         "execution_count": 15,
         "metadata": {},
         "outputs": [
            {
               "data": {
                  "text/plain": [
                     "{'training': True,\n",
                     " '_parameters': OrderedDict(),\n",
                     " '_buffers': OrderedDict(),\n",
                     " '_non_persistent_buffers_set': set(),\n",
                     " '_backward_hooks': OrderedDict(),\n",
                     " '_is_full_backward_hook': None,\n",
                     " '_forward_hooks': OrderedDict(),\n",
                     " '_forward_pre_hooks': OrderedDict(),\n",
                     " '_state_dict_hooks': OrderedDict(),\n",
                     " '_load_state_dict_pre_hooks': OrderedDict(),\n",
                     " '_load_state_dict_post_hooks': OrderedDict(),\n",
                     " '_modules': OrderedDict([('lin1',\n",
                     "               Linear(in_features=10, out_features=100, bias=True)),\n",
                     "              ('lin2', Linear(in_features=100, out_features=1, bias=True))]),\n",
                     " 'train_graph': <torch.fx.graph.Graph at 0x7fe22825c1c0>,\n",
                     " 'eval_graph': <torch.fx.graph.Graph at 0x7fe119699fd0>,\n",
                     " '_graph': <torch.fx.graph.Graph at 0x7fe22825c1c0>,\n",
                     " '_code': \"\\n\\n\\ndef forward(self, input):\\n    input_1 = input\\n    lin1 = self.lin1(input_1)\\n    lin2 = self.lin2(lin1)\\n    return {'input': input_1, 'lin1': lin1, 'lin2': lin2}\\n    \",\n",
                     " '_tracer_cls': torchvision.models.feature_extraction.NodePathTracer}"
                  ]
               },
               "execution_count": 15,
               "metadata": {},
               "output_type": "execute_result"
            }
         ],
         "source": [
            "features = create_feature_extractor(model=model, return_nodes=train_nodes)\n",
            "features.__dict__"
         ]
      },
      {
         "cell_type": "code",
         "execution_count": 55,
         "metadata": {},
         "outputs": [
            {
               "name": "stdout",
               "output_type": "stream",
               "text": [
                  "graph():\n",
                  "    %x : [#users=1] = placeholder[target=x]\n",
                  "    %lin1 : [#users=1] = call_module[target=lin1](args = (%x,), kwargs = {})\n",
                  "    return {'lin1': lin1}\n"
               ]
            }
         ],
         "source": [
            "print(features.graph)"
         ]
      },
      {
         "cell_type": "code",
         "execution_count": 44,
         "metadata": {},
         "outputs": [
            {
               "ename": "AttributeError",
               "evalue": "'Model' object has no attribute 'features'",
               "output_type": "error",
               "traceback": [
                  "\u001b[0;31m---------------------------------------------------------------------------\u001b[0m",
                  "\u001b[0;31mAttributeError\u001b[0m                            Traceback (most recent call last)",
                  "Cell \u001b[0;32mIn [44], line 1\u001b[0m\n\u001b[0;32m----> 1\u001b[0m model\u001b[39m.\u001b[39;49mfeatures\n",
                  "File \u001b[0;32m~/build/.venv/lib/python3.8/site-packages/torch/nn/modules/module.py:1207\u001b[0m, in \u001b[0;36mModule.__getattr__\u001b[0;34m(self, name)\u001b[0m\n\u001b[1;32m   1205\u001b[0m     \u001b[39mif\u001b[39;00m name \u001b[39min\u001b[39;00m modules:\n\u001b[1;32m   1206\u001b[0m         \u001b[39mreturn\u001b[39;00m modules[name]\n\u001b[0;32m-> 1207\u001b[0m \u001b[39mraise\u001b[39;00m \u001b[39mAttributeError\u001b[39;00m(\u001b[39m\"\u001b[39m\u001b[39m'\u001b[39m\u001b[39m{}\u001b[39;00m\u001b[39m'\u001b[39m\u001b[39m object has no attribute \u001b[39m\u001b[39m'\u001b[39m\u001b[39m{}\u001b[39;00m\u001b[39m'\u001b[39m\u001b[39m\"\u001b[39m\u001b[39m.\u001b[39mformat(\n\u001b[1;32m   1208\u001b[0m     \u001b[39mtype\u001b[39m(\u001b[39mself\u001b[39m)\u001b[39m.\u001b[39m\u001b[39m__name__\u001b[39m, name))\n",
                  "\u001b[0;31mAttributeError\u001b[0m: 'Model' object has no attribute 'features'"
               ]
            }
         ],
         "source": [
            "model.features"
         ]
      },
      {
         "cell_type": "code",
         "execution_count": 7,
         "metadata": {},
         "outputs": [
            {
               "data": {
                  "text/plain": [
                     "Parameter containing:\n",
                     "tensor([[-0.2615,  0.3033, -0.1964, -0.1795,  0.0906,  0.2865, -0.0448,  0.1051,\n",
                     "         -0.2138, -0.0536]], requires_grad=True)"
                  ]
               },
               "execution_count": 7,
               "metadata": {},
               "output_type": "execute_result"
            }
         ],
         "source": [
            "w = model.lin1.weight\n",
            "w"
         ]
      },
      {
         "cell_type": "code",
         "execution_count": 13,
         "metadata": {},
         "outputs": [
            {
               "data": {
                  "text/plain": [
                     "tensor([[    0.0000,  -200.5398,  -401.0796,  -601.6193,  -802.1591, -1002.6989,\n",
                     "         -1203.2386, -1403.7784, -1604.3182, -1804.8580]])"
                  ]
               },
               "execution_count": 13,
               "metadata": {},
               "output_type": "execute_result"
            }
         ],
         "source": [
            "w.grad"
         ]
      },
      {
         "cell_type": "code",
         "execution_count": null,
         "metadata": {},
         "outputs": [],
         "source": []
      },
      {
         "cell_type": "code",
         "execution_count": 17,
         "metadata": {},
         "outputs": [
            {
               "name": "stdout",
               "output_type": "stream",
               "text": [
                  "Parameter containing:\n",
                  "tensor([[-0.2615,  0.3033, -0.1964, -0.1795,  0.0906,  0.2865, -0.0448,  0.1051,\n",
                  "         -0.2138, -0.0536]], requires_grad=True)\n",
                  "tensor(-0.0164, grad_fn=<MeanBackward0>)\n",
                  "tensor(0.3033, grad_fn=<MaxBackward1>)\n",
                  "tensor(-0.2615, grad_fn=<MinBackward1>)\n",
                  "tensor(0.2056, grad_fn=<StdBackward0>)\n"
               ]
            }
         ],
         "source": [
            "print(w)\n",
            "print(torch.mean(w))\n",
            "print(torch.max(w))\n",
            "print(torch.min(w))\n",
            "print(torch.std(w))"
         ]
      },
      {
         "cell_type": "code",
         "execution_count": 19,
         "metadata": {},
         "outputs": [
            {
               "name": "stdout",
               "output_type": "stream",
               "text": [
                  "Parameter containing:\n",
                  "tensor([[-0.2615,  2.3087,  3.8144,  5.8367,  8.1122, 10.3135, 11.9876, 14.1429,\n",
                  "         15.8294, 17.9950]], requires_grad=True)\n",
                  "tensor(9.0079, grad_fn=<MeanBackward0>)\n",
                  "tensor(17.9950, grad_fn=<MaxBackward1>)\n",
                  "tensor(-0.2615, grad_fn=<MinBackward1>)\n",
                  "tensor(6.0817, grad_fn=<StdBackward0>)\n"
               ]
            }
         ],
         "source": [
            "print(w)\n",
            "print(torch.mean(w))\n",
            "print(torch.max(w))\n",
            "print(torch.min(w))\n",
            "print(torch.std(w))"
         ]
      },
      {
         "cell_type": "code",
         "execution_count": 32,
         "metadata": {},
         "outputs": [
            {
               "name": "stdout",
               "output_type": "stream",
               "text": [
                  "Parameter containing:\n",
                  "tensor([[-0.1981, -0.0283,  0.1709,  0.1945,  0.2640,  0.1104,  0.1847,  0.3026,\n",
                  "          0.1623,  0.2212]], requires_grad=True)\n"
               ]
            }
         ],
         "source": [
            "for m in model.modules():\n",
            "    if hasattr(m, \"weight\"):\n",
            "        print(m.weight)"
         ]
      },
      {
         "cell_type": "code",
         "execution_count": 18,
         "metadata": {},
         "outputs": [],
         "source": [
            "opt.step()"
         ]
      },
      {
         "cell_type": "code",
         "execution_count": 60,
         "metadata": {},
         "outputs": [
            {
               "data": {
                  "text/plain": [
                     "Parameter containing:\n",
                     "tensor([[-0.0457,  1.5386,  3.6999,  5.3116,  7.5779,  9.2406, 11.2786, 13.0922,\n",
                     "         15.0026, 16.8836]], requires_grad=True)"
                  ]
               },
               "execution_count": 60,
               "metadata": {},
               "output_type": "execute_result"
            }
         ],
         "source": [
            "w = model.lin1.weight\n",
            "w"
         ]
      },
      {
         "cell_type": "code",
         "execution_count": 66,
         "metadata": {},
         "outputs": [
            {
               "data": {
                  "text/plain": [
                     "defaultdict(dict,\n",
                     "            {Parameter containing:\n",
                     "             tensor([[ 0.0099,  0.2188, -0.0234,  0.1394,  0.2305, -0.2930, -0.0341, -0.0018,\n",
                     "                      -0.1530, -0.2380]], requires_grad=True): {'momentum_buffer': tensor([[ 4.9349e-06,  1.0940e-04, -1.1701e-05,  6.9676e-05,  1.1527e-04,\n",
                     "                       -1.4650e-04, -1.7048e-05, -9.1335e-07, -7.6524e-05, -1.1902e-04]])},\n",
                     "             Parameter containing:\n",
                     "             tensor([0.0272], requires_grad=True): {'momentum_buffer': tensor([1.3598e-05])}})"
                  ]
               },
               "execution_count": 66,
               "metadata": {},
               "output_type": "execute_result"
            }
         ],
         "source": [
            "opt.state"
         ]
      },
      {
         "cell_type": "code",
         "execution_count": 1,
         "metadata": {},
         "outputs": [],
         "source": [
            "import torch\n",
            "\n",
            "\n"
         ]
      },
      {
         "cell_type": "code",
         "execution_count": null,
         "metadata": {},
         "outputs": [],
         "source": [
            "import torch\n"
         ]
      },
      {
         "cell_type": "code",
         "execution_count": 26,
         "metadata": {},
         "outputs": [
            {
               "name": "stdout",
               "output_type": "stream",
               "text": [
                  "hello world\n"
               ]
            }
         ],
         "source": [
            "a = False\n",
            "def dec(fn):\n",
            "    def wrapper(*fn_args):\n",
            "        if a is True:\n",
            "            return 0\n",
            "        return fn(*fn_args)\n",
            "    return wrapper\n",
            "\n",
            "@dec\n",
            "def hello_world():\n",
            "    print('hello world')\n",
            "    \n",
            "    \n",
            "hello_world()\n"
         ]
      },
      {
         "cell_type": "code",
         "execution_count": null,
         "metadata": {},
         "outputs": [],
         "source": []
      },
      {
         "cell_type": "code",
         "execution_count": 15,
         "metadata": {},
         "outputs": [
            {
               "ename": "TypeError",
               "evalue": "bad operand type for unary ~: 'list'",
               "output_type": "error",
               "traceback": [
                  "\u001b[0;31m---------------------------------------------------------------------------\u001b[0m",
                  "\u001b[0;31mTypeError\u001b[0m                                 Traceback (most recent call last)",
                  "Cell \u001b[0;32mIn [15], line 5\u001b[0m\n\u001b[1;32m      3\u001b[0m arr \u001b[39m=\u001b[39m np\u001b[39m.\u001b[39mones(shape\u001b[39m=\u001b[39m(\u001b[39m16\u001b[39m,\u001b[39m3\u001b[39m,\u001b[39m3\u001b[39m,\u001b[39m3\u001b[39m))\n\u001b[1;32m      4\u001b[0m ablated_neurons\u001b[39m=\u001b[39m[\u001b[39m0\u001b[39m,\u001b[39m1\u001b[39m]\n\u001b[0;32m----> 5\u001b[0m arr[\u001b[39m~\u001b[39;49mablated_neurons]\n",
                  "\u001b[0;31mTypeError\u001b[0m: bad operand type for unary ~: 'list'"
               ]
            }
         ],
         "source": [
            "import numpy as np\n",
            "\n",
            "arr = np.ones(shape=(16,3,3,3))\n",
            "ablated_neurons=[0,1]\n",
            "arr[~ablated_neurons]"
         ]
      },
      {
         "cell_type": "code",
         "execution_count": 11,
         "metadata": {},
         "outputs": [
            {
               "ename": "TypeError",
               "evalue": "bad operand type for unary ~: 'list'",
               "output_type": "error",
               "traceback": [
                  "\u001b[0;31m---------------------------------------------------------------------------\u001b[0m",
                  "\u001b[0;31mTypeError\u001b[0m                                 Traceback (most recent call last)",
                  "Cell \u001b[0;32mIn [11], line 5\u001b[0m\n\u001b[1;32m      3\u001b[0m w \u001b[39m=\u001b[39m torch\u001b[39m.\u001b[39mrand(size\u001b[39m=\u001b[39m(\u001b[39m16\u001b[39m,\u001b[39m3\u001b[39m,\u001b[39m3\u001b[39m,\u001b[39m3\u001b[39m))\n\u001b[1;32m      4\u001b[0m ablated_neurons\u001b[39m=\u001b[39m[\u001b[39m0\u001b[39m,\u001b[39m1\u001b[39m]\n\u001b[0;32m----> 5\u001b[0m w[\u001b[39m~\u001b[39;49m[ablated_neurons]]\u001b[39m.\u001b[39mshape\n",
                  "\u001b[0;31mTypeError\u001b[0m: bad operand type for unary ~: 'list'"
               ]
            }
         ],
         "source": [
            "import torch\n",
            "\n",
            "w = torch.rand(size=(16,3,3,3))\n",
            "ablated_neurons=[0,1]\n",
            "w[~[ablated_neurons]].shape"
         ]
      },
      {
         "cell_type": "code",
         "execution_count": 37,
         "metadata": {},
         "outputs": [],
         "source": [
            "import torch\n",
            "\n",
            "\n",
            "logits = torch.rand(size=(64,1000))\n",
            "vals, indx = torch.topk(logits, k=5, dim=1, largest=True)"
         ]
      },
      {
         "cell_type": "code",
         "execution_count": 2,
         "metadata": {},
         "outputs": [
            {
               "data": {
                  "text/plain": [
                     "torch.Size([64, 5])"
                  ]
               },
               "execution_count": 2,
               "metadata": {},
               "output_type": "execute_result"
            }
         ],
         "source": [
            "indx.shape"
         ]
      },
      {
         "cell_type": "code",
         "execution_count": 3,
         "metadata": {},
         "outputs": [],
         "source": [
            "pred = torch.tensor([[0.9984], [0.9966]])\n"
         ]
      },
      {
         "cell_type": "code",
         "execution_count": 39,
         "metadata": {},
         "outputs": [
            {
               "name": "stderr",
               "output_type": "stream",
               "text": [
                  "/tmp/ipykernel_12615/1533899854.py:6: UserWarning: \n",
                  "The version_base parameter is not specified.\n",
                  "Please specify a compatability version level, or None.\n",
                  "Will assume defaults for version 1.1\n",
                  "  with hydra.initialize(config_path=\"../configs\"):\n"
               ]
            },
            {
               "data": {
                  "text/plain": [
                     "{'dataset': {'name': 'imagenet', 'normalize': False, 'num_classes': 1000, 'train_len': 1281167, 'root': '${oc.env:IMAGE_NET_PATH}', 'use_cc_data_loaders': False}, 'model': {'name': 'resnet50'}, 'experiment': {'comment': 'dense_alloc-${rigl.dense_allocation}_const_fan-${rigl.const_fan_in}_ablation-${rigl.filter_ablation_threshold}_sparse_init-${rigl.use_sparse_initialization}', 'name': '${model.name}_${dataset.name}_${experiment.comment}', 'resume_from_checkpoint': False, 'run_id': None}, 'paths': {'base': '${oc.env:BASE_PATH}', 'data_folder': '${paths.base}/data', 'artifacts': '${paths.base}/artifacts', 'logs': '${paths.base}/logs', 'checkpoints': '${paths.artifacts}/checkpoints'}, 'rigl': {'dense_allocation': 0.01, 'delta': 100, 'grad_accumulation_n': 8, 'alpha': 0.3, 'static_topo': 0, 'const_fan_in': True, 'sparsity_distribution': 'erk', 'erk_power_scale': 1.0, 'use_t_end': True, 'static_ablation': True, 'dynamic_ablation': False, 'filter_ablation_threshold': 0.01, 'use_sparse_initialization': False}, 'training': {'dry_run': False, 'batch_size': 128, 'simulated_batch_size': None, 'test_batch_size': 1000, 'epochs': 250, 'seed': 42, 'log_interval': 1000, 'save_model': True, 'max_steps': 512000, 'optimizer': 'sgd', 'weight_decay': 0.0005, 'momentum': 0.9, 'label_smoothing': 0.0, 'scheduler': 'step_lr', 'lr': 0.1, 'init_lr': 1e-06, 'warm_up_steps': 0, 'gamma': 0.1, 'step_size': [30, 60, 90]}, 'compute': {'no_cuda': False, 'cuda_kwargs': {'num_workers': '${ oc.decode:${oc.env:NUM_WORKERS} }', 'pin_memory': True}, 'distributed': False, 'world_size': 2, 'dist_backend': 'nccl'}, 'wandb': {'project': 'condensed-rigl', 'entity': 'condensed-sparsity', 'start_method': 'thread', 'log_images': False}}"
                  ]
               },
               "execution_count": 39,
               "metadata": {},
               "output_type": "execute_result"
            }
         ],
         "source": [
            "from rigl_torch.datasets import get_dataloaders\n",
            "from omegaconf import DictConfig\n",
            "from rigl_torch.models import ModelFactory\n",
            "import hydra\n",
            "\n",
            "with hydra.initialize(config_path=\"../configs\"):\n",
            "    cfg = hydra.compose(config_name=\"config.yaml\", overrides=[\"dataset=imagenet\", \"model=resnet50\", \"compute.distributed=False\"])\n",
            "cfg\n"
         ]
      },
      {
         "cell_type": "code",
         "execution_count": 6,
         "metadata": {},
         "outputs": [
            {
               "data": {
                  "text/plain": [
                     "<torch.utils.data.dataloader.DataLoader at 0x7f940ea8f040>"
                  ]
               },
               "execution_count": 6,
               "metadata": {},
               "output_type": "execute_result"
            }
         ],
         "source": [
            "from rigl_torch.datasets import get_dataloaders\n",
            "\n",
            "train,val = get_dataloaders(cfg)\n",
            "train"
         ]
      },
      {
         "cell_type": "code",
         "execution_count": 7,
         "metadata": {},
         "outputs": [],
         "source": [
            "for x,y in train:\n",
            "    break"
         ]
      },
      {
         "cell_type": "code",
         "execution_count": 8,
         "metadata": {},
         "outputs": [
            {
               "data": {
                  "text/plain": [
                     "tensor([250, 672, 918, 244, 528, 185, 705, 225, 101, 334, 874, 101, 125, 435,\n",
                     "        521, 277, 443, 956, 611, 971, 332, 796, 868,  34, 300, 998, 247,  39,\n",
                     "          5, 347, 710, 942,  93, 628, 321, 867, 785, 866, 141, 492, 200, 157,\n",
                     "        417, 172,   3, 559, 734, 952, 186, 491, 879, 858,  20,  23,  66,  19,\n",
                     "        462, 930, 189, 326, 849, 994, 214, 432])"
                  ]
               },
               "execution_count": 8,
               "metadata": {},
               "output_type": "execute_result"
            }
         ],
         "source": [
            "y"
         ]
      },
      {
         "cell_type": "code",
         "execution_count": null,
         "metadata": {},
         "outputs": [
            {
               "data": {
                  "text/plain": [
                     "torch.Size([64])"
                  ]
               },
               "execution_count": 43,
               "metadata": {},
               "output_type": "execute_result"
            }
         ],
         "source": [
            "y.shape"
         ]
      },
      {
         "cell_type": "code",
         "execution_count": 44,
         "metadata": {},
         "outputs": [
            {
               "data": {
                  "text/plain": [
                     "torch.Size([64, 5])"
                  ]
               },
               "execution_count": 44,
               "metadata": {},
               "output_type": "execute_result"
            }
         ],
         "source": [
            "indx.shape"
         ]
      },
      {
         "cell_type": "code",
         "execution_count": 16,
         "metadata": {},
         "outputs": [],
         "source": [
            "top_5_acc = torch.isin(y,indx)"
         ]
      },
      {
         "cell_type": "code",
         "execution_count": 30,
         "metadata": {},
         "outputs": [
            {
               "data": {
                  "text/plain": [
                     "tensor(101)"
                  ]
               },
               "execution_count": 30,
               "metadata": {},
               "output_type": "execute_result"
            }
         ],
         "source": [
            "y[8]"
         ]
      },
      {
         "cell_type": "code",
         "execution_count": 31,
         "metadata": {},
         "outputs": [
            {
               "data": {
                  "text/plain": [
                     "tensor(True)"
                  ]
               },
               "execution_count": 31,
               "metadata": {},
               "output_type": "execute_result"
            }
         ],
         "source": [
            "(indx==101).any()"
         ]
      },
      {
         "cell_type": "code",
         "execution_count": 17,
         "metadata": {},
         "outputs": [
            {
               "data": {
                  "text/plain": [
                     "tensor(14)"
                  ]
               },
               "execution_count": 17,
               "metadata": {},
               "output_type": "execute_result"
            }
         ],
         "source": [
            "top_5_acc.sum()"
         ]
      },
      {
         "cell_type": "code",
         "execution_count": 21,
         "metadata": {},
         "outputs": [
            {
               "data": {
                  "text/plain": [
                     "torch.Size([64, 5])"
                  ]
               },
               "execution_count": 21,
               "metadata": {},
               "output_type": "execute_result"
            }
         ],
         "source": [
            "indx.shape"
         ]
      },
      {
         "cell_type": "code",
         "execution_count": 27,
         "metadata": {},
         "outputs": [
            {
               "data": {
                  "text/plain": [
                     "tensor([False, False, False, False, False, False, False, False,  True, False,\n",
                     "        False,  True, False, False, False, False,  True, False, False, False,\n",
                     "        False,  True,  True, False, False, False, False, False, False, False,\n",
                     "         True, False, False, False, False, False,  True,  True, False, False,\n",
                     "        False, False, False, False, False, False, False, False, False, False,\n",
                     "        False, False, False, False,  True,  True, False, False, False,  True,\n",
                     "        False,  True,  True,  True])"
                  ]
               },
               "execution_count": 27,
               "metadata": {},
               "output_type": "execute_result"
            }
         ],
         "source": [
            "top_5_acc"
         ]
      },
      {
         "cell_type": "code",
         "execution_count": 25,
         "metadata": {},
         "outputs": [],
         "source": [
            "for idx, (ii, t) in enumerate(list(zip(indx, y))):\n",
            "    for i in ii:\n",
            "        if i == t:\n",
            "            print(idx)\n",
            "            break"
         ]
      },
      {
         "cell_type": "code",
         "execution_count": 34,
         "metadata": {},
         "outputs": [
            {
               "data": {
                  "text/plain": [
                     "tensor(250)"
                  ]
               },
               "execution_count": 34,
               "metadata": {},
               "output_type": "execute_result"
            }
         ],
         "source": [
            "y[0]"
         ]
      },
      {
         "cell_type": "code",
         "execution_count": 40,
         "metadata": {},
         "outputs": [
            {
               "data": {
                  "text/plain": [
                     "tensor([250, 668, 975, 555, 765])"
                  ]
               },
               "execution_count": 40,
               "metadata": {},
               "output_type": "execute_result"
            }
         ],
         "source": [
            "indx[0]"
         ]
      },
      {
         "cell_type": "code",
         "execution_count": 55,
         "metadata": {},
         "outputs": [
            {
               "ename": "RuntimeError",
               "evalue": "shape '[64, 5]' is invalid for input of size 64",
               "output_type": "error",
               "traceback": [
                  "\u001b[0;31m---------------------------------------------------------------------------\u001b[0m",
                  "\u001b[0;31mRuntimeError\u001b[0m                              Traceback (most recent call last)",
                  "Cell \u001b[0;32mIn [55], line 1\u001b[0m\n\u001b[0;32m----> 1\u001b[0m y\u001b[39m.\u001b[39;49mview_as(indx)\n",
                  "\u001b[0;31mRuntimeError\u001b[0m: shape '[64, 5]' is invalid for input of size 64"
               ]
            }
         ],
         "source": [
            "y.view_as(indx)"
         ]
      },
      {
         "cell_type": "code",
         "execution_count": 60,
         "metadata": {},
         "outputs": [
            {
               "data": {
                  "text/plain": [
                     "tensor(1)"
                  ]
               },
               "execution_count": 60,
               "metadata": {},
               "output_type": "execute_result"
            }
         ],
         "source": [
            "(y.reshape(-1,1).expand_as(indx) == indx).any(dim=1)"
         ]
      },
      {
         "cell_type": "code",
         "execution_count": 5,
         "metadata": {},
         "outputs": [],
         "source": [
            "from rigl_torch.utils.checkpoint import Checkpoint\n",
            "\n",
            "ckp = Checkpoint.load_last_checkpoint(run_id=\"xhnqnd6c\")"
         ]
      },
      {
         "cell_type": "code",
         "execution_count": 8,
         "metadata": {},
         "outputs": [
            {
               "data": {
                  "text/plain": [
                     "dict_keys(['dense_allocation', 'S', 'N', 'hyperparams', 'step', 'rigl_steps', 'backward_masks', '_linear_layers_mask'])"
                  ]
               },
               "execution_count": 8,
               "metadata": {},
               "output_type": "execute_result"
            }
         ],
         "source": [
            "ckp.pruner.keys()"
         ]
      },
      {
         "cell_type": "code",
         "execution_count": 71,
         "metadata": {},
         "outputs": [
            {
               "data": {
                  "text/plain": [
                     "torch.Size([64, 3, 7, 7])"
                  ]
               },
               "execution_count": 71,
               "metadata": {},
               "output_type": "execute_result"
            }
         ],
         "source": [
            "masks = ckp.pruner[\"backward_masks\"]\n",
            "masks[0].shape"
         ]
      },
      {
         "cell_type": "code",
         "execution_count": 79,
         "metadata": {},
         "outputs": [
            {
               "data": {
                  "text/plain": [
                     "54"
                  ]
               },
               "execution_count": 79,
               "metadata": {},
               "output_type": "execute_result"
            }
         ],
         "source": [
            "len(ckp.pruner[\"S\"])"
         ]
      },
      {
         "cell_type": "code",
         "execution_count": 78,
         "metadata": {},
         "outputs": [
            {
               "data": {
                  "text/plain": [
                     "54"
                  ]
               },
               "execution_count": 78,
               "metadata": {},
               "output_type": "execute_result"
            }
         ],
         "source": [
            "len(ckp.pruner[\"backward_masks\"])"
         ]
      },
      {
         "cell_type": "code",
         "execution_count": 80,
         "metadata": {},
         "outputs": [
            {
               "data": {
                  "text/plain": [
                     "[0.9580298609954484,\n",
                     " 0.8452836889704899,\n",
                     " 0.9822803541214066,\n",
                     " 0.9041948997086495,\n",
                     " 0.9041948997086495,\n",
                     " 0.9041948997086495,\n",
                     " 0.9822803541214066,\n",
                     " 0.9041948997086495,\n",
                     " 0.9041948997086495,\n",
                     " 0.9822803541214066,\n",
                     " 0.9041948997086495,\n",
                     " 0.9425764460986625,\n",
                     " 0.9913385313056129,\n",
                     " 0.9522462155380069,\n",
                     " 0.9713626058911724,\n",
                     " 0.9522462155380069,\n",
                     " 0.9913385313056129,\n",
                     " 0.9522462155380069,\n",
                     " 0.9522462155380069,\n",
                     " 0.9913385313056129,\n",
                     " 0.9522462155380069,\n",
                     " 0.9522462155380069,\n",
                     " 0.9913385313056129,\n",
                     " 0.9522462155380069,\n",
                     " 0.9713626058911724,\n",
                     " 0.9957188542140338,\n",
                     " 0.9761602991899241,\n",
                     " 0.9856998986560465,\n",
                     " 0.9761602991899241,\n",
                     " 0.9957188542140338,\n",
                     " 0.9761602991899241,\n",
                     " 0.9761602991899241,\n",
                     " 0.9957188542140338,\n",
                     " 0.9761602991899241,\n",
                     " 0.9761602991899241,\n",
                     " 0.9957188542140338,\n",
                     " 0.9761602991899241,\n",
                     " 0.9761602991899241,\n",
                     " 0.9957188542140338,\n",
                     " 0.9761602991899241,\n",
                     " 0.9761602991899241,\n",
                     " 0.9957188542140338,\n",
                     " 0.9761602991899241,\n",
                     " 0.9856998986560465,\n",
                     " 0.9978718242473238,\n",
                     " 0.9880894474501921,\n",
                     " 0.9928545982556383,\n",
                     " 0.9880894474501921,\n",
                     " 0.9978718242473238,\n",
                     " 0.9880894474501921,\n",
                     " 0.9880894474501921,\n",
                     " 0.9978718242473238,\n",
                     " 0.9880894474501921,\n",
                     " 0.9927449951381855]"
                  ]
               },
               "execution_count": 80,
               "metadata": {},
               "output_type": "execute_result"
            }
         ],
         "source": [
            "ckp.pruner[\"S\"]"
         ]
      },
      {
         "cell_type": "code",
         "execution_count": 72,
         "metadata": {},
         "outputs": [
            {
               "name": "stdout",
               "output_type": "stream",
               "text": [
                  "<class 'torch.Tensor'>\n",
                  "<class 'torch.Tensor'>\n",
                  "<class 'torch.Tensor'>\n",
                  "<class 'torch.Tensor'>\n",
                  "<class 'torch.Tensor'>\n",
                  "<class 'torch.Tensor'>\n",
                  "<class 'torch.Tensor'>\n",
                  "<class 'torch.Tensor'>\n",
                  "<class 'torch.Tensor'>\n",
                  "<class 'torch.Tensor'>\n",
                  "<class 'torch.Tensor'>\n",
                  "<class 'torch.Tensor'>\n",
                  "<class 'torch.Tensor'>\n",
                  "<class 'torch.Tensor'>\n",
                  "<class 'torch.Tensor'>\n",
                  "<class 'torch.Tensor'>\n",
                  "<class 'torch.Tensor'>\n",
                  "<class 'torch.Tensor'>\n",
                  "<class 'torch.Tensor'>\n",
                  "<class 'torch.Tensor'>\n",
                  "<class 'torch.Tensor'>\n",
                  "<class 'torch.Tensor'>\n",
                  "<class 'torch.Tensor'>\n",
                  "<class 'torch.Tensor'>\n",
                  "<class 'torch.Tensor'>\n",
                  "<class 'torch.Tensor'>\n",
                  "<class 'torch.Tensor'>\n",
                  "<class 'torch.Tensor'>\n",
                  "<class 'torch.Tensor'>\n",
                  "<class 'torch.Tensor'>\n",
                  "<class 'torch.Tensor'>\n",
                  "<class 'torch.Tensor'>\n",
                  "<class 'torch.Tensor'>\n",
                  "<class 'torch.Tensor'>\n",
                  "<class 'torch.Tensor'>\n",
                  "<class 'torch.Tensor'>\n",
                  "<class 'torch.Tensor'>\n",
                  "<class 'torch.Tensor'>\n",
                  "<class 'torch.Tensor'>\n",
                  "<class 'torch.Tensor'>\n",
                  "<class 'torch.Tensor'>\n",
                  "<class 'torch.Tensor'>\n",
                  "<class 'torch.Tensor'>\n",
                  "<class 'torch.Tensor'>\n",
                  "<class 'torch.Tensor'>\n",
                  "<class 'torch.Tensor'>\n",
                  "<class 'torch.Tensor'>\n",
                  "<class 'torch.Tensor'>\n",
                  "<class 'torch.Tensor'>\n",
                  "<class 'torch.Tensor'>\n",
                  "<class 'torch.Tensor'>\n",
                  "<class 'torch.Tensor'>\n",
                  "<class 'torch.Tensor'>\n",
                  "<class 'torch.Tensor'>\n"
               ]
            }
         ],
         "source": [
            "for m in masks:\n",
            "    print(type(m))"
         ]
      },
      {
         "cell_type": "code",
         "execution_count": 41,
         "metadata": {},
         "outputs": [],
         "source": [
            "import torch\n",
            "rs_masks=[]\n",
            "for m in masks:\n",
            "    # rs_masks.append(torch.zeros(size=m.shape,dtype=torch.bool))\n",
            "    rs_masks.append(m)"
         ]
      },
      {
         "cell_type": "code",
         "execution_count": 66,
         "metadata": {},
         "outputs": [
            {
               "data": {
                  "text/plain": [
                     "tensor(25247830)"
                  ]
               },
               "execution_count": 66,
               "metadata": {},
               "output_type": "execute_result"
            }
         ],
         "source": [
            "# torch.sum(torch.tensor([torch.sum(ep) for ep in explored_params]))"
         ]
      },
      {
         "cell_type": "code",
         "execution_count": 67,
         "metadata": {},
         "outputs": [
            {
               "data": {
                  "text/plain": [
                     "6"
                  ]
               },
               "execution_count": 67,
               "metadata": {},
               "output_type": "execute_result"
            }
         ],
         "source": [
            "sum([1,2,3])"
         ]
      },
      {
         "cell_type": "code",
         "execution_count": 63,
         "metadata": {},
         "outputs": [
            {
               "data": {
                  "text/plain": [
                     "tensor(0.1713, device='cuda:0')"
                  ]
               },
               "execution_count": 63,
               "metadata": {},
               "output_type": "execute_result"
            }
         ],
         "source": [
            "\n",
            "import math\n",
            "backward_masks = masks\n",
            "explored_params = [~b for b in backward_masks]\n",
            "\n",
            "itop_rs = math.sum([ep.sum]\n",
            "itop_rs = math.prod(\n",
            "    [\n",
            "        ep.sum() / ep.numel()``\n",
            "        for ep in explored_params\n",
            "    ]\n",
            ")\n",
            "itop_rs"
         ]
      },
      {
         "cell_type": "code",
         "execution_count": 43,
         "metadata": {},
         "outputs": [],
         "source": [
            "for idx, (rs, m) in enumerate(list(zip(rs_masks, masks))):\n",
            "    break\n",
            "    rs_masks[0] = rs((m==False))"
         ]
      },
      {
         "cell_type": "code",
         "execution_count": 55,
         "metadata": {},
         "outputs": [
            {
               "data": {
                  "text/plain": [
                     "tensor([True, True, True])"
                  ]
               },
               "execution_count": 55,
               "metadata": {},
               "output_type": "execute_result"
            }
         ],
         "source": [
            "t1 = torch.tensor([0,1,1],dtype=torch.bool)\n",
            "t2 = torch.tensor([1,1,0],dtype=torch.bool)\n",
            "t1+=t2\n",
            "t1"
         ]
      },
      {
         "cell_type": "code",
         "execution_count": 50,
         "metadata": {},
         "outputs": [
            {
               "name": "stderr",
               "output_type": "stream",
               "text": [
                  "/tmp/ipykernel_14266/3909545341.py:1: UserWarning: To copy construct from a tensor, it is recommended to use sourceTensor.clone().detach() or sourceTensor.clone().detach().requires_grad_(True), rather than torch.tensor(sourceTensor).\n",
                  "  torch.tensor(data=(m+~m)).all()\n"
               ]
            },
            {
               "data": {
                  "text/plain": [
                     "tensor(True, device='cuda:0')"
                  ]
               },
               "execution_count": 50,
               "metadata": {},
               "output_type": "execute_result"
            }
         ],
         "source": [
            "torch.tensor(data=(m+~m)).all()"
         ]
      },
      {
         "cell_type": "code",
         "execution_count": 70,
         "metadata": {},
         "outputs": [],
         "source": [
            "for m in masks:\n",
            "    if m is None:\n",
            "        print(\"found none\")"
         ]
      },
      {
         "cell_type": "code",
         "execution_count": 3,
         "metadata": {},
         "outputs": [],
         "source": [
            " = import numpy as np\n",
            "step = 0\n",
            "alpha = 0.3\n",
            "T_end=256000\n",
            "\n",
            "ps=[]\n",
            "for step in range(T_end):\n",
            "    ps.append(alpha / 2 * (1 + np.cos((step * np.pi) / T_end)))"
         ]
      },
      {
         "cell_type": "code",
         "execution_count": 4,
         "metadata": {},
         "outputs": [
            {
               "data": {
                  "text/plain": [
                     "[<matplotlib.lines.Line2D at 0x7f3524802430>]"
                  ]
               },
               "execution_count": 4,
               "metadata": {},
               "output_type": "execute_result"
            },
            {
               "data": {
                  "image/png": "[encoded data removed]",
                  "text/plain": [
                     "<Figure size 432x288 with 1 Axes>"
                  ]
               },
               "metadata": {
                  "needs_background": "light"
               },
               "output_type": "display_data"
            }
         ],
         "source": [
            "import matplotlib.pyplot as plt\n",
            "\n",
            "plt.plot(ps)"
         ]
      },
      {
         "cell_type": "code",
         "execution_count": 26,
         "metadata": {},
         "outputs": [
            {
               "data": {
                  "text/plain": [
                     "[<matplotlib.lines.Line2D at 0x7f8ae530a970>]"
                  ]
               },
               "execution_count": 26,
               "metadata": {},
               "output_type": "execute_result"
            },
            {
               "data": {
                  "image/png": "[encoded data removed]",
                  "text/plain": [
                     "<Figure size 432x288 with 1 Axes>"
                  ]
               },
               "metadata": {
                  "needs_background": "light"
               },
               "output_type": "display_data"
            }
         ],
         "source": [
            "from dataclasses import dataclass\n",
            "import torch``\n",
            "\n",
            "@dataclass(init=True)\n",
            "class Flags():\n",
            "    base_learning_rate: float\n",
            "    train_batch_size:int\n",
            "\n",
            "global FLAGS\n",
            "FLAGS = Flags(base_learning_rate=0.1, train_batch_size=512)\n",
            "\n",
            "global LR_SCHEDULE\n",
            "LR_SCHEDULE = [(1.0, 0), (0.1, 30), (0.01, 70), (0.001, 90), (.0001, 120)]\n",
            "\n",
            "def lr_schedule(current_epoch):\n",
            "    \"\"\"Computes learning rate schedule.\"\"\"\n",
            "    scaled_lr = FLAGS.base_learning_rate * (FLAGS.train_batch_size / 256.0)\n",
            "    decay_rate = (\n",
            "            scaled_lr * LR_SCHEDULE[0][0] * current_epoch / LR_SCHEDULE[0][1]\n",
            "        ) \n",
            "    # print(decay_rate)\n",
            "    for mult, start_epoch in LR_SCHEDULE:\n",
            "        decay_rate = torch.where(current_epoch < start_epoch, decay_rate, scaled_lr * mult)\n",
            "    return decay_rate\n",
            "\n",
            "\n",
            "epochs = torch.arange(1,101)\n",
            "lrs = []\n",
            "\n",
            "for e in epochs:\n",
            "    lrs.append(lr_schedule(e).item())\n",
            "\n",
            "import matplotlib.pyplot as plt\n",
            "plt.plot(lrs)"
         ]
      },
      {
         "cell_type": "code",
         "execution_count": null,
         "metadata": {},
         "outputs": [],
         "source": []
      },
      {
         "cell_type": "code",
         "execution_count": 25,
         "metadata": {},
         "outputs": [
            {
               "name": "stdout",
               "output_type": "stream",
               "text": [
                  "tensor([inf])\n",
                  "tensor([1.6000])\n"
               ]
            }
         ],
         "source": [
            "current_epoch=torch.tensor([1], dtype=torch.int8)\n",
            "scaled_lr = FLAGS.base_learning_rate * (FLAGS.train_batch_size / 256.0)\n",
            "decay_rate = (\n",
            "        scaled_lr * LR_SCHEDULE[0][0] * current_epoch / LR_SCHEDULE[0][1]\n",
            "    ) \n",
            "print(decay_rate)\n",
            "for mult, start_epoch in LR_SCHEDULE:\n",
            "        decay_rate = torch.where(current_epoch < start_epoch, decay_rate, scaled_lr * mult)\n",
            "print(decay_rate)"
         ]
      },
      {
         "cell_type": "code",
         "execution_count": 18,
         "metadata": {},
         "outputs": [],
         "source": [
            "from torch.optim.lr_scheduler import CosineAnnealingWarmRestarts, CosineAnnealingLR, _LRScheduler\n",
            "from torch.optim import AdamW\n",
            "import math\n",
            "from rigl_torch.datasets import get_dataloaders\n",
            "from rigl_torch.optim import StepLrWithLinearWarmUp\n"
         ]
      },
      {
         "cell_type": "code",
         "execution_count": 1,
         "metadata": {},
         "outputs": [
            {
               "name": "stderr",
               "output_type": "stream",
               "text": [
                  "INFO:/home/condensed-sparsity/src/rigl_torch/models/model_factory.py:Registering mnist for mnist dataset to ModelFactory...\n",
                  "INFO:/home/condensed-sparsity/src/rigl_torch/models/model_factory.py:Registering resnet18 for cifar10 dataset to ModelFactory...\n",
                  "INFO:/home/condensed-sparsity/src/rigl_torch/models/model_factory.py:Registering wide_resnet22 for cifar10 dataset to ModelFactory...\n",
                  "INFO:/home/condensed-sparsity/src/rigl_torch/models/model_factory.py:Registering cond_net for mnist dataset to ModelFactory...\n",
                  "INFO:/home/condensed-sparsity/src/rigl_torch/models/model_factory.py:Registering wide_resnet22 for imagenet dataset to ModelFactory...\n",
                  "INFO:/home/condensed-sparsity/src/rigl_torch/models/model_factory.py:Registering resnet18 for imagenet dataset to ModelFactory...\n",
                  "INFO:/home/condensed-sparsity/src/rigl_torch/models/model_factory.py:Registering resnet50 for imagenet dataset to ModelFactory...\n",
                  "/tmp/ipykernel_153204/82332062.py:6: UserWarning: \n",
                  "The version_base parameter is not specified.\n",
                  "Please specify a compatability version level, or None.\n",
                  "Will assume defaults for version 1.1\n",
                  "  with hydra.initialize(config_path=\"../configs\"):\n",
                  "INFO:/home/condensed-sparsity/src/rigl_torch/models/model_factory.py:Loading model wide_resnet22/cifar10 using <function get_wide_resnet_22 at 0x7f699b4e5040> with args: () and kwargs: {}\n"
               ]
            }
         ],
         "source": [
            "from rigl_torch.datasets import get_dataloaders\n",
            "from omegaconf import DictConfig\n",
            "from rigl_torch.models import ModelFactory\n",
            "import hydra\n",
            "\n",
            "with hydra.initialize(config_path=\"../configs\"):\n",
            "    cfg = hydra.compose(config_name=\"config.yaml\", overrides=[\"dataset=cifar10\", \"model=wide_resnet22\", \"compute.distributed=False\"])\n",
            "cfg\n",
            "\n",
            "net = ModelFactory.load_model(\"wide_resnet22\", \"cifar10\")"
         ]
      },
      {
         "cell_type": "code",
         "execution_count": 4,
         "metadata": {},
         "outputs": [
            {
               "name": "stdout",
               "output_type": "stream",
               "text": [
                  "Files already downloaded and verified\n"
               ]
            }
         ],
         "source": [
            "import torchvision\n",
            "cifar = torchvision.datasets.CIFAR10(root=\"../data/\", download=True)"
         ]
      },
      {
         "cell_type": "code",
         "execution_count": 21,
         "metadata": {},
         "outputs": [
            {
               "data": {
                  "text/plain": [
                     "50000"
                  ]
               },
               "execution_count": 21,
               "metadata": {},
               "output_type": "execute_result"
            }
         ],
         "source": [
            "len(cifar)"
         ]
      },
      {
         "cell_type": "code",
         "execution_count": 22,
         "metadata": {},
         "outputs": [
            {
               "name": "stderr",
               "output_type": "stream",
               "text": [
                  "Traceback (most recent call last):\n",
                  "  File \"<string>\", line 1, in <module>\n",
                  "  File \"/opt/conda/lib/python3.8/multiprocessing/spawn.py\", line 116, in spawn_main\n",
                  "    exitcode = _main(fd, parent_sentinel)\n",
                  "  File \"/opt/conda/lib/python3.8/multiprocessing/spawn.py\", line 126, in _main\n",
                  "    self = reduction.pickle.load(from_parent)\n",
                  "AttributeError: Can't get attribute 'main' on <module '__main__' (built-in)>\n",
                  "Traceback (most recent call last):\n",
                  "  File \"<string>\", line 1, in <module>\n",
                  "  File \"/opt/conda/lib/python3.8/multiprocessing/spawn.py\", line 116, in spawn_main\n",
                  "    exitcode = _main(fd, parent_sentinel)\n",
                  "  File \"/opt/conda/lib/python3.8/multiprocessing/spawn.py\", line 126, in _main\n",
                  "    self = reduction.pickle.load(from_parent)\n",
                  "AttributeError: Can't get attribute 'main' on <module '__main__' (built-in)>\n"
               ]
            },
            {
               "ename": "KeyboardInterrupt",
               "evalue": "",
               "output_type": "error",
               "traceback": [
                  "\u001b[0;31m---------------------------------------------------------------------------\u001b[0m",
                  "\u001b[0;31mKeyboardInterrupt\u001b[0m                         Traceback (most recent call last)",
                  "Cell \u001b[0;32mIn [22], line 24\u001b[0m\n\u001b[1;32m     13\u001b[0m     train_loader \u001b[38;5;241m=\u001b[39m torch\u001b[38;5;241m.\u001b[39mutils\u001b[38;5;241m.\u001b[39mdata\u001b[38;5;241m.\u001b[39mDataLoader(\n\u001b[1;32m     14\u001b[0m         cifar,\n\u001b[1;32m     15\u001b[0m         sampler\u001b[38;5;241m=\u001b[39mtrain_sampler,\n\u001b[1;32m     16\u001b[0m         batch_size\u001b[38;5;241m=\u001b[39m\u001b[38;5;241m128\u001b[39m,\n\u001b[1;32m     17\u001b[0m         shuffle\u001b[38;5;241m=\u001b[39m\u001b[38;5;28;01mTrue\u001b[39;00m,\n\u001b[1;32m     18\u001b[0m     )\n\u001b[1;32m     19\u001b[0m     \u001b[38;5;28mprint\u001b[39m(\u001b[38;5;124mf\u001b[39m\u001b[38;5;124m\"\u001b[39m\u001b[38;5;124mNum samples in rank \u001b[39m\u001b[38;5;132;01m{\u001b[39;00mrank\u001b[38;5;132;01m}\u001b[39;00m\u001b[38;5;124m: \u001b[39m\u001b[38;5;132;01m{\u001b[39;00m\u001b[38;5;28mlen\u001b[39m(train_loader)\u001b[38;5;241m*\u001b[39m\u001b[38;5;241m256\u001b[39m\u001b[38;5;132;01m}\u001b[39;00m\u001b[38;5;124m\"\u001b[39m) \n\u001b[0;32m---> 24\u001b[0m \u001b[43mmp\u001b[49m\u001b[38;5;241;43m.\u001b[39;49m\u001b[43mspawn\u001b[49m\u001b[43m(\u001b[49m\n\u001b[1;32m     25\u001b[0m \u001b[43m    \u001b[49m\u001b[43mmain\u001b[49m\u001b[43m,\u001b[49m\n\u001b[1;32m     26\u001b[0m \u001b[43m    \u001b[49m\u001b[43margs\u001b[49m\u001b[38;5;241;43m=\u001b[39;49m\u001b[43m(\u001b[49m\u001b[43mcfg\u001b[49m\u001b[43m,\u001b[49m\u001b[43m)\u001b[49m\u001b[43m,\u001b[49m\n\u001b[1;32m     27\u001b[0m \u001b[43m    \u001b[49m\u001b[43mnprocs\u001b[49m\u001b[38;5;241;43m=\u001b[39;49m\u001b[38;5;241;43m2\u001b[39;49m\u001b[43m,\u001b[49m\n\u001b[1;32m     28\u001b[0m \u001b[43m)\u001b[49m\n",
                  "File \u001b[0;32m~/build/.venv/lib/python3.8/site-packages/torch/multiprocessing/spawn.py:240\u001b[0m, in \u001b[0;36mspawn\u001b[0;34m(fn, args, nprocs, join, daemon, start_method)\u001b[0m\n\u001b[1;32m    236\u001b[0m     msg \u001b[39m=\u001b[39m (\u001b[39m'\u001b[39m\u001b[39mThis method only supports start_method=spawn (got: \u001b[39m\u001b[39m%s\u001b[39;00m\u001b[39m).\u001b[39m\u001b[39m\\n\u001b[39;00m\u001b[39m'\u001b[39m\n\u001b[1;32m    237\u001b[0m            \u001b[39m'\u001b[39m\u001b[39mTo use a different start_method use:\u001b[39m\u001b[39m\\n\u001b[39;00m\u001b[39m\\t\u001b[39;00m\u001b[39m\\t\u001b[39;00m\u001b[39m'\u001b[39m\n\u001b[1;32m    238\u001b[0m            \u001b[39m'\u001b[39m\u001b[39m torch.multiprocessing.start_processes(...)\u001b[39m\u001b[39m'\u001b[39m \u001b[39m%\u001b[39m start_method)\n\u001b[1;32m    239\u001b[0m     warnings\u001b[39m.\u001b[39mwarn(msg)\n\u001b[0;32m--> 240\u001b[0m \u001b[39mreturn\u001b[39;00m start_processes(fn, args, nprocs, join, daemon, start_method\u001b[39m=\u001b[39;49m\u001b[39m'\u001b[39;49m\u001b[39mspawn\u001b[39;49m\u001b[39m'\u001b[39;49m)\n",
                  "File \u001b[0;32m~/build/.venv/lib/python3.8/site-packages/torch/multiprocessing/spawn.py:198\u001b[0m, in \u001b[0;36mstart_processes\u001b[0;34m(fn, args, nprocs, join, daemon, start_method)\u001b[0m\n\u001b[1;32m    195\u001b[0m     \u001b[39mreturn\u001b[39;00m context\n\u001b[1;32m    197\u001b[0m \u001b[39m# Loop on join until it returns True or raises an exception.\u001b[39;00m\n\u001b[0;32m--> 198\u001b[0m \u001b[39mwhile\u001b[39;00m \u001b[39mnot\u001b[39;00m context\u001b[39m.\u001b[39;49mjoin():\n\u001b[1;32m    199\u001b[0m     \u001b[39mpass\u001b[39;00m\n",
                  "File \u001b[0;32m~/build/.venv/lib/python3.8/site-packages/torch/multiprocessing/spawn.py:109\u001b[0m, in \u001b[0;36mProcessContext.join\u001b[0;34m(self, timeout)\u001b[0m\n\u001b[1;32m    106\u001b[0m     \u001b[39mreturn\u001b[39;00m \u001b[39mTrue\u001b[39;00m\n\u001b[1;32m    108\u001b[0m \u001b[39m# Wait for any process to fail or all of them to succeed.\u001b[39;00m\n\u001b[0;32m--> 109\u001b[0m ready \u001b[39m=\u001b[39m multiprocessing\u001b[39m.\u001b[39;49mconnection\u001b[39m.\u001b[39;49mwait(\n\u001b[1;32m    110\u001b[0m     \u001b[39mself\u001b[39;49m\u001b[39m.\u001b[39;49msentinels\u001b[39m.\u001b[39;49mkeys(),\n\u001b[1;32m    111\u001b[0m     timeout\u001b[39m=\u001b[39;49mtimeout,\n\u001b[1;32m    112\u001b[0m )\n\u001b[1;32m    114\u001b[0m error_index \u001b[39m=\u001b[39m \u001b[39mNone\u001b[39;00m\n\u001b[1;32m    115\u001b[0m \u001b[39mfor\u001b[39;00m sentinel \u001b[39min\u001b[39;00m ready:\n",
                  "File \u001b[0;32m/opt/conda/lib/python3.8/multiprocessing/connection.py:931\u001b[0m, in \u001b[0;36mwait\u001b[0;34m(object_list, timeout)\u001b[0m\n\u001b[1;32m    928\u001b[0m     deadline \u001b[39m=\u001b[39m time\u001b[39m.\u001b[39mmonotonic() \u001b[39m+\u001b[39m timeout\n\u001b[1;32m    930\u001b[0m \u001b[39mwhile\u001b[39;00m \u001b[39mTrue\u001b[39;00m:\n\u001b[0;32m--> 931\u001b[0m     ready \u001b[39m=\u001b[39m selector\u001b[39m.\u001b[39;49mselect(timeout)\n\u001b[1;32m    932\u001b[0m     \u001b[39mif\u001b[39;00m ready:\n\u001b[1;32m    933\u001b[0m         \u001b[39mreturn\u001b[39;00m [key\u001b[39m.\u001b[39mfileobj \u001b[39mfor\u001b[39;00m (key, events) \u001b[39min\u001b[39;00m ready]\n",
                  "File \u001b[0;32m/opt/conda/lib/python3.8/selectors.py:415\u001b[0m, in \u001b[0;36m_PollLikeSelector.select\u001b[0;34m(self, timeout)\u001b[0m\n\u001b[1;32m    413\u001b[0m ready \u001b[39m=\u001b[39m []\n\u001b[1;32m    414\u001b[0m \u001b[39mtry\u001b[39;00m:\n\u001b[0;32m--> 415\u001b[0m     fd_event_list \u001b[39m=\u001b[39m \u001b[39mself\u001b[39;49m\u001b[39m.\u001b[39;49m_selector\u001b[39m.\u001b[39;49mpoll(timeout)\n\u001b[1;32m    416\u001b[0m \u001b[39mexcept\u001b[39;00m \u001b[39mInterruptedError\u001b[39;00m:\n\u001b[1;32m    417\u001b[0m     \u001b[39mreturn\u001b[39;00m ready\n",
                  "\u001b[0;31mKeyboardInterrupt\u001b[0m: "
               ]
            }
         ],
         "source": [
            "import torch\n",
            "import torch.nn.functional as F\n",
            "import torch.multiprocessing as mp\n",
            "import torch.distributed as dist\n",
            "from torch.nn.parallel import DistributedDataParallel\n",
            "\n",
            "def main(rank, cfg):\n",
            "    cifar = torchvision.datasets.CIFAR10(root=\"../data/\", download=True)\n",
            "    device = torch.device(f\"cuda:{rank}\")\n",
            "    train_sampler = torch.utils.data.distributed.DistributedSampler(\n",
            "        cifar, drop_last=True\n",
            "    )\n",
            "    train_loader = torch.utils.data.DataLoader(\n",
            "        cifar,\n",
            "        sampler=train_sampler,\n",
            "        batch_size=128,\n",
            "        shuffle=True,\n",
            "    )\n",
            "    print(f\"Num samples in rank {rank}: {len(train_loader)*256}\") \n",
            "\n",
            "    \n",
            "\n",
            "\n",
            "mp.spawn(\n",
            "    main,\n",
            "    args=(cfg,),\n",
            "    nprocs=2,\n",
            ")"
         ]
      },
      {
         "cell_type": "code",
         "execution_count": 5,
         "metadata": {},
         "outputs": [
            {
               "name": "stdout",
               "output_type": "stream",
               "text": [
                  "Files already downloaded and verified\n"
               ]
            }
         ],
         "source": [
            "train, test = get_dataloaders(cfg)"
         ]
      },
      {
         "cell_type": "code",
         "execution_count": 6,
         "metadata": {},
         "outputs": [
            {
               "data": {
                  "text/plain": [
                     "32"
                  ]
               },
               "execution_count": 6,
               "metadata": {},
               "output_type": "execute_result"
            }
         ],
         "source": [
            "cfg.training.batch_size"
         ]
      },
      {
         "cell_type": "code",
         "execution_count": 7,
         "metadata": {},
         "outputs": [
            {
               "data": {
                  "text/plain": [
                     "1562"
                  ]
               },
               "execution_count": 7,
               "metadata": {},
               "output_type": "execute_result"
            }
         ],
         "source": [
            "len(train)"
         ]
      },
      {
         "cell_type": "code",
         "execution_count": 8,
         "metadata": {},
         "outputs": [
            {
               "data": {
                  "text/plain": [
                     "50000"
                  ]
               },
               "execution_count": 8,
               "metadata": {},
               "output_type": "execute_result"
            }
         ],
         "source": [
            "len(train.dataset)"
         ]
      },
      {
         "cell_type": "code",
         "execution_count": 9,
         "metadata": {},
         "outputs": [
            {
               "data": {
                  "text/plain": [
                     "1562.5"
                  ]
               },
               "execution_count": 9,
               "metadata": {},
               "output_type": "execute_result"
            }
         ],
         "source": [
            "len(train.dataset) / cfg.training.batch_size"
         ]
      },
      {
         "cell_type": "code",
         "execution_count": 10,
         "metadata": {},
         "outputs": [],
         "source": [
            "for imgs,labels in train:\n",
            "    break"
         ]
      },
      {
         "cell_type": "code",
         "execution_count": 2,
         "metadata": {},
         "outputs": [],
         "source": [
            "import torch\n",
            "from rigl_torch.optim import get_lr_scheduler, get_optimizer\n",
            "optim = get_optimizer(cfg, net, None)\n",
            "lr_scheduler = get_lr_scheduler(cfg, optim, None)\n",
            "\n",
            "\n",
            "\n",
            "# adamw1 = AdamW(net.parameters(), lr=0.001)\n",
            "# adamw2 = AdamW(net.parameters(), lr=0.001)\n",
            "# linear_step = torch.optim.lr_scheduler.StepLR(adamw2, step_size=30000, gamma=0.2)\n",
            "# cawr = CosineAnnealingWarmRestarts(optimizer=adamw1, T_0=20, T_mult=2)\n",
            "# ca = CosineAnnealingLR(optimizer=adamw2, T_max=T_max)\n",
            "# adamw3 = AdamW(net.parameters(), lr=0.001)\n",
            "# test= CosineAnnealingWithLinearWarmUp(optimizer=adamw3, T_max=T_max, warm_up_steps=50, lr=0.001)"
         ]
      },
      {
         "cell_type": "code",
         "execution_count": 12,
         "metadata": {},
         "outputs": [],
         "source": [
            "# lr_scheduler.get_last_lr()"
         ]
      },
      {
         "cell_type": "code",
         "execution_count": 13,
         "metadata": {},
         "outputs": [],
         "source": [
            "# lr_scheduler.step_size"
         ]
      },
      {
         "cell_type": "code",
         "execution_count": 3,
         "metadata": {},
         "outputs": [
            {
               "name": "stderr",
               "output_type": "stream",
               "text": [
                  "/home/user/build/.venv/lib/python3.8/site-packages/torch/optim/lr_scheduler.py:131: UserWarning: Detected call of `lr_scheduler.step()` before `optimizer.step()`. In PyTorch 1.1.0 and later, you should call them in the opposite order: `optimizer.step()` before `lr_scheduler.step()`.  Failure to do this will result in PyTorch skipping the first value of the learning rate schedule. See more details at https://pytorch.org/docs/stable/optim.html#how-to-adjust-learning-rate\n",
                  "  warnings.warn(\"Detected call of `lr_scheduler.step()` before `optimizer.step()`. \"\n",
                  "INFO:/home/condensed-sparsity/src/rigl_torch/optim/step_lr_with_linear_warm_up.py:Reducing LR to 0.020000000000000004 @ epoch 30\n",
                  "INFO:/home/condensed-sparsity/src/rigl_torch/optim/step_lr_with_linear_warm_up.py:Reducing LR to 0.0020000000000000005 @ epoch 70\n",
                  "INFO:/home/condensed-sparsity/src/rigl_torch/optim/step_lr_with_linear_warm_up.py:Reducing LR to 0.00020000000000000006 @ epoch 90\n"
               ]
            }
         ],
         "source": [
            "%matplotlib inline\n",
            "lrs=[]\n",
            "step_lrs=[]\n",
            "# from torch.optim.lr_scheduler import StepLR\n",
            "# step_scheduler = StepLR(optim, step_size=30, gamma=0.1)\n",
            "for epoch in range(0,100):\n",
            "    # lr = [group[\"lr\"] for group in optim.param_groups][0]\n",
            "    lr=lr_scheduler.get_last_lr()[0]\n",
            "    lrs.append(lr)\n",
            "    lr_scheduler.step()\n",
            "    # lr = [group[\"lr\"] for group in optim.param_groups][0]\n",
            "    # step_lrs.append(lr)\n",
            "    # step_scheduler.step()\n",
            "\n",
            "# for x in range(T_max):\n",
            "#     lr1 = cawr.get_last_lr()\n",
            "#     warm_restart_lrs.append(lr1)\n",
            "#     cawr.step()\n",
            "#     lr2 = linear_step.get_last_lr()\n",
            "#     linear_step_lrs.append(lr2)\n",
            "#     linear_step.step()\n",
            "    # combined.append(lr1[0] * lr2[0]*1000)\n",
            "    # lr3 = test.get_last_lr()\n",
            "    # linear_warmup.append(lr3)\n",
            "    # test.step()"
         ]
      },
      {
         "cell_type": "code",
         "execution_count": 5,
         "metadata": {},
         "outputs": [
            {
               "data": {
                  "text/plain": [
                     "[1e-06, 0.050000750000000004, 0.1000005, 0.15000025, 0.2, 0.2]"
                  ]
               },
               "execution_count": 5,
               "metadata": {},
               "output_type": "execute_result"
            }
         ],
         "source": [
            "lrs[0:6]"
         ]
      },
      {
         "cell_type": "code",
         "execution_count": 4,
         "metadata": {},
         "outputs": [
            {
               "data": {
                  "text/plain": [
                     "[<matplotlib.lines.Line2D at 0x7f69998ce9a0>]"
                  ]
               },
               "execution_count": 4,
               "metadata": {},
               "output_type": "execute_result"
            },
            {
               "data": {
                  "image/png": "[encoded data removed]",
                  "text/plain": [
                     "<Figure size 432x288 with 1 Axes>"
                  ]
               },
               "metadata": {
                  "needs_background": "light"
               },
               "output_type": "display_data"
            }
         ],
         "source": [
            "import matplotlib.pyplot as plt\n",
            "\n",
            "plt.plot(lrs)\n",
            "# plt.plot(step_lrs)\n",
            "# plt.plot(combined)\n",
            "# plt.plot(linear_warmup)"
         ]
      },
      {
         "cell_type": "code",
         "execution_count": 16,
         "metadata": {},
         "outputs": [
            {
               "data": {
                  "text/plain": [
                     "[1.6, 1.6, 0.16000000000000003, 0.16000000000000003]"
                  ]
               },
               "execution_count": 16,
               "metadata": {},
               "output_type": "execute_result"
            }
         ],
         "source": [
            "lrs[28:32]"
         ]
      },
      {
         "cell_type": "code",
         "execution_count": 17,
         "metadata": {},
         "outputs": [
            {
               "data": {
                  "text/plain": [
                     "0.16000000000000003"
                  ]
               },
               "execution_count": 17,
               "metadata": {},
               "output_type": "execute_result"
            }
         ],
         "source": [
            "lrs[31]"
         ]
      },
      {
         "cell_type": "code",
         "execution_count": null,
         "metadata": {},
         "outputs": [],
         "source": [
            "from rigl_torch.models import get_model\n",
            "from rigl_torch.datasets import get_dataloaders\n",
            "from omegaconf import DictConfig\n",
            "import hydra"
         ]
      },
      {
         "cell_type": "code",
         "execution_count": null,
         "metadata": {},
         "outputs": [],
         "source": [
            "with hydra.initialize(config_path=\"../configs\"):\n",
            "    cfg = hydra.compose(config_name=\"config.yaml\", overrides=[])\n",
            "cfg"
         ]
      },
      {
         "cell_type": "code",
         "execution_count": null,
         "metadata": {},
         "outputs": [],
         "source": [
            "def print_image_shape(module, input, output):\n",
            "    print(f\"Module {module._get_name()}\")\n",
            "    print(f\"input shape: {input[0].shape} output shape: {output.shape}\")\n",
            "    return output"
         ]
      }
   ],
   "metadata": {
      "kernelspec": {
         "display_name": "Python 3.8.12 ('.venv')",
         "language": "python",
         "name": "python3"
      },
      "language_info": {
         "codemirror_mode": {
            "name": "ipython",
            "version": 3
         },
         "file_extension": ".py",
         "mimetype": "text/x-python",
         "name": "python",
         "nbconvert_exporter": "python",
         "pygments_lexer": "ipython3",
         "version": "3.8.12"
      },
      "orig_nbformat": 4,
      "vscode": {
         "interpreter": {
            "hash": "816b48dc46e0e4033a4b7ddacb526e2f216437e7413cf9fdf092ed7be3b64e38"
         }
      }
   },
   "nbformat": 4,
   "nbformat_minor": 2
}
