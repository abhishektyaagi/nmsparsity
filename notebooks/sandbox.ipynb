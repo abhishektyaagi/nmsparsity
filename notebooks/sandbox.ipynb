{
 "cells": [
  {
   "cell_type": "code",
   "execution_count": 1,
   "metadata": {},
   "outputs": [],
   "source": [
    "from torch.optim.lr_scheduler import CosineAnnealingWarmRestarts, CosineAnnealingLR, _LRScheduler\n",
    "from torch.optim import AdamW\n",
    "import math\n",
    "from rigl_torch.models import ModelFactory\n",
    "\n",
    "net = ModelFactory.load_model(\"wide_resnet22\", \"cifar10\")"
   ]
  },
  {
   "cell_type": "code",
   "execution_count": 1,
   "metadata": {},
   "outputs": [
    {
     "name": "stderr",
     "output_type": "stream",
     "text": [
      "/tmp/ipykernel_235913/856747501.py:5: UserWarning: \n",
      "The version_base parameter is not specified.\n",
      "Please specify a compatability version level, or None.\n",
      "Will assume defaults for version 1.1\n",
      "  with hydra.initialize(config_path=\"../configs\"):\n"
     ]
    },
    {
     "data": {
      "text/plain": [
       "{'dataset': {'name': 'cifar10', 'normalize': False, 'num_classes': 10, 'classes': ['airplane', 'automobile', 'bird', 'cat', 'deer', 'dog', 'frog', 'horse', 'ship', 'truck']}, 'model': {'name': 'wide_resnet22'}, 'experiment': {'comment': None, 'name': '${model.name}_${dataset.name}_${experiment.comment}'}, 'paths': {'data_folder': '/home/condensed-sparsity/data', 'artifacts': '/home/condensed-sparsity/artifacts', 'logs': '/home/condensed-sparsity/logs'}, 'rigl': {'dense_allocation': None, 'delta': 100, 'grad_accumulation_n': 1, 'alpha': 0.3, 'static_topo': 0, 'const_fan_in': False, 'sparsity_distribution': 'erk', 'erk_power_scale': 1.0}, 'training': {'batch_size': 64, 'test_batch_size': 10, 'epochs': 50, 'lr': 1.0, 'init_lr': 1e-06, 'warm_up_steps': 5, 'gamma': 0.7, 'dry_run': False, 'seed': 1, 'log_interval': 10, 'save_model': True, 'weight_decay': 0, 'momentum': 0.9, 'optimizer': 'adadelta'}, 'compute': {'no_cuda': False, 'cuda_kwargs': {'num_workers': 1, 'pin_memory': True, 'shuffle': True}}, 'wandb': {'project': 'condensed-rigl', 'entity': 'condensed-sparsity', 'start_method': 'thread'}}"
      ]
     },
     "execution_count": 1,
     "metadata": {},
     "output_type": "execute_result"
    }
   ],
   "source": [
    "from rigl_torch.datasets import get_dataloaders\n",
    "from omegaconf import DictConfig\n",
    "import hydra\n",
    "\n",
    "with hydra.initialize(config_path=\"../configs\"):\n",
    "    cfg = hydra.compose(config_name=\"config.yaml\", overrides=[])\n",
    "cfg"
   ]
  },
  {
   "cell_type": "code",
   "execution_count": 3,
   "metadata": {},
   "outputs": [],
   "source": [
    "from rigl_torch.models.resnet import ResNet18\n"
   ]
  },
  {
   "cell_type": "code",
   "execution_count": 2,
   "metadata": {},
   "outputs": [
    {
     "data": {
      "text/plain": [
       "{'mnist': {'mnist': <function rigl_torch.models.mnist.Mnist()>},\n",
       " 'cifar10': {'wide_resnet22': <function rigl_torch.models.wide_resnet.get_wide_resnet_22()>}}"
      ]
     },
     "execution_count": 2,
     "metadata": {},
     "output_type": "execute_result"
    }
   ],
   "source": [
    "ModelFactory.registered_models"
   ]
  },
  {
   "cell_type": "code",
   "execution_count": 1,
   "metadata": {},
   "outputs": [],
   "source": [
    "from rigl_torch.models import ModelFactory\n",
    "\n",
    "net = ModelFactory.load_model(\"resnet18\", \"cifar10\")\n",
    "# net"
   ]
  },
  {
   "cell_type": "code",
   "execution_count": 2,
   "metadata": {},
   "outputs": [
    {
     "data": {
      "text/plain": [
       "ResNet(\n",
       "  (conv1): Conv2d(3, 64, kernel_size=(3, 3), stride=(1, 1), padding=(1, 1), bias=False)\n",
       "  (bn1): BatchNorm2d(64, eps=1e-05, momentum=0.1, affine=True, track_running_stats=True)\n",
       "  (layer1): Sequential(\n",
       "    (0): BasicBlock(\n",
       "      (conv1): Conv2d(64, 64, kernel_size=(3, 3), stride=(1, 1), padding=(1, 1), bias=False)\n",
       "      (bn1): BatchNorm2d(64, eps=1e-05, momentum=0.1, affine=True, track_running_stats=True)\n",
       "      (conv2): Conv2d(64, 64, kernel_size=(3, 3), stride=(1, 1), padding=(1, 1), bias=False)\n",
       "      (bn2): BatchNorm2d(64, eps=1e-05, momentum=0.1, affine=True, track_running_stats=True)\n",
       "      (shortcut): Sequential()\n",
       "    )\n",
       "    (1): BasicBlock(\n",
       "      (conv1): Conv2d(64, 64, kernel_size=(3, 3), stride=(1, 1), padding=(1, 1), bias=False)\n",
       "      (bn1): BatchNorm2d(64, eps=1e-05, momentum=0.1, affine=True, track_running_stats=True)\n",
       "      (conv2): Conv2d(64, 64, kernel_size=(3, 3), stride=(1, 1), padding=(1, 1), bias=False)\n",
       "      (bn2): BatchNorm2d(64, eps=1e-05, momentum=0.1, affine=True, track_running_stats=True)\n",
       "      (shortcut): Sequential()\n",
       "    )\n",
       "  )\n",
       "  (layer2): Sequential(\n",
       "    (0): BasicBlock(\n",
       "      (conv1): Conv2d(64, 128, kernel_size=(3, 3), stride=(2, 2), padding=(1, 1), bias=False)\n",
       "      (bn1): BatchNorm2d(128, eps=1e-05, momentum=0.1, affine=True, track_running_stats=True)\n",
       "      (conv2): Conv2d(128, 128, kernel_size=(3, 3), stride=(1, 1), padding=(1, 1), bias=False)\n",
       "      (bn2): BatchNorm2d(128, eps=1e-05, momentum=0.1, affine=True, track_running_stats=True)\n",
       "      (shortcut): Sequential(\n",
       "        (0): Conv2d(64, 128, kernel_size=(1, 1), stride=(2, 2), bias=False)\n",
       "        (1): BatchNorm2d(128, eps=1e-05, momentum=0.1, affine=True, track_running_stats=True)\n",
       "      )\n",
       "    )\n",
       "    (1): BasicBlock(\n",
       "      (conv1): Conv2d(128, 128, kernel_size=(3, 3), stride=(1, 1), padding=(1, 1), bias=False)\n",
       "      (bn1): BatchNorm2d(128, eps=1e-05, momentum=0.1, affine=True, track_running_stats=True)\n",
       "      (conv2): Conv2d(128, 128, kernel_size=(3, 3), stride=(1, 1), padding=(1, 1), bias=False)\n",
       "      (bn2): BatchNorm2d(128, eps=1e-05, momentum=0.1, affine=True, track_running_stats=True)\n",
       "      (shortcut): Sequential()\n",
       "    )\n",
       "  )\n",
       "  (layer3): Sequential(\n",
       "    (0): BasicBlock(\n",
       "      (conv1): Conv2d(128, 256, kernel_size=(3, 3), stride=(2, 2), padding=(1, 1), bias=False)\n",
       "      (bn1): BatchNorm2d(256, eps=1e-05, momentum=0.1, affine=True, track_running_stats=True)\n",
       "      (conv2): Conv2d(256, 256, kernel_size=(3, 3), stride=(1, 1), padding=(1, 1), bias=False)\n",
       "      (bn2): BatchNorm2d(256, eps=1e-05, momentum=0.1, affine=True, track_running_stats=True)\n",
       "      (shortcut): Sequential(\n",
       "        (0): Conv2d(128, 256, kernel_size=(1, 1), stride=(2, 2), bias=False)\n",
       "        (1): BatchNorm2d(256, eps=1e-05, momentum=0.1, affine=True, track_running_stats=True)\n",
       "      )\n",
       "    )\n",
       "    (1): BasicBlock(\n",
       "      (conv1): Conv2d(256, 256, kernel_size=(3, 3), stride=(1, 1), padding=(1, 1), bias=False)\n",
       "      (bn1): BatchNorm2d(256, eps=1e-05, momentum=0.1, affine=True, track_running_stats=True)\n",
       "      (conv2): Conv2d(256, 256, kernel_size=(3, 3), stride=(1, 1), padding=(1, 1), bias=False)\n",
       "      (bn2): BatchNorm2d(256, eps=1e-05, momentum=0.1, affine=True, track_running_stats=True)\n",
       "      (shortcut): Sequential()\n",
       "    )\n",
       "  )\n",
       "  (layer4): Sequential(\n",
       "    (0): BasicBlock(\n",
       "      (conv1): Conv2d(256, 512, kernel_size=(3, 3), stride=(2, 2), padding=(1, 1), bias=False)\n",
       "      (bn1): BatchNorm2d(512, eps=1e-05, momentum=0.1, affine=True, track_running_stats=True)\n",
       "      (conv2): Conv2d(512, 512, kernel_size=(3, 3), stride=(1, 1), padding=(1, 1), bias=False)\n",
       "      (bn2): BatchNorm2d(512, eps=1e-05, momentum=0.1, affine=True, track_running_stats=True)\n",
       "      (shortcut): Sequential(\n",
       "        (0): Conv2d(256, 512, kernel_size=(1, 1), stride=(2, 2), bias=False)\n",
       "        (1): BatchNorm2d(512, eps=1e-05, momentum=0.1, affine=True, track_running_stats=True)\n",
       "      )\n",
       "    )\n",
       "    (1): BasicBlock(\n",
       "      (conv1): Conv2d(512, 512, kernel_size=(3, 3), stride=(1, 1), padding=(1, 1), bias=False)\n",
       "      (bn1): BatchNorm2d(512, eps=1e-05, momentum=0.1, affine=True, track_running_stats=True)\n",
       "      (conv2): Conv2d(512, 512, kernel_size=(3, 3), stride=(1, 1), padding=(1, 1), bias=False)\n",
       "      (bn2): BatchNorm2d(512, eps=1e-05, momentum=0.1, affine=True, track_running_stats=True)\n",
       "      (shortcut): Sequential()\n",
       "    )\n",
       "  )\n",
       "  (linear): Linear(in_features=512, out_features=10, bias=True)\n",
       ")"
      ]
     },
     "execution_count": 2,
     "metadata": {},
     "output_type": "execute_result"
    }
   ],
   "source": [
    "net"
   ]
  },
  {
   "cell_type": "code",
   "execution_count": 3,
   "metadata": {},
   "outputs": [],
   "source": [
    "from rigl_torch.util import get_W\n",
    "W = get_W(net)"
   ]
  },
  {
   "cell_type": "code",
   "execution_count": 5,
   "metadata": {},
   "outputs": [
    {
     "name": "stdout",
     "output_type": "stream",
     "text": [
      "torch.Size([16, 3, 3, 3])\n",
      "torch.Size([32, 16, 3, 3])\n",
      "torch.Size([32, 32, 3, 3])\n",
      "torch.Size([32, 16, 1, 1])\n",
      "torch.Size([32, 32, 3, 3])\n",
      "torch.Size([32, 32, 3, 3])\n",
      "torch.Size([32, 32, 3, 3])\n",
      "torch.Size([32, 32, 3, 3])\n",
      "torch.Size([64, 32, 3, 3])\n",
      "torch.Size([64, 64, 3, 3])\n",
      "torch.Size([64, 32, 1, 1])\n",
      "torch.Size([64, 64, 3, 3])\n",
      "torch.Size([64, 64, 3, 3])\n",
      "torch.Size([64, 64, 3, 3])\n",
      "torch.Size([64, 64, 3, 3])\n",
      "torch.Size([128, 64, 3, 3])\n",
      "torch.Size([128, 128, 3, 3])\n",
      "torch.Size([128, 64, 1, 1])\n",
      "torch.Size([128, 128, 3, 3])\n",
      "torch.Size([128, 128, 3, 3])\n",
      "torch.Size([128, 128, 3, 3])\n",
      "torch.Size([128, 128, 3, 3])\n",
      "torch.Size([10, 128])\n"
     ]
    }
   ],
   "source": [
    "for x in W:\n",
    "    print(x.shape)"
   ]
  },
  {
   "cell_type": "code",
   "execution_count": 16,
   "metadata": {},
   "outputs": [
    {
     "data": {
      "text/plain": [
       "rigl_torch.models.wide_resnet.BasicBlock"
      ]
     },
     "execution_count": 16,
     "metadata": {},
     "output_type": "execute_result"
    }
   ],
   "source": [
    "type(net.get_submodule(\"block1\").get_submodule(\"layer\").get_submodule(\"0\"))"
   ]
  },
  {
   "cell_type": "code",
   "execution_count": 28,
   "metadata": {},
   "outputs": [],
   "source": [
    "import torch \n",
    "import torchvision\n",
    "import rigl_torch\n",
    "EXCLUDED_TYPES = (torch.nn.BatchNorm2d,)\n",
    "other_types = [torchvision.models.resnet.Bottleneck, torchvision.models.resnet.BasicBlock, rigl_torch.models.wide_resnet.NetworkBlock, rigl_torch.models.wide_resnet.BasicBlock]\n",
    "\n",
    "def get_weighted_layers_v2(model, i=0, layers=None, linear_layers_mask=None):\n",
    "    if layers is None:\n",
    "        layers = []\n",
    "    if linear_layers_mask is None:\n",
    "        linear_layers_mask = []\n",
    "\n",
    "    items = model._modules.items()\n",
    "    if i == 0:\n",
    "        items = [(None, model)]\n",
    "\n",
    "    for layer_name, p in items:\n",
    "        if isinstance(p, torch.nn.Linear):\n",
    "            layers.append([p])\n",
    "            linear_layers_mask.append(1)\n",
    "        elif hasattr(p, \"weight\") and type(p) not in EXCLUDED_TYPES:\n",
    "            layers.append([p])\n",
    "            linear_layers_mask.append(0)\n",
    "        elif type(p) in other_types:\n",
    "            _, linear_layers_mask, i = get_weighted_layers_v2(\n",
    "                p, i=i + 1, layers=layers, linear_layers_mask=linear_layers_mask\n",
    "            )\n",
    "        else:\n",
    "            _, linear_layers_mask, i = get_weighted_layers_v2(\n",
    "                p, i=i + 1, layers=layers, linear_layers_mask=linear_layers_mask\n",
    "            )\n",
    "\n",
    "    return layers, linear_layers_mask, i\n",
    "\n",
    "\n",
    "def get_W2(model, return_linear_layers_mask=False):\n",
    "    layers, linear_layers_mask, _ = get_weighted_layers_v2(model)\n",
    "\n",
    "    W = []\n",
    "    for layer in layers:\n",
    "        idx = 0 if hasattr(layer[0], \"weight\") else 1\n",
    "        W.append(layer[idx].weight)\n",
    "\n",
    "    assert len(W) == len(linear_layers_mask)\n",
    "\n",
    "    if return_linear_layers_mask:\n",
    "        return W, linear_layers_mask\n",
    "    return W"
   ]
  },
  {
   "cell_type": "code",
   "execution_count": 29,
   "metadata": {},
   "outputs": [],
   "source": [
    "W2 = get_W2(net )"
   ]
  },
  {
   "cell_type": "code",
   "execution_count": 31,
   "metadata": {},
   "outputs": [
    {
     "name": "stdout",
     "output_type": "stream",
     "text": [
      "torch.Size([16, 3, 3, 3])\n",
      "torch.Size([32, 16, 3, 3])\n",
      "torch.Size([32, 32, 3, 3])\n",
      "torch.Size([32, 16, 1, 1])\n",
      "torch.Size([32, 32, 3, 3])\n",
      "torch.Size([32, 32, 3, 3])\n",
      "torch.Size([32, 32, 3, 3])\n",
      "torch.Size([32, 32, 3, 3])\n",
      "torch.Size([64, 32, 3, 3])\n",
      "torch.Size([64, 64, 3, 3])\n",
      "torch.Size([64, 32, 1, 1])\n",
      "torch.Size([64, 64, 3, 3])\n",
      "torch.Size([64, 64, 3, 3])\n",
      "torch.Size([64, 64, 3, 3])\n",
      "torch.Size([64, 64, 3, 3])\n",
      "torch.Size([128, 64, 3, 3])\n",
      "torch.Size([128, 128, 3, 3])\n",
      "torch.Size([128, 64, 1, 1])\n",
      "torch.Size([128, 128, 3, 3])\n",
      "torch.Size([128, 128, 3, 3])\n",
      "torch.Size([128, 128, 3, 3])\n",
      "torch.Size([128, 128, 3, 3])\n",
      "torch.Size([10, 128])\n"
     ]
    }
   ],
   "source": [
    "for x in W2:\n",
    "    print(x.shape)"
   ]
  },
  {
   "cell_type": "code",
   "execution_count": 33,
   "metadata": {},
   "outputs": [
    {
     "data": {
      "text/plain": [
       "True"
      ]
     },
     "execution_count": 33,
     "metadata": {},
     "output_type": "execute_result"
    }
   ],
   "source": [
    "W == W2"
   ]
  },
  {
   "cell_type": "code",
   "execution_count": 32,
   "metadata": {},
   "outputs": [
    {
     "name": "stdout",
     "output_type": "stream",
     "text": [
      "torch.Size([16, 3, 3, 3])\n",
      "torch.Size([32, 16, 3, 3])\n",
      "torch.Size([32, 32, 3, 3])\n",
      "torch.Size([32, 16, 1, 1])\n",
      "torch.Size([32, 32, 3, 3])\n",
      "torch.Size([32, 32, 3, 3])\n",
      "torch.Size([32, 32, 3, 3])\n",
      "torch.Size([32, 32, 3, 3])\n",
      "torch.Size([64, 32, 3, 3])\n",
      "torch.Size([64, 64, 3, 3])\n",
      "torch.Size([64, 32, 1, 1])\n",
      "torch.Size([64, 64, 3, 3])\n",
      "torch.Size([64, 64, 3, 3])\n",
      "torch.Size([64, 64, 3, 3])\n",
      "torch.Size([64, 64, 3, 3])\n",
      "torch.Size([128, 64, 3, 3])\n",
      "torch.Size([128, 128, 3, 3])\n",
      "torch.Size([128, 64, 1, 1])\n",
      "torch.Size([128, 128, 3, 3])\n",
      "torch.Size([128, 128, 3, 3])\n",
      "torch.Size([128, 128, 3, 3])\n",
      "torch.Size([128, 128, 3, 3])\n",
      "torch.Size([10, 128])\n"
     ]
    }
   ],
   "source": [
    "for x in W:\n",
    "    print(x.shape)"
   ]
  },
  {
   "cell_type": "code",
   "execution_count": 182,
   "metadata": {},
   "outputs": [],
   "source": [
    "import math\n",
    "import numpy as np\n",
    "from torch.optim.lr_scheduler import _LRScheduler\n",
    "\n",
    "\n",
    "class CosineAnnealingWithLinearWarmUp(_LRScheduler):\n",
    "    def __init__(\n",
    "        self,\n",
    "        optimizer,\n",
    "        T_max,\n",
    "        eta_min=0,\n",
    "        last_epoch=-1,\n",
    "        verbose=False,\n",
    "        lr=0.001,\n",
    "        warm_up_steps=20,\n",
    "        init_lr=None,\n",
    "    ):\n",
    "        self.T_max = T_max\n",
    "        self.eta_min = eta_min\n",
    "        self.warm_up_steps = warm_up_steps\n",
    "        if init_lr is None:\n",
    "            init_lr = 1e-6\n",
    "        if lr is None:\n",
    "            lr = optimizer.param_groups[0][\"lr\"]\n",
    "        self.lr = lr\n",
    "        self._linear_warmup_lrs = np.linspace(\n",
    "            init_lr, self.lr, self.warm_up_steps\n",
    "        )\n",
    "        super().__init__(optimizer, last_epoch=last_epoch, verbose=verbose)\n",
    "\n",
    "    def get_lr(self):\n",
    "        if self.last_epoch < self.warm_up_steps:\n",
    "            return [self._linear_warmup_lrs[self.last_epoch]] * len(\n",
    "                self.optimizer.param_groups\n",
    "            )\n",
    "\n",
    "        elif (self.last_epoch - 1 - self.T_max) % (2 * self.T_max) == 0:\n",
    "            return [\n",
    "                group[\"lr\"]\n",
    "                + (self.lr - self.eta_min)\n",
    "                * (1 - math.cos(math.pi / self.T_max))\n",
    "                / 2\n",
    "                for group in self.optimizer.param_groups\n",
    "            ]\n",
    "        return [\n",
    "            (1 + math.cos(math.pi * self.last_epoch / self.T_max))\n",
    "            / (1 + math.cos(math.pi * (self.last_epoch - 1) / self.T_max))\n",
    "            * (group[\"lr\"] - self.eta_min)\n",
    "            + self.eta_min\n",
    "            for group in self.optimizer.param_groups\n",
    "        ]\n"
   ]
  },
  {
   "cell_type": "code",
   "execution_count": 184,
   "metadata": {},
   "outputs": [],
   "source": [
    "T_max= 1000\n",
    "adamw1 = AdamW(net.parameters(), lr=0.001)\n",
    "adamw2 = AdamW(net.parameters(), lr=0.001)\n",
    "cawr = CosineAnnealingWarmRestarts(optimizer=adamw1, T_0=20, T_mult=2)\n",
    "ca = CosineAnnealingLR(optimizer=adamw2, T_max=T_max)\n",
    "adamw3 = AdamW(net.parameters(), lr=0.001)\n",
    "test= CosineAnnealingWithLinearWarmUp(optimizer=adamw3, T_max=T_max, warm_up_steps=50, lr=0.001)"
   ]
  },
  {
   "cell_type": "code",
   "execution_count": 185,
   "metadata": {},
   "outputs": [
    {
     "data": {
      "text/plain": [
       "[1e-06]"
      ]
     },
     "execution_count": 185,
     "metadata": {},
     "output_type": "execute_result"
    }
   ],
   "source": [
    "test.get_last_lr()"
   ]
  },
  {
   "cell_type": "code",
   "execution_count": null,
   "metadata": {},
   "outputs": [],
   "source": []
  },
  {
   "cell_type": "code",
   "execution_count": 186,
   "metadata": {},
   "outputs": [
    {
     "name": "stderr",
     "output_type": "stream",
     "text": [
      "/opt/conda/lib/python3.8/site-packages/torch/optim/lr_scheduler.py:131: UserWarning: Detected call of `lr_scheduler.step()` before `optimizer.step()`. In PyTorch 1.1.0 and later, you should call them in the opposite order: `optimizer.step()` before `lr_scheduler.step()`.  Failure to do this will result in PyTorch skipping the first value of the learning rate schedule. See more details at https://pytorch.org/docs/stable/optim.html#how-to-adjust-learning-rate\n",
      "  warnings.warn(\"Detected call of `lr_scheduler.step()` before `optimizer.step()`. \"\n"
     ]
    }
   ],
   "source": [
    "%matplotlib inline\n",
    "warm_restart_lrs = []\n",
    "ca_lrs = []\n",
    "combined =[]\n",
    "linear_warmup = []\n",
    "for x in range(T_max):\n",
    "    lr1 = cawr.get_last_lr()\n",
    "    warm_restart_lrs.append(lr1)\n",
    "    cawr.step()\n",
    "    lr2 = ca.get_last_lr()\n",
    "    ca_lrs.append(lr2)\n",
    "    ca.step()\n",
    "    combined.append(lr1[0] * lr2[0]*1000)\n",
    "    lr3 = test.get_last_lr()\n",
    "    linear_warmup.append(lr3)\n",
    "    test.step()"
   ]
  },
  {
   "cell_type": "code",
   "execution_count": 187,
   "metadata": {},
   "outputs": [
    {
     "data": {
      "text/plain": [
       "[<matplotlib.lines.Line2D at 0x7f4854843040>]"
      ]
     },
     "execution_count": 187,
     "metadata": {},
     "output_type": "execute_result"
    },
    {
     "data": {
      "image/png": "[encoded data removed]",
      "text/plain": [
       "<Figure size 432x288 with 1 Axes>"
      ]
     },
     "metadata": {
      "needs_background": "light"
     },
     "output_type": "display_data"
    }
   ],
   "source": [
    "import matplotlib.pyplot as plt\n",
    "\n",
    "plt.plot(warm_restart_lrs)\n",
    "plt.plot(ca_lrs)\n",
    "plt.plot(combined)\n",
    "plt.plot(linear_warmup)"
   ]
  },
  {
   "cell_type": "code",
   "execution_count": 1,
   "metadata": {},
   "outputs": [],
   "source": [
    "from rigl_torch.models import get_model\n",
    "from rigl_torch.datasets import get_dataloaders\n",
    "from omegaconf import DictConfig\n",
    "import hydra"
   ]
  },
  {
   "cell_type": "code",
   "execution_count": 2,
   "metadata": {},
   "outputs": [
    {
     "name": "stderr",
     "output_type": "stream",
     "text": [
      "/tmp/ipykernel_24187/3778961965.py:1: UserWarning: \n",
      "The version_base parameter is not specified.\n",
      "Please specify a compatability version level, or None.\n",
      "Will assume defaults for version 1.1\n",
      "  with hydra.initialize(config_path=\"./configs\"):\n"
     ]
    },
    {
     "data": {
      "text/plain": [
       "{'dataset': {'name': 'mnist', 'num_classes': 10}, 'model': {'name': 'mnist'}, 'experiment': {'name': '${model.name}_${dataset.name}_vanilla_rigl'}, 'paths': {'data_folder': '/home/condensed-sparsity/data', 'artifacts': '/home/condensed-sparsity/artifacts', 'logs': '/home/condensed-sparsity/logs'}, 'rigl': {'dense_allocation': 0.1, 'delta': 100, 'grad_accumulation_n': 1, 'alpha': 0.3, 'static_topo': 0, 'const_fan_in': True, 'sparsity_distribution': 'erk', 'erk_power_scale': 1.0}, 'training': {'batch_size': 64, 'test_batch_size': 10, 'epochs': 50, 'lr': 1.0, 'init_lr': 1e-06, 'warm_up_steps': 5, 'gamma': 0.7, 'dry_run': False, 'seed': 1, 'log_interval': 10, 'save_model': True}, 'compute': {'no_cuda': False, 'cuda_kwargs': {'num_workers': 1, 'pin_memory': True, 'shuffle': True}}, 'wandb': {'project': 'condensed-rigl', 'entity': 'condensed-sparsity', 'start_method': 'thread'}}"
      ]
     },
     "execution_count": 2,
     "metadata": {},
     "output_type": "execute_result"
    }
   ],
   "source": [
    "with hydra.initialize(config_path=\"../configs\"):\n",
    "    cfg = hydra.compose(config_name=\"config.yaml\", overrides=[])\n",
    "cfg"
   ]
  },
  {
   "cell_type": "code",
   "execution_count": 4,
   "metadata": {},
   "outputs": [],
   "source": [
    "def print_image_shape(module, input, output):\n",
    "    print(f\"Module {module._get_name()}\")\n",
    "    print(f\"input shape: {input[0].shape} output shape: {output.shape}\")\n",
    "    return output"
   ]
  }
 ],
 "metadata": {
  "interpreter": {
   "hash": "d4d1e4263499bec80672ea0156c357c1ee493ec2b1c70f0acce89fc37c4a6abe"
  },
  "kernelspec": {
   "display_name": "Python 3.8.12 ('base')",
   "language": "python",
   "name": "python3"
  },
  "language_info": {
   "codemirror_mode": {
    "name": "ipython",
    "version": 3
   },
   "file_extension": ".py",
   "mimetype": "text/x-python",
   "name": "python",
   "nbconvert_exporter": "python",
   "pygments_lexer": "ipython3",
   "version": "3.8.12"
  },
  "orig_nbformat": 4
 },
 "nbformat": 4,
 "nbformat_minor": 2
}
