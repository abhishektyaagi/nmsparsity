{
<<<<<<< HEAD
      "cells": [
            {
                  "cell_type": "code",
                  "execution_count": 7,
                  "metadata": {},
                  "outputs": [
                        {
                              "name": "stderr",
                              "output_type": "stream",
                              "text": [
                                    "INFO:/home/condensed-sparsity/src/rigl_torch/models/model_factory.py:Loading model wide_resnet22/cifar10 using <function get_wide_resnet_22 at 0x7f2fab671310> with args: () and kwargs: {}\n"
                              ]
                        }
                  ],
                  "source": [
                        "from torch.optim.lr_scheduler import CosineAnnealingWarmRestarts, CosineAnnealingLR, _LRScheduler\n",
                        "from torch.optim import AdamW\n",
                        "import math\n",
                        "from rigl_torch.datasets import get_dataloaders\n",
                        "\n",
                        "\n",
                        "net = ModelFactory.load_model(\"wide_resnet22\", \"cifar10\")"
                  ]
            },
            {
                  "cell_type": "code",
                  "execution_count": 3,
                  "metadata": {},
                  "outputs": [
                        {
                              "name": "stderr",
                              "output_type": "stream",
                              "text": [
                                    "/tmp/ipykernel_292431/4275460388.py:6: UserWarning: \n",
                                    "The version_base parameter is not specified.\n",
                                    "Please specify a compatability version level, or None.\n",
                                    "Will assume defaults for version 1.1\n",
                                    "  with hydra.initialize(config_path=\"../configs\"):\n"
                              ]
                        },
                        {
                              "data": {
                                    "text/plain": [
                                          "{'dataset': {'name': 'cifar10', 'normalize': False, 'num_classes': 10, 'classes': ['airplane', 'automobile', 'bird', 'cat', 'deer', 'dog', 'frog', 'horse', 'ship', 'truck']}, 'model': {'name': 'wide_resnet22'}, 'experiment': {'comment': 'rigl_training_settings', 'name': '${model.name}_${dataset.name}_${experiment.comment}'}, 'paths': {'data_folder': '/home/condensed-sparsity/data', 'artifacts': '/home/condensed-sparsity/artifacts', 'logs': '/home/condensed-sparsity/logs'}, 'rigl': {'dense_allocation': 0.1, 'delta': 100, 'grad_accumulation_n': 1, 'alpha': 0.3, 'static_topo': 0, 'const_fan_in': False, 'sparsity_distribution': 'erk', 'erk_power_scale': 1.0}, 'training': {'dry_run': False, 'batch_size': 128, 'test_batch_size': 10, 'epochs': 250, 'seed': 1, 'log_interval': 10, 'save_model': True, 'optimizer': 'sgd', 'weight_decay': 0.0005, 'momentum': 0.9, 'scheduler': 'step_lr', 'lr': 0.1, 'init_lr': 1e-06, 'warm_up_steps': 5, 'gamma': 0.2, 'step_size': 30000}, 'compute': {'no_cuda': False, 'cuda_kwargs': {'num_workers': 1, 'pin_memory': True, 'shuffle': True}}, 'wandb': {'project': 'condensed-rigl', 'entity': 'condensed-sparsity', 'start_method': 'thread'}}"
                                    ]
                              },
                              "execution_count": 3,
                              "metadata": {},
                              "output_type": "execute_result"
                        }
                  ],
                  "source": [
                        "from rigl_torch.datasets import get_dataloaders\n",
                        "from omegaconf import DictConfig\n",
                        "from rigl_torch.models import ModelFactory\n",
                        "import hydra\n",
                        "\n",
                        "with hydra.initialize(config_path=\"../configs\"):\n",
                        "    cfg = hydra.compose(config_name=\"config.yaml\", overrides=[])\n",
                        "cfg"
                  ]
            },
            {
                  "cell_type": "code",
                  "execution_count": 2,
                  "metadata": {},
                  "outputs": [],
                  "source": [
                        "import torchvision\n",
                        "cifar = torchvision.datasets.CIFAR10(root=\"../data/\")"
                  ]
            },
            {
                  "cell_type": "code",
                  "execution_count": 4,
                  "metadata": {},
                  "outputs": [
                        {
                              "data": {
                                    "text/plain": [
                                          "50000"
                                    ]
                              },
                              "execution_count": 4,
                              "metadata": {},
                              "output_type": "execute_result"
                        }
                  ],
                  "source": [
                        "len(cifar)"
                  ]
            },
            {
                  "cell_type": "code",
                  "execution_count": 5,
                  "metadata": {},
                  "outputs": [
                        {
                              "name": "stdout",
                              "output_type": "stream",
                              "text": [
                                    "Files already downloaded and verified\n"
                              ]
                        },
                        {
                              "data": {
                                    "text/plain": [
                                          "391"
                                    ]
                              },
                              "execution_count": 5,
                              "metadata": {},
                              "output_type": "execute_result"
                        }
                  ],
                  "source": [
                        "train, test = get_dataloaders(cfg)\n",
                        "len(train)"
                  ]
            },
            {
                  "cell_type": "code",
                  "execution_count": 9,
                  "metadata": {},
                  "outputs": [
                        {
                              "data": {
                                    "text/plain": [
                                          "97656.25"
                                    ]
                              },
                              "execution_count": 9,
                              "metadata": {},
                              "output_type": "execute_result"
                        }
                  ],
                  "source": [
                        "50000/128*250"
                  ]
            },
            {
                  "cell_type": "code",
                  "execution_count": 8,
                  "metadata": {},
                  "outputs": [
                        {
                              "data": {
                                    "text/plain": [
                                          "391"
                                    ]
                              },
                              "execution_count": 8,
                              "metadata": {},
                              "output_type": "execute_result"
                        }
                  ],
                  "source": [
                        "len(train)"
                  ]
            },
            {
                  "cell_type": "code",
                  "execution_count": 25,
                  "metadata": {},
                  "outputs": [],
                  "source": [
                        "for x in train:\n",
                        "    break"
                  ]
            },
            {
                  "cell_type": "code",
                  "execution_count": 28,
                  "metadata": {},
                  "outputs": [
                        {
                              "data": {
                                    "text/plain": [
                                          "torch.Size([64, 1, 28, 28])"
                                    ]
                              },
                              "execution_count": 28,
                              "metadata": {},
                              "output_type": "execute_result"
                        }
                  ],
                  "source": [
                        "x[0].shape"
                  ]
            },
            {
                  "cell_type": "code",
                  "execution_count": 17,
                  "metadata": {},
                  "outputs": [],
                  "source": [
                        "import torch\n",
                        "T_max= int(250*50000/128)\n",
                        "adamw1 = AdamW(net.parameters(), lr=0.001)\n",
                        "adamw2 = AdamW(net.parameters(), lr=0.001)\n",
                        "linear_step = torch.optim.lr_scheduler.StepLR(adamw2, step_size=30000, gamma=0.2)\n",
                        "cawr = CosineAnnealingWarmRestarts(optimizer=adamw1, T_0=20, T_mult=2)\n",
                        "# ca = CosineAnnealingLR(optimizer=adamw2, T_max=T_max)\n",
                        "# adamw3 = AdamW(net.parameters(), lr=0.001)\n",
                        "# test= CosineAnnealingWithLinearWarmUp(optimizer=adamw3, T_max=T_max, warm_up_steps=50, lr=0.001)"
                  ]
            },
            {
                  "cell_type": "code",
                  "execution_count": 9,
                  "metadata": {},
                  "outputs": [
                        {
                              "data": {
                                    "text/plain": [
                                          "[0.001]"
                                    ]
                              },
                              "execution_count": 9,
                              "metadata": {},
                              "output_type": "execute_result"
                        }
                  ],
                  "source": [
                        "linear_step.get_last_lr()"
                  ]
            },
            {
                  "cell_type": "code",
                  "execution_count": 19,
                  "metadata": {},
                  "outputs": [
                        {
                              "name": "stderr",
                              "output_type": "stream",
                              "text": [
                                    "/opt/conda/lib/python3.8/site-packages/torch/optim/lr_scheduler.py:131: UserWarning: Detected call of `lr_scheduler.step()` before `optimizer.step()`. In PyTorch 1.1.0 and later, you should call them in the opposite order: `optimizer.step()` before `lr_scheduler.step()`.  Failure to do this will result in PyTorch skipping the first value of the learning rate schedule. See more details at https://pytorch.org/docs/stable/optim.html#how-to-adjust-learning-rate\n",
                                    "  warnings.warn(\"Detected call of `lr_scheduler.step()` before `optimizer.step()`. \"\n"
                              ]
                        }
                  ],
                  "source": [
                        "%matplotlib inline\n",
                        "warm_restart_lrs = []\n",
                        "linear_step_lrs = []\n",
                        "combined =[]\n",
                        "linear_warmup = []\n",
                        "for x in range(T_max):\n",
                        "    lr1 = cawr.get_last_lr()\n",
                        "    warm_restart_lrs.append(lr1)\n",
                        "    cawr.step()\n",
                        "    lr2 = linear_step.get_last_lr()\n",
                        "    linear_step_lrs.append(lr2)\n",
                        "    linear_step.step()\n",
                        "    # combined.append(lr1[0] * lr2[0]*1000)\n",
                        "    # lr3 = test.get_last_lr()\n",
                        "    # linear_warmup.append(lr3)\n",
                        "    # test.step()"
                  ]
            },
            {
                  "cell_type": "code",
                  "execution_count": 20,
                  "metadata": {},
                  "outputs": [
                        {
                              "data": {
                                    "text/plain": [
                                          "[<matplotlib.lines.Line2D at 0x7f2fa9755370>]"
                                    ]
                              },
                              "execution_count": 20,
                              "metadata": {},
                              "output_type": "execute_result"
                        },
                        {
                              "data": {
                                    "image/png": "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",
                                    "text/plain": [
                                          "<Figure size 432x288 with 1 Axes>"
                                    ]
                              },
                              "metadata": {
                                    "needs_background": "light"
                              },
                              "output_type": "display_data"
                        }
                  ],
                  "source": [
                        "import matplotlib.pyplot as plt\n",
                        "\n",
                        "plt.plot(warm_restart_lrs)\n",
                        "plt.plot(linear_step_lrs)\n",
                        "# plt.plot(combined)\n",
                        "# plt.plot(linear_warmup)"
                  ]
            },
            {
                  "cell_type": "code",
                  "execution_count": 1,
                  "metadata": {},
                  "outputs": [],
                  "source": [
                        "from rigl_torch.models import get_model\n",
                        "from rigl_torch.datasets import get_dataloaders\n",
                        "from omegaconf import DictConfig\n",
                        "import hydra"
                  ]
            },
            {
                  "cell_type": "code",
                  "execution_count": 2,
                  "metadata": {},
                  "outputs": [
                        {
                              "name": "stderr",
                              "output_type": "stream",
                              "text": [
                                    "/tmp/ipykernel_24187/3778961965.py:1: UserWarning: \n",
                                    "The version_base parameter is not specified.\n",
                                    "Please specify a compatability version level, or None.\n",
                                    "Will assume defaults for version 1.1\n",
                                    "  with hydra.initialize(config_path=\"./configs\"):\n"
                              ]
                        },
                        {
                              "data": {
                                    "text/plain": [
                                          "{'dataset': {'name': 'mnist', 'num_classes': 10}, 'model': {'name': 'mnist'}, 'experiment': {'name': '${model.name}_${dataset.name}_vanilla_rigl'}, 'paths': {'data_folder': '/home/condensed-sparsity/data', 'artifacts': '/home/condensed-sparsity/artifacts', 'logs': '/home/condensed-sparsity/logs'}, 'rigl': {'dense_allocation': 0.1, 'delta': 100, 'grad_accumulation_n': 1, 'alpha': 0.3, 'static_topo': 0, 'const_fan_in': True, 'sparsity_distribution': 'erk', 'erk_power_scale': 1.0}, 'training': {'batch_size': 64, 'test_batch_size': 10, 'epochs': 50, 'lr': 1.0, 'init_lr': 1e-06, 'warm_up_steps': 5, 'gamma': 0.7, 'dry_run': False, 'seed': 1, 'log_interval': 10, 'save_model': True}, 'compute': {'no_cuda': False, 'cuda_kwargs': {'num_workers': 1, 'pin_memory': True, 'shuffle': True}}, 'wandb': {'project': 'condensed-rigl', 'entity': 'condensed-sparsity', 'start_method': 'thread'}}"
                                    ]
                              },
                              "execution_count": 2,
                              "metadata": {},
                              "output_type": "execute_result"
                        }
                  ],
                  "source": [
                        "with hydra.initialize(config_path=\"../configs\"):\n",
                        "    cfg = hydra.compose(config_name=\"config.yaml\", overrides=[])\n",
                        "cfg"
                  ]
            },
            {
                  "cell_type": "code",
                  "execution_count": 4,
                  "metadata": {},
                  "outputs": [],
                  "source": [
                        "def print_image_shape(module, input, output):\n",
                        "    print(f\"Module {module._get_name()}\")\n",
                        "    print(f\"input shape: {input[0].shape} output shape: {output.shape}\")\n",
                        "    return output"
                  ]
            }
      ],
      "metadata": {
            "interpreter": {
                  "hash": "d4d1e4263499bec80672ea0156c357c1ee493ec2b1c70f0acce89fc37c4a6abe"
            },
            "kernelspec": {
                  "display_name": "Python 3.8.12 ('base')",
                  "language": "python",
                  "name": "python3"
            },
            "language_info": {
                  "codemirror_mode": {
                        "name": "ipython",
                        "version": 3
                  },
                  "file_extension": ".py",
                  "mimetype": "text/x-python",
                  "name": "python",
                  "nbconvert_exporter": "python",
                  "pygments_lexer": "ipython3",
                  "version": "3.8.12"
            },
            "orig_nbformat": 4
      },
      "nbformat": 4,
      "nbformat_minor": 2
}
=======
 "cells": [
  {
   "cell_type": "code",
   "execution_count": 7,
   "metadata": {},
   "outputs": [
    {
     "name": "stderr",
     "output_type": "stream",
     "text": [
      "INFO:/home/condensed-sparsity/src/rigl_torch/models/model_factory.py:Loading model wide_resnet22/cifar10 using <function get_wide_resnet_22 at 0x7f2fab671310> with args: () and kwargs: {}\n"
     ]
    }
   ],
   "source": [
    "from torch.optim.lr_scheduler import CosineAnnealingWarmRestarts, CosineAnnealingLR, _LRScheduler\n",
    "from torch.optim import AdamW\n",
    "import math\n",
    "from rigl_torch.datasets import get_dataloaders\n",
    "\n",
    "\n",
    "net = ModelFactory.load_model(\"wide_resnet22\", \"cifar10\")"
   ]
  },
  {
   "cell_type": "code",
   "execution_count": 1,
   "metadata": {},
   "outputs": [
    {
     "name": "stderr",
     "output_type": "stream",
     "text": [
      "/tmp/ipykernel_171789/4275460388.py:6: UserWarning: \n",
      "The version_base parameter is not specified.\n",
      "Please specify a compatability version level, or None.\n",
      "Will assume defaults for version 1.1\n",
      "  with hydra.initialize(config_path=\"../configs\"):\n"
     ]
    },
    {
     "data": {
      "text/plain": [
       "{'dataset': {'name': 'cifar10', 'normalize': False, 'num_classes': 10, 'classes': ['airplane', 'automobile', 'bird', 'cat', 'deer', 'dog', 'frog', 'horse', 'ship', 'truck']}, 'model': {'name': 'wide_resnet22'}, 'experiment': {'comment': None, 'name': '${model.name}_${dataset.name}_${experiment.comment}_0.1LR'}, 'paths': {'data_folder': '/home/condensed-sparsity/data', 'artifacts': '/home/condensed-sparsity/artifacts', 'logs': '/home/condensed-sparsity/logs'}, 'rigl': {'dense_allocation': 0.1, 'delta': 100, 'grad_accumulation_n': 1, 'alpha': 0.3, 'static_topo': 0, 'const_fan_in': False, 'sparsity_distribution': 'erk', 'erk_power_scale': 1.0}, 'training': {'batch_size': 128, 'test_batch_size': 10, 'epochs': 250, 'lr': 0.1, 'init_lr': 1e-06, 'warm_up_steps': 5, 'gamma': 0.2, 'dry_run': False, 'seed': 1, 'log_interval': 10, 'save_model': True, 'weight_decay': 0, 'momentum': 0.9, 'optimizer': 'adadelta'}, 'compute': {'no_cuda': False, 'cuda_kwargs': {'num_workers': 1, 'pin_memory': True, 'shuffle': True}}, 'wandb': {'project': 'condensed-rigl', 'entity': 'condensed-sparsity', 'start_method': 'thread'}}"
      ]
     },
     "execution_count": 1,
     "metadata": {},
     "output_type": "execute_result"
    }
   ],
   "source": [
    "from rigl_torch.datasets import get_dataloaders\n",
    "from omegaconf import DictConfig\n",
    "from rigl_torch.models import ModelFactory\n",
    "import hydra\n",
    "\n",
    "with hydra.initialize(config_path=\"../configs\"):\n",
    "    cfg = hydra.compose(config_name=\"config.yaml\", overrides=[])\n",
    "cfg"
   ]
  },
  {
   "cell_type": "code",
   "execution_count": 5,
   "metadata": {},
   "outputs": [],
   "source": [
    "import torchvision\n",
    "cifar = torchvision.datasets.CIFAR10(root=\"../data/\")"
   ]
  },
  {
   "cell_type": "code",
   "execution_count": 7,
   "metadata": {},
   "outputs": [
    {
     "data": {
      "text/plain": [
       "50000"
      ]
     },
     "execution_count": 7,
     "metadata": {},
     "output_type": "execute_result"
    }
   ],
   "source": [
    "len(cifar)"
   ]
  },
  {
   "cell_type": "code",
   "execution_count": 2,
   "metadata": {},
   "outputs": [
    {
     "name": "stdout",
     "output_type": "stream",
     "text": [
      "Files already downloaded and verified\n"
     ]
    }
   ],
   "source": [
    "train, test = get_dataloaders(cfg)"
   ]
  },
  {
   "cell_type": "code",
   "execution_count": 9,
   "metadata": {},
   "outputs": [
    {
     "data": {
      "text/plain": [
       "50048"
      ]
     },
     "execution_count": 9,
     "metadata": {},
     "output_type": "execute_result"
    }
   ],
   "source": [
    "128*391"
   ]
  },
  {
   "cell_type": "code",
   "execution_count": 8,
   "metadata": {},
   "outputs": [
    {
     "data": {
      "text/plain": [
       "391"
      ]
     },
     "execution_count": 8,
     "metadata": {},
     "output_type": "execute_result"
    }
   ],
   "source": [
    "len(train)"
   ]
  },
  {
   "cell_type": "code",
   "execution_count": 25,
   "metadata": {},
   "outputs": [],
   "source": [
    "for x in train:\n",
    "    break"
   ]
  },
  {
   "cell_type": "code",
   "execution_count": 28,
   "metadata": {},
   "outputs": [
    {
     "data": {
      "text/plain": [
       "torch.Size([64, 1, 28, 28])"
      ]
     },
     "execution_count": 28,
     "metadata": {},
     "output_type": "execute_result"
    }
   ],
   "source": [
    "x[0].shape"
   ]
  },
  {
   "cell_type": "code",
   "execution_count": 17,
   "metadata": {},
   "outputs": [],
   "source": [
    "import torch\n",
    "T_max= int(250*50000/128)\n",
    "adamw1 = AdamW(net.parameters(), lr=0.001)\n",
    "adamw2 = AdamW(net.parameters(), lr=0.001)\n",
    "linear_step = torch.optim.lr_scheduler.StepLR(adamw2, step_size=30000, gamma=0.2)\n",
    "cawr = CosineAnnealingWarmRestarts(optimizer=adamw1, T_0=20, T_mult=2)\n",
    "# ca = CosineAnnealingLR(optimizer=adamw2, T_max=T_max)\n",
    "# adamw3 = AdamW(net.parameters(), lr=0.001)\n",
    "# test= CosineAnnealingWithLinearWarmUp(optimizer=adamw3, T_max=T_max, warm_up_steps=50, lr=0.001)"
   ]
  },
  {
   "cell_type": "code",
   "execution_count": 9,
   "metadata": {},
   "outputs": [
    {
     "data": {
      "text/plain": [
       "[0.001]"
      ]
     },
     "execution_count": 9,
     "metadata": {},
     "output_type": "execute_result"
    }
   ],
   "source": [
    "linear_step.get_last_lr()"
   ]
  },
  {
   "cell_type": "code",
   "execution_count": 19,
   "metadata": {},
   "outputs": [
    {
     "name": "stderr",
     "output_type": "stream",
     "text": [
      "/opt/conda/lib/python3.8/site-packages/torch/optim/lr_scheduler.py:131: UserWarning: Detected call of `lr_scheduler.step()` before `optimizer.step()`. In PyTorch 1.1.0 and later, you should call them in the opposite order: `optimizer.step()` before `lr_scheduler.step()`.  Failure to do this will result in PyTorch skipping the first value of the learning rate schedule. See more details at https://pytorch.org/docs/stable/optim.html#how-to-adjust-learning-rate\n",
      "  warnings.warn(\"Detected call of `lr_scheduler.step()` before `optimizer.step()`. \"\n"
     ]
    }
   ],
   "source": [
    "%matplotlib inline\n",
    "warm_restart_lrs = []\n",
    "linear_step_lrs = []\n",
    "combined =[]\n",
    "linear_warmup = []\n",
    "for x in range(T_max):\n",
    "    lr1 = cawr.get_last_lr()\n",
    "    warm_restart_lrs.append(lr1)\n",
    "    cawr.step()\n",
    "    lr2 = linear_step.get_last_lr()\n",
    "    linear_step_lrs.append(lr2)\n",
    "    linear_step.step()\n",
    "    # combined.append(lr1[0] * lr2[0]*1000)\n",
    "    # lr3 = test.get_last_lr()\n",
    "    # linear_warmup.append(lr3)\n",
    "    # test.step()"
   ]
  },
  {
   "cell_type": "code",
   "execution_count": 20,
   "metadata": {},
   "outputs": [
    {
     "data": {
      "text/plain": [
       "[<matplotlib.lines.Line2D at 0x7f2fa9755370>]"
      ]
     },
     "execution_count": 20,
     "metadata": {},
     "output_type": "execute_result"
    },
    {
     "data": {
      "image/png": "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",
      "text/plain": [
       "<Figure size 432x288 with 1 Axes>"
      ]
     },
     "metadata": {
      "needs_background": "light"
     },
     "output_type": "display_data"
    }
   ],
   "source": [
    "import matplotlib.pyplot as plt\n",
    "\n",
    "plt.plot(warm_restart_lrs)\n",
    "plt.plot(linear_step_lrs)\n",
    "# plt.plot(combined)\n",
    "# plt.plot(linear_warmup)"
   ]
  },
  {
   "cell_type": "code",
   "execution_count": 1,
   "metadata": {},
   "outputs": [],
   "source": [
    "from rigl_torch.models import get_model\n",
    "from rigl_torch.datasets import get_dataloaders\n",
    "from omegaconf import DictConfig\n",
    "import hydra"
   ]
  },
  {
   "cell_type": "code",
   "execution_count": 2,
   "metadata": {},
   "outputs": [
    {
     "name": "stderr",
     "output_type": "stream",
     "text": [
      "/tmp/ipykernel_24187/3778961965.py:1: UserWarning: \n",
      "The version_base parameter is not specified.\n",
      "Please specify a compatability version level, or None.\n",
      "Will assume defaults for version 1.1\n",
      "  with hydra.initialize(config_path=\"./configs\"):\n"
     ]
    },
    {
     "data": {
      "text/plain": [
       "{'dataset': {'name': 'mnist', 'num_classes': 10}, 'model': {'name': 'mnist'}, 'experiment': {'name': '${model.name}_${dataset.name}_vanilla_rigl'}, 'paths': {'data_folder': '/home/condensed-sparsity/data', 'artifacts': '/home/condensed-sparsity/artifacts', 'logs': '/home/condensed-sparsity/logs'}, 'rigl': {'dense_allocation': 0.1, 'delta': 100, 'grad_accumulation_n': 1, 'alpha': 0.3, 'static_topo': 0, 'const_fan_in': True, 'sparsity_distribution': 'erk', 'erk_power_scale': 1.0}, 'training': {'batch_size': 64, 'test_batch_size': 10, 'epochs': 50, 'lr': 1.0, 'init_lr': 1e-06, 'warm_up_steps': 5, 'gamma': 0.7, 'dry_run': False, 'seed': 1, 'log_interval': 10, 'save_model': True}, 'compute': {'no_cuda': False, 'cuda_kwargs': {'num_workers': 1, 'pin_memory': True, 'shuffle': True}}, 'wandb': {'project': 'condensed-rigl', 'entity': 'condensed-sparsity', 'start_method': 'thread'}}"
      ]
     },
     "execution_count": 2,
     "metadata": {},
     "output_type": "execute_result"
    }
   ],
   "source": [
    "with hydra.initialize(config_path=\"../configs\"):\n",
    "    cfg = hydra.compose(config_name=\"config.yaml\", overrides=[])\n",
    "cfg"
   ]
  },
  {
   "cell_type": "code",
   "execution_count": 4,
   "metadata": {},
   "outputs": [],
   "source": [
    "def print_image_shape(module, input, output):\n",
    "    print(f\"Module {module._get_name()}\")\n",
    "    print(f\"input shape: {input[0].shape} output shape: {output.shape}\")\n",
    "    return output"
   ]
  }
 ],
 "metadata": {
  "interpreter": {
   "hash": "d4d1e4263499bec80672ea0156c357c1ee493ec2b1c70f0acce89fc37c4a6abe"
  },
  "kernelspec": {
   "display_name": "Python 3.8.12 ('base')",
   "language": "python",
   "name": "python3"
  },
  "language_info": {
   "codemirror_mode": {
    "name": "ipython",
    "version": 3
   },
   "file_extension": ".py",
   "mimetype": "text/x-python",
   "name": "python",
   "nbconvert_exporter": "python",
   "pygments_lexer": "ipython3",
   "version": "3.8.12"
  },
  "orig_nbformat": 4
 },
 "nbformat": 4,
 "nbformat_minor": 2
}
>>>>>>> lr scheduler options added
