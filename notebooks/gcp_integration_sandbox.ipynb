{
 "cells": [
  {
   "cell_type": "code",
   "execution_count": 6,
   "metadata": {},
   "outputs": [
    {
     "name": "stderr",
     "output_type": "stream",
     "text": [
      "/home/mike/condensed-sparsity/.venv/lib/python3.10/site-packages/google/auth/_default.py:81: UserWarning: Your application has authenticated using end user credentials from Google Cloud SDK without a quota project. You might receive a \"quota exceeded\" or \"API not enabled\" error. We recommend you rerun `gcloud auth application-default login` and make sure a quota project is added. Or you can use service accounts instead. For more information about service accounts, see https://cloud.google.com/docs/authentication/\n",
      "  warnings.warn(_CLOUD_SDK_CREDENTIALS_WARNING)\n",
      "/home/mike/condensed-sparsity/.venv/lib/python3.10/site-packages/google/auth/_default.py:81: UserWarning: Your application has authenticated using end user credentials from Google Cloud SDK without a quota project. You might receive a \"quota exceeded\" or \"API not enabled\" error. We recommend you rerun `gcloud auth application-default login` and make sure a quota project is added. Or you can use service accounts instead. For more information about service accounts, see https://cloud.google.com/docs/authentication/\n",
      "  warnings.warn(_CLOUD_SDK_CREDENTIALS_WARNING)\n"
     ]
    }
   ],
   "source": [
    "from google.cloud import storage\n",
    "import dotenv\n",
    "import os\n",
    "dotenv.load_dotenv(\"../.env\")\n",
    "bucket_name = os.environ[\"GOOGLE_CLOUD_BUCKET_NAME\"]\n",
    "storage_client = storage.Client()\n",
    "bucket=storage_client.get_bucket(bucket_name)"
   ]
  },
  {
   "cell_type": "code",
   "execution_count": 14,
   "metadata": {},
   "outputs": [
    {
     "data": {
      "text/plain": [
       "<Blob: condensed_sparsity, ILSVRC2012_devkit_t12.tar.gz, 1673757831328123>"
      ]
     },
     "execution_count": 14,
     "metadata": {},
     "output_type": "execute_result"
    }
   ],
   "source": [
    "next(bucket.list_blobs())"
   ]
  },
  {
   "cell_type": "code",
   "execution_count": 7,
   "metadata": {},
   "outputs": [
    {
     "data": {
      "text/plain": [
       "{'kind': 'storage#bucket',\n",
       " 'selfLink': 'https://www.googleapis.com/storage/v1/b/condensed_sparsity',\n",
       " 'id': 'condensed_sparsity',\n",
       " 'name': 'condensed_sparsity',\n",
       " 'projectNumber': '180717771254',\n",
       " 'metageneration': '1',\n",
       " 'location': 'US-CENTRAL1',\n",
       " 'storageClass': 'STANDARD',\n",
       " 'etag': 'CAE=',\n",
       " 'timeCreated': '2023-01-15T04:37:02.321Z',\n",
       " 'updated': '2023-01-15T04:37:02.321Z',\n",
       " 'iamConfiguration': {'bucketPolicyOnly': {'enabled': True,\n",
       "   'lockedTime': '2023-04-15T04:37:02.321Z'},\n",
       "  'uniformBucketLevelAccess': {'enabled': True,\n",
       "   'lockedTime': '2023-04-15T04:37:02.321Z'},\n",
       "  'publicAccessPrevention': 'inherited'},\n",
       " 'locationType': 'region'}"
      ]
     },
     "execution_count": 7,
     "metadata": {},
     "output_type": "execute_result"
    }
   ],
   "source": [
    "bucket._properties"
   ]
  }
 ],
 "metadata": {
  "kernelspec": {
   "display_name": ".venv",
   "language": "python",
   "name": "python3"
  },
  "language_info": {
   "codemirror_mode": {
    "name": "ipython",
    "version": 3
   },
   "file_extension": ".py",
   "mimetype": "text/x-python",
   "name": "python",
   "nbconvert_exporter": "python",
   "pygments_lexer": "ipython3",
   "version": "3.10.7"
  },
  "orig_nbformat": 4,
  "vscode": {
   "interpreter": {
    "hash": "f8e7aa388760f1ed0054a801e8f4bc0d2f712d90d0781f57f52c8b826e4e7fab"
   }
  }
 },
 "nbformat": 4,
 "nbformat_minor": 2
}
