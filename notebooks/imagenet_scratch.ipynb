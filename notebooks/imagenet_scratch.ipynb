{
 "cells": [
  {
   "cell_type": "code",
   "execution_count": 1,
   "metadata": {},
   "outputs": [
    {
     "data": {
      "text/plain": [
       "True"
      ]
     },
     "execution_count": 1,
     "metadata": {},
     "output_type": "execute_result"
    }
   ],
   "source": [
    "import dotenv\n",
    "dotenv.load_dotenv(\"../.env\")"
   ]
  },
  {
   "cell_type": "code",
   "execution_count": 2,
   "metadata": {},
   "outputs": [
    {
     "data": {
      "text/plain": [
       "'/home/mklasby/scratch/ILSVRC'"
      ]
     },
     "execution_count": 2,
     "metadata": {},
     "output_type": "execute_result"
    }
   ],
   "source": [
    "import os\n",
    "os.environ[\"IMAGE_NET_PATH\"]\n"
   ]
  },
  {
   "cell_type": "code",
   "execution_count": 3,
   "metadata": {},
   "outputs": [],
   "source": [
    "from hydra import initialize, compose\n",
    "\n",
    "with initialize(\"../configs\", version_base=\"1.2.0\"):\n",
    "    cfg = compose(\"config.yaml\", overrides=[\"dataset=imagenet\"])\n"
   ]
  },
  {
   "cell_type": "code",
   "execution_count": 4,
   "metadata": {},
   "outputs": [
    {
     "data": {
      "text/plain": [
       "'/home/mklasby/scratch/ILSVRC'"
      ]
     },
     "execution_count": 4,
     "metadata": {},
     "output_type": "execute_result"
    }
   ],
   "source": [
    "cfg.dataset.root"
   ]
  },
  {
   "cell_type": "code",
   "execution_count": 5,
   "metadata": {},
   "outputs": [
    {
     "ename": "TypeError",
     "evalue": "Cannot instantiate typing.Union",
     "output_type": "error",
     "traceback": [
      "\u001b[0;31m---------------------------------------------------------------------------\u001b[0m",
      "\u001b[0;31mTypeError\u001b[0m                                 Traceback (most recent call last)",
      "\u001b[1;32m/home/mklasby/projects/def-rmsouza/mklasby/condensed-sparsity/notebooks/imagenet_scratch.ipynb Cell 5\u001b[0m in \u001b[0;36m<cell line: 1>\u001b[0;34m()\u001b[0m\n\u001b[0;32m----> <a href='vscode-notebook-cell://ssh-remote%2B7b22686f73744e616d65223a2263656461724a756d70227d/home/mklasby/projects/def-rmsouza/mklasby/condensed-sparsity/notebooks/imagenet_scratch.ipynb#W4sdnNjb2RlLXJlbW90ZQ%3D%3D?line=0'>1</a>\u001b[0m \u001b[39mfrom\u001b[39;00m \u001b[39mrigl_torch\u001b[39;00m\u001b[39m.\u001b[39;00m\u001b[39mdatasets\u001b[39;00m \u001b[39mimport\u001b[39;00m get_dataloaders\n",
      "File \u001b[0;32m/project/6054398/mklasby/condensed-sparsity/src/rigl_torch/datasets/__init__.py:1\u001b[0m, in \u001b[0;36m<module>\u001b[0;34m\u001b[0m\n\u001b[0;32m----> 1\u001b[0m \u001b[39mfrom\u001b[39;00m \u001b[39m.\u001b[39;00m\u001b[39m_utils\u001b[39;00m \u001b[39mimport\u001b[39;00m get_dataloaders\n",
      "File \u001b[0;32m/project/6054398/mklasby/condensed-sparsity/src/rigl_torch/datasets/_utils.py:6\u001b[0m, in \u001b[0;36m<module>\u001b[0;34m\u001b[0m\n\u001b[1;32m      4\u001b[0m \u001b[39mfrom\u001b[39;00m \u001b[39mrigl_torch\u001b[39;00m\u001b[39m.\u001b[39;00m\u001b[39mdatasets\u001b[39;00m\u001b[39m.\u001b[39;00m\u001b[39m_mnist\u001b[39;00m \u001b[39mimport\u001b[39;00m MNISTDataStem\n\u001b[1;32m      5\u001b[0m \u001b[39mfrom\u001b[39;00m \u001b[39mrigl_torch\u001b[39;00m\u001b[39m.\u001b[39;00m\u001b[39mdatasets\u001b[39;00m\u001b[39m.\u001b[39;00m\u001b[39m_cifar\u001b[39;00m \u001b[39mimport\u001b[39;00m CIFAR10DataStem\n\u001b[0;32m----> 6\u001b[0m \u001b[39mfrom\u001b[39;00m \u001b[39mrigl_torch\u001b[39;00m\u001b[39m.\u001b[39;00m\u001b[39mdatasets\u001b[39;00m\u001b[39m.\u001b[39;00m\u001b[39m_imagenet\u001b[39;00m \u001b[39mimport\u001b[39;00m ImageNetDataStem\n\u001b[1;32m      9\u001b[0m \u001b[39mdef\u001b[39;00m \u001b[39mget_dataloaders\u001b[39m(cfg: DictConfig) \u001b[39m-\u001b[39m\u001b[39m>\u001b[39m torch\u001b[39m.\u001b[39mutils\u001b[39m.\u001b[39mdata\u001b[39m.\u001b[39mDataLoader:\n\u001b[1;32m     10\u001b[0m     \u001b[39mif\u001b[39;00m cfg\u001b[39m.\u001b[39mdataset\u001b[39m.\u001b[39mname\u001b[39m.\u001b[39mlower() \u001b[39m==\u001b[39m \u001b[39m\"\u001b[39m\u001b[39mmnist\u001b[39m\u001b[39m\"\u001b[39m:\n",
      "File \u001b[0;32m/project/6054398/mklasby/condensed-sparsity/src/rigl_torch/datasets/_imagenet.py:12\u001b[0m, in \u001b[0;36m<module>\u001b[0;34m\u001b[0m\n\u001b[1;32m      6\u001b[0m \u001b[39mfrom\u001b[39;00m \u001b[39mrigl_torch\u001b[39;00m\u001b[39m.\u001b[39;00m\u001b[39mdatasets\u001b[39;00m \u001b[39mimport\u001b[39;00m _data_stem\n\u001b[1;32m      7\u001b[0m \u001b[39mfrom\u001b[39;00m \u001b[39m.\u001b[39;00m\u001b[39m_transforms\u001b[39;00m \u001b[39mimport\u001b[39;00m PerImageStandarization\n\u001b[0;32m---> 12\u001b[0m \u001b[39mclass\u001b[39;00m \u001b[39mImageNetDataStem\u001b[39;00m(_data_stem\u001b[39m.\u001b[39mABCDataStem):\n\u001b[1;32m     13\u001b[0m     _IMAGE_HEIGHT \u001b[39m=\u001b[39m \u001b[39m224\u001b[39m\n\u001b[1;32m     14\u001b[0m     _IMAGE_WIDTH \u001b[39m=\u001b[39m \u001b[39m224\u001b[39m\n",
      "File \u001b[0;32m/project/6054398/mklasby/condensed-sparsity/src/rigl_torch/datasets/_imagenet.py:16\u001b[0m, in \u001b[0;36mImageNetDataStem\u001b[0;34m()\u001b[0m\n\u001b[1;32m     13\u001b[0m _IMAGE_HEIGHT \u001b[39m=\u001b[39m \u001b[39m224\u001b[39m\n\u001b[1;32m     14\u001b[0m _IMAGE_WIDTH \u001b[39m=\u001b[39m \u001b[39m224\u001b[39m\n\u001b[0;32m---> 16\u001b[0m \u001b[39mdef\u001b[39;00m \u001b[39m__init__\u001b[39m(\u001b[39mself\u001b[39m, cfg: Dict[\u001b[39mstr\u001b[39m, Any], data_path_override: Union(pathlib\u001b[39m.\u001b[39;49mPath, \u001b[39mstr\u001b[39;49m)):\n\u001b[1;32m     17\u001b[0m     \u001b[39msuper\u001b[39m()\u001b[39m.\u001b[39m\u001b[39m__init__\u001b[39m(cfg, data_path_override\u001b[39m=\u001b[39mdata_path_override)\n\u001b[1;32m     19\u001b[0m \u001b[39mdef\u001b[39;00m \u001b[39mget_train_test_loaders\u001b[39m(\u001b[39mself\u001b[39m):\n",
      "File \u001b[0;32m/cvmfs/soft.computecanada.ca/easybuild/software/2020/avx2/Core/python/3.8.10/lib/python3.8/typing.py:339\u001b[0m, in \u001b[0;36m_SpecialForm.__call__\u001b[0;34m(self, *args, **kwds)\u001b[0m\n\u001b[1;32m    338\u001b[0m \u001b[39mdef\u001b[39;00m \u001b[39m__call__\u001b[39m(\u001b[39mself\u001b[39m, \u001b[39m*\u001b[39margs, \u001b[39m*\u001b[39m\u001b[39m*\u001b[39mkwds):\n\u001b[0;32m--> 339\u001b[0m     \u001b[39mraise\u001b[39;00m \u001b[39mTypeError\u001b[39;00m(\u001b[39mf\u001b[39m\u001b[39m\"\u001b[39m\u001b[39mCannot instantiate \u001b[39m\u001b[39m{\u001b[39;00m\u001b[39mself\u001b[39m\u001b[39m!r}\u001b[39;00m\u001b[39m\"\u001b[39m)\n",
      "\u001b[0;31mTypeError\u001b[0m: Cannot instantiate typing.Union"
     ]
    }
   ],
   "source": [
    "from rigl_torch.datasets import get_dataloaders"
   ]
  },
  {
   "cell_type": "code",
   "execution_count": null,
   "metadata": {},
   "outputs": [
    {
     "ename": "AttributeError",
     "evalue": "'ImageNetDataStem' object has no attribute 'data_root'",
     "output_type": "error",
     "traceback": [
      "\u001b[0;31m---------------------------------------------------------------------------\u001b[0m",
      "\u001b[0;31mAttributeError\u001b[0m                            Traceback (most recent call last)",
      "\u001b[1;32m/home/mklasby/projects/def-rmsouza/mklasby/condensed-sparsity/notebooks/imagenet_scratch.ipynb Cell 6\u001b[0m in \u001b[0;36m<cell line: 1>\u001b[0;34m()\u001b[0m\n\u001b[0;32m----> <a href='vscode-notebook-cell://ssh-remote%2B7b22686f73744e616d65223a2263656461724a756d70227d/home/mklasby/projects/def-rmsouza/mklasby/condensed-sparsity/notebooks/imagenet_scratch.ipynb#W6sdnNjb2RlLXJlbW90ZQ%3D%3D?line=0'>1</a>\u001b[0m train_loader, test_loader \u001b[39m=\u001b[39m get_dataloaders(cfg)\n",
      "File \u001b[0;32m/project/6054398/mklasby/condensed-sparsity/src/rigl_torch/datasets/_utils.py:15\u001b[0m, in \u001b[0;36mget_dataloaders\u001b[0;34m(cfg)\u001b[0m\n\u001b[1;32m     13\u001b[0m     data_stem \u001b[39m=\u001b[39m CIFAR10DataStem(cfg)\n\u001b[1;32m     14\u001b[0m \u001b[39melif\u001b[39;00m cfg\u001b[39m.\u001b[39mdataset\u001b[39m.\u001b[39mname\u001b[39m.\u001b[39mlower() \u001b[39m==\u001b[39m \u001b[39m\"\u001b[39m\u001b[39mimagenet\u001b[39m\u001b[39m\"\u001b[39m:\n\u001b[0;32m---> 15\u001b[0m     data_stem \u001b[39m=\u001b[39m ImageNetDataStem(cfg)\n\u001b[1;32m     16\u001b[0m \u001b[39melse\u001b[39;00m:\n\u001b[1;32m     17\u001b[0m     \u001b[39mraise\u001b[39;00m \u001b[39mValueError\u001b[39;00m(\n\u001b[1;32m     18\u001b[0m         \u001b[39mf\u001b[39m\u001b[39m\"\u001b[39m\u001b[39m{\u001b[39;00mcfg\u001b[39m.\u001b[39mdataset\u001b[39m.\u001b[39mname\u001b[39m.\u001b[39mlower()\u001b[39m}\u001b[39;00m\u001b[39m is not a recognized dataset name!\u001b[39m\u001b[39m\"\u001b[39m\n\u001b[1;32m     19\u001b[0m     )\n",
      "File \u001b[0;32m/project/6054398/mklasby/condensed-sparsity/src/rigl_torch/datasets/_imagenet.py:14\u001b[0m, in \u001b[0;36mImageNetDataStem.__init__\u001b[0;34m(self, cfg)\u001b[0m\n\u001b[1;32m     13\u001b[0m \u001b[39mdef\u001b[39;00m \u001b[39m__init__\u001b[39m(\u001b[39mself\u001b[39m, cfg: Dict[\u001b[39mstr\u001b[39m, Any]):\n\u001b[0;32m---> 14\u001b[0m     \u001b[39msuper\u001b[39;49m()\u001b[39m.\u001b[39;49m\u001b[39m__init__\u001b[39;49m(cfg)\n",
      "File \u001b[0;32m/project/6054398/mklasby/condensed-sparsity/src/rigl_torch/datasets/_data_stem.py:10\u001b[0m, in \u001b[0;36mABCDataStem.__init__\u001b[0;34m(self, cfg, data_path_override)\u001b[0m\n\u001b[1;32m      8\u001b[0m \u001b[39mdef\u001b[39;00m \u001b[39m__init__\u001b[39m(\u001b[39mself\u001b[39m, cfg: Dict[\u001b[39mstr\u001b[39m, Any], data_path_override: Optional[Union[\u001b[39mstr\u001b[39m, pathlib\u001b[39m.\u001b[39mPath]] \u001b[39m=\u001b[39m \u001b[39mNone\u001b[39;00m):\n\u001b[1;32m      9\u001b[0m     \u001b[39mself\u001b[39m\u001b[39m.\u001b[39mcfg \u001b[39m=\u001b[39m cfg\n\u001b[0;32m---> 10\u001b[0m     \u001b[39mself\u001b[39;49m\u001b[39m.\u001b[39;49minitalize_from_cfg()\n\u001b[1;32m     11\u001b[0m     \u001b[39mself\u001b[39m\u001b[39m.\u001b[39mdata_path_override \u001b[39m=\u001b[39m data_path_override\n",
      "File \u001b[0;32m/project/6054398/mklasby/condensed-sparsity/src/rigl_torch/datasets/_data_stem.py:25\u001b[0m, in \u001b[0;36mABCDataStem.initalize_from_cfg\u001b[0;34m(self)\u001b[0m\n\u001b[1;32m     23\u001b[0m     \u001b[39mself\u001b[39m\u001b[39m.\u001b[39mtrain_kwargs\u001b[39m.\u001b[39mupdate(\u001b[39mself\u001b[39m\u001b[39m.\u001b[39mcfg\u001b[39m.\u001b[39mcompute\u001b[39m.\u001b[39mcuda_kwargs)\n\u001b[1;32m     24\u001b[0m     \u001b[39mself\u001b[39m\u001b[39m.\u001b[39mtest_kwargs\u001b[39m.\u001b[39mupdate(\u001b[39mself\u001b[39m\u001b[39m.\u001b[39mcfg\u001b[39m.\u001b[39mcompute\u001b[39m.\u001b[39mcuda_kwargs)\n\u001b[0;32m---> 25\u001b[0m \u001b[39mif\u001b[39;00m \u001b[39mself\u001b[39;49m\u001b[39m.\u001b[39;49mdata_root \u001b[39mis\u001b[39;00m \u001b[39mnot\u001b[39;00m \u001b[39mNone\u001b[39;00m:\n\u001b[1;32m     26\u001b[0m     \u001b[39mself\u001b[39m\u001b[39m.\u001b[39mdata_path \u001b[39m=\u001b[39m \u001b[39mself\u001b[39m\u001b[39m.\u001b[39mdata_path_override\n\u001b[1;32m     27\u001b[0m \u001b[39melse\u001b[39;00m:\n",
      "\u001b[0;31mAttributeError\u001b[0m: 'ImageNetDataStem' object has no attribute 'data_root'"
     ]
    }
   ],
   "source": [
    "train_loader, test_loader = get_dataloaders(cfg)"
   ]
  }
 ],
 "metadata": {
  "kernelspec": {
   "display_name": "Python 3.8.10 ('.venv': venv)",
   "language": "python",
   "name": "python3"
  },
  "language_info": {
   "codemirror_mode": {
    "name": "ipython",
    "version": 3
   },
   "file_extension": ".py",
   "mimetype": "text/x-python",
   "name": "python",
   "nbconvert_exporter": "python",
   "pygments_lexer": "ipython3",
   "version": "3.8.10"
  },
  "orig_nbformat": 4,
  "vscode": {
   "interpreter": {
    "hash": "3048c034334543d4ee86da410acdb4bca653f21fb3aaa9f7e0605787389cbd5e"
   }
  }
 },
 "nbformat": 4,
 "nbformat_minor": 2
}
