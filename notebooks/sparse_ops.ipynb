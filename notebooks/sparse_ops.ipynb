{
 "cells": [
  {
   "cell_type": "code",
   "execution_count": 1,
   "metadata": {},
   "outputs": [],
   "source": [
    "import torch\n",
    "import torch.nn.functional as F\n",
    "import torch.nn as nn\n",
    "import torch.sparse as sparse"
   ]
  },
  {
   "cell_type": "code",
   "execution_count": 2,
   "metadata": {},
   "outputs": [
    {
     "data": {
      "text/plain": [
       "Linear(in_features=1024, out_features=1000, bias=True)"
      ]
     },
     "execution_count": 2,
     "metadata": {},
     "output_type": "execute_result"
    }
   ],
   "source": [
    "dense_linear = nn.Linear(1024, 1000)\n",
    "sparse_linear = nn.Linear(1024, 1000)\n",
    "dense_linear"
   ]
  },
  {
   "cell_type": "code",
   "execution_count": 3,
   "metadata": {},
   "outputs": [
    {
     "data": {
      "text/plain": [
       "tensor(1024000)"
      ]
     },
     "execution_count": 3,
     "metadata": {},
     "output_type": "execute_result"
    }
   ],
   "source": [
    "torch.count_nonzero(sparse_linear.weight)"
   ]
  },
  {
   "cell_type": "code",
   "execution_count": 4,
   "metadata": {},
   "outputs": [
    {
     "name": "stdout",
     "output_type": "stream",
     "text": [
      "torch.Size([1000, 1024])\n",
      "torch.Size([1000, 1024])\n"
     ]
    }
   ],
   "source": [
    "sparsity=0.99\n",
    "idx = torch.randperm(n=sparse_linear.weight.numel())\n",
    "non_zero_idx = idx[int(len(idx)*(1-0.99)):]\n",
    "with torch.no_grad():\n",
    "    \n",
    "    w = sparse_linear.weight\n",
    "    w  = w.flatten()\n",
    "    print(sparse_linear.weight.shape)\n",
    "    w[non_zero_idx]=0\n",
    "    w = w.reshape(dense_linear.weight.shape)\n",
    "    print(sparse_linear.weight.shape)\n",
    "\n",
    "\n",
    "\n"
   ]
  },
  {
   "cell_type": "code",
   "execution_count": 5,
   "metadata": {},
   "outputs": [
    {
     "name": "stdout",
     "output_type": "stream",
     "text": [
      "0:00:00.055601\n"
     ]
    }
   ],
   "source": [
    "from datetime import datetime\n",
    "input = torch.rand(size=(64, 1024))\n",
    "\n",
    "with torch.no_grad():\n",
    "    start = datetime.now()\n",
    "    for _ in range(100):\n",
    "        dense_linear(input)\n",
    "    end = datetime.now() - start\n",
    "    print(end)\n",
    "    "
   ]
  },
  {
   "cell_type": "code",
   "execution_count": 40,
   "metadata": {},
   "outputs": [
    {
     "data": {
      "text/plain": [
       "torch.Size([1000, 1024])"
      ]
     },
     "execution_count": 40,
     "metadata": {},
     "output_type": "execute_result"
    }
   ],
   "source": [
    "dense_linear.weight.shape"
   ]
  },
  {
   "cell_type": "code",
   "execution_count": 41,
   "metadata": {},
   "outputs": [
    {
     "data": {
      "text/plain": [
       "torch.Size([64, 1024])"
      ]
     },
     "execution_count": 41,
     "metadata": {},
     "output_type": "execute_result"
    }
   ],
   "source": [
    "input.shape"
   ]
  },
  {
   "cell_type": "code",
   "execution_count": 45,
   "metadata": {},
   "outputs": [
    {
     "data": {
      "text/plain": [
       "torch.Size([64, 1000])"
      ]
     },
     "execution_count": 45,
     "metadata": {},
     "output_type": "execute_result"
    }
   ],
   "source": [
    "(input@dense_linear.weight.T).shape"
   ]
  },
  {
   "cell_type": "code",
   "execution_count": 84,
   "metadata": {},
   "outputs": [
    {
     "data": {
      "text/plain": [
       "tensor([[0., 0., 0.,  ..., 0., 0., 0.],\n",
       "        [0., 0., 0.,  ..., 0., 0., 0.],\n",
       "        [0., 0., 0.,  ..., 0., 0., 0.],\n",
       "        ...,\n",
       "        [0., 0., 0.,  ..., 0., 0., 0.],\n",
       "        [0., 0., 0.,  ..., 0., 0., 0.],\n",
       "        [0., 0., 0.,  ..., 0., 0., 0.]])"
      ]
     },
     "execution_count": 84,
     "metadata": {},
     "output_type": "execute_result"
    }
   ],
   "source": [
    "sparse_linear.weight.data.T"
   ]
  },
  {
   "cell_type": "code",
   "execution_count": 108,
   "metadata": {},
   "outputs": [],
   "source": [
    "import copy\n",
    "class SparseLinear(nn.Module):\n",
    "    \n",
    "    def __init__(self, linear_layer, bs):   \n",
    "        super().__init__()\n",
    "        self.weights = linear_layer.weight.T.to_sparse_coo()\n",
    "        # self.weights = copy.deepcopy(linear_layer.weight.T.to_sparse_coo())\n",
    "        self.bias = nn.Parameter(linear_layer.bias.expand(size=(bs, *linear_layer.bias.shape)))\n",
    "        # self.bias = linear_layer.bias\n",
    "\n",
    "    \n",
    "    def forward(self, x):\n",
    "        return self.bias + torch.mm(x, self.weights)"
   ]
  },
  {
   "cell_type": "code",
   "execution_count": 109,
   "metadata": {},
   "outputs": [
    {
     "data": {
      "text/plain": [
       "tensor([[-0.0738, -0.0234,  0.0346,  ..., -0.0094,  0.0154, -0.0011],\n",
       "        [-0.1085,  0.0009,  0.0709,  ..., -0.0308,  0.0147,  0.0152],\n",
       "        [-0.0445,  0.0006,  0.0638,  ..., -0.0376,  0.0010, -0.0057],\n",
       "        ...,\n",
       "        [-0.1035,  0.0213,  0.0500,  ...,  0.0013,  0.0042,  0.0554],\n",
       "        [-0.0812,  0.0079,  0.0342,  ..., -0.0241, -0.0153,  0.0018],\n",
       "        [-0.0975,  0.0019,  0.0885,  ..., -0.0015, -0.0043,  0.0365]],\n",
       "       grad_fn=<AddBackward0>)"
      ]
     },
     "execution_count": 109,
     "metadata": {},
     "output_type": "execute_result"
    }
   ],
   "source": [
    "sl.bias  + (input_sparse @ sl.weights)"
   ]
  },
  {
   "cell_type": "code",
   "execution_count": 110,
   "metadata": {},
   "outputs": [
    {
     "name": "stdout",
     "output_type": "stream",
     "text": [
      "0:00:00.544879\n",
      "<class 'torch.Tensor'>\n"
     ]
    }
   ],
   "source": [
    "input = torch.rand(size=(64, 1024))\n",
    "input_sparse = input.to_sparse_coo()\n",
    "with torch.no_grad():\n",
    "    sl = SparseLinear(sparse_linear, bs=64)\n",
    "    start = datetime.now()\n",
    "    for _ in range(100):\n",
    "        out = sl(input_sparse)\n",
    "    end = datetime.now() - start\n",
    "    print(end)\n",
    "out.shape\n",
    "print(type(out))"
   ]
  },
  {
   "cell_type": "code",
   "execution_count": 20,
   "metadata": {},
   "outputs": [],
   "source": [
    "with torch.no_grad():\n",
    "    input.to_sparse_coo() @ sparse_linear.weight.T.to_sparse_coo()"
   ]
  },
  {
   "cell_type": "code",
   "execution_count": 10,
   "metadata": {},
   "outputs": [
    {
     "data": {
      "text/plain": [
       "torch.Size([3, 2])"
      ]
     },
     "execution_count": 10,
     "metadata": {},
     "output_type": "execute_result"
    }
   ],
   "source": [
    "w = torch.tensor(\n",
    "        [\n",
    "            [\n",
    "                1,2,3\n",
    "            ],\n",
    "            [\n",
    "                4,5,6,\n",
    "            ],\n",
    "        ]\n",
    "    )\n",
    "w.shape\n",
    "x = torch.tensor([[1,2],[3,4],[5,6],])\n",
    "x.shape"
   ]
  }
 ],
 "metadata": {
  "kernelspec": {
   "display_name": ".venv",
   "language": "python",
   "name": "python3"
  },
  "language_info": {
   "codemirror_mode": {
    "name": "ipython",
    "version": 3
   },
   "file_extension": ".py",
   "mimetype": "text/x-python",
   "name": "python",
   "nbconvert_exporter": "python",
   "pygments_lexer": "ipython3",
   "version": "3.10.8"
  },
  "orig_nbformat": 4,
  "vscode": {
   "interpreter": {
    "hash": "816b48dc46e0e4033a4b7ddacb526e2f216437e7413cf9fdf092ed7be3b64e38"
   }
  }
 },
 "nbformat": 4,
 "nbformat_minor": 2
}
